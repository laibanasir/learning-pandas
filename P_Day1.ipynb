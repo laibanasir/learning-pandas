{
  "nbformat": 4,
  "nbformat_minor": 0,
  "metadata": {
    "colab": {
      "name": "P-Day1.ipynb",
      "provenance": [],
      "collapsed_sections": []
    },
    "kernelspec": {
      "name": "python3",
      "display_name": "Python 3"
    }
  },
  "cells": [
    {
      "cell_type": "code",
      "metadata": {
        "id": "qXJnv3Hwa2sw",
        "colab_type": "code",
        "colab": {}
      },
      "source": [
        "import pandas as pd"
      ],
      "execution_count": 0,
      "outputs": []
    },
    {
      "cell_type": "markdown",
      "metadata": {
        "id": "EXJHvL-ZbC5l",
        "colab_type": "text"
      },
      "source": [
        "#Introduction to Pandas"
      ]
    },
    {
      "cell_type": "markdown",
      "metadata": {
        "id": "POxm699ObBJ9",
        "colab_type": "text"
      },
      "source": [
        "###Panda Data Structures , Series & DataFrame\n",
        "Data structure is the arrangement of data <br>\n",
        "Series is a sequence of numbers <br>"
      ]
    },
    {
      "cell_type": "markdown",
      "metadata": {
        "id": "AgclDfJkbmJD",
        "colab_type": "text"
      },
      "source": [
        "###Series\n",
        "pandas provide indexing with the series <br>\n",
        "s1 is called the Pandas Series object <br>\n",
        "0-9 is the default index given by the series object <br>\n"
      ]
    },
    {
      "cell_type": "code",
      "metadata": {
        "id": "P5xfCdLha7K2",
        "colab_type": "code",
        "outputId": "6c616523-2497-45ae-e9a8-030ca22da7f9",
        "colab": {
          "base_uri": "https://localhost:8080/",
          "height": 193
        }
      },
      "source": [
        "s1 = pd.Series([11,22,33,44,55,66,77,88,99,10])\n",
        "s1                        #Pandas Series Object"
      ],
      "execution_count": 0,
      "outputs": [
        {
          "output_type": "execute_result",
          "data": {
            "text/plain": [
              "0    11\n",
              "1    22\n",
              "2    33\n",
              "3    44\n",
              "4    55\n",
              "5    66\n",
              "6    77\n",
              "7    88\n",
              "8    99\n",
              "dtype: int64"
            ]
          },
          "metadata": {
            "tags": []
          },
          "execution_count": 3
        }
      ]
    },
    {
      "cell_type": "markdown",
      "metadata": {
        "id": "CCV5sszgcSay",
        "colab_type": "text"
      },
      "source": [
        "###accessing value by index\n",
        "Series object[index]"
      ]
    },
    {
      "cell_type": "code",
      "metadata": {
        "id": "nrAXQO5wcXOt",
        "colab_type": "code",
        "outputId": "a613df73-5399-4a05-99b6-7676084c0084",
        "colab": {
          "base_uri": "https://localhost:8080/",
          "height": 34
        }
      },
      "source": [
        "s1[3]             "
      ],
      "execution_count": 0,
      "outputs": [
        {
          "output_type": "execute_result",
          "data": {
            "text/plain": [
              "44"
            ]
          },
          "metadata": {
            "tags": []
          },
          "execution_count": 5
        }
      ]
    },
    {
      "cell_type": "markdown",
      "metadata": {
        "id": "KtoqVH30cj7d",
        "colab_type": "text"
      },
      "source": [
        "###fancy indexing \n",
        "Series object[[list of indexes]]"
      ]
    },
    {
      "cell_type": "code",
      "metadata": {
        "id": "eykFKxBhcmr1",
        "colab_type": "code",
        "outputId": "7a421091-486b-473f-afbf-2cc7dfa53b04",
        "colab": {
          "base_uri": "https://localhost:8080/",
          "height": 122
        }
      },
      "source": [
        "s1[[1,2,4,7,8]]"
      ],
      "execution_count": 0,
      "outputs": [
        {
          "output_type": "execute_result",
          "data": {
            "text/plain": [
              "1    22\n",
              "2    33\n",
              "4    55\n",
              "7    88\n",
              "8    99\n",
              "dtype: int64"
            ]
          },
          "metadata": {
            "tags": []
          },
          "execution_count": 7
        }
      ]
    },
    {
      "cell_type": "markdown",
      "metadata": {
        "id": "5BiT1YDqc6kS",
        "colab_type": "text"
      },
      "source": [
        "###modifying values\n",
        "Series object[index] = new value"
      ]
    },
    {
      "cell_type": "code",
      "metadata": {
        "id": "1dfqxgiqc8qi",
        "colab_type": "code",
        "outputId": "d0c54f9f-386d-4738-fe05-5153fa8e4bea",
        "colab": {
          "base_uri": "https://localhost:8080/",
          "height": 193
        }
      },
      "source": [
        "s1[5] = 23          #modifying values in series\n",
        "s1"
      ],
      "execution_count": 0,
      "outputs": [
        {
          "output_type": "execute_result",
          "data": {
            "text/plain": [
              "0    11\n",
              "1    22\n",
              "2    33\n",
              "3    44\n",
              "4    55\n",
              "5    23\n",
              "6    77\n",
              "7    88\n",
              "8    99\n",
              "dtype: int64"
            ]
          },
          "metadata": {
            "tags": []
          },
          "execution_count": 8
        }
      ]
    },
    {
      "cell_type": "markdown",
      "metadata": {
        "id": "QLCxTMuHdmRV",
        "colab_type": "text"
      },
      "source": [
        "####modifying multiple values\n",
        "series object[[list of indexes]] = [new values]"
      ]
    },
    {
      "cell_type": "code",
      "metadata": {
        "id": "3dSzCJBpdrV4",
        "colab_type": "code",
        "outputId": "a0422c08-0445-4fde-db9f-4ef239691e64",
        "colab": {
          "base_uri": "https://localhost:8080/",
          "height": 175
        }
      },
      "source": [
        "s1[[2,3,4,6]] = [222,333,444,555]\n",
        "s1"
      ],
      "execution_count": 0,
      "outputs": [
        {
          "output_type": "execute_result",
          "data": {
            "text/plain": [
              "0     11\n",
              "1     22\n",
              "2    222\n",
              "3    333\n",
              "4    444\n",
              "6    555\n",
              "7     88\n",
              "8     99\n",
              "dtype: int64"
            ]
          },
          "metadata": {
            "tags": []
          },
          "execution_count": 10
        }
      ]
    },
    {
      "cell_type": "markdown",
      "metadata": {
        "id": "dHA3-rjydH2N",
        "colab_type": "text"
      },
      "source": [
        "###deleting values\n",
        "del series object[index]"
      ]
    },
    {
      "cell_type": "code",
      "metadata": {
        "id": "2eC1svZddKJs",
        "colab_type": "code",
        "outputId": "6eee3b5a-b51b-4bdf-c20e-b4c3ec079c24",
        "colab": {
          "base_uri": "https://localhost:8080/",
          "height": 175
        }
      },
      "source": [
        "del s1[5]         #deleting a value \n",
        "s1"
      ],
      "execution_count": 0,
      "outputs": [
        {
          "output_type": "execute_result",
          "data": {
            "text/plain": [
              "0    11\n",
              "1    22\n",
              "2    33\n",
              "3    44\n",
              "4    55\n",
              "6    77\n",
              "7    88\n",
              "8    99\n",
              "dtype: int64"
            ]
          },
          "metadata": {
            "tags": []
          },
          "execution_count": 9
        }
      ]
    },
    {
      "cell_type": "markdown",
      "metadata": {
        "id": "tQCYOiLsdaXv",
        "colab_type": "text"
      },
      "source": [
        "###inserting values\n",
        "series object[new index] = value\n"
      ]
    },
    {
      "cell_type": "code",
      "metadata": {
        "id": "1csO6mUceKR9",
        "colab_type": "code",
        "outputId": "904e9569-4d1c-405a-a6e9-6f2c0ae8dc95",
        "colab": {
          "base_uri": "https://localhost:8080/",
          "height": 193
        }
      },
      "source": [
        "s1[20] = 33\n",
        "s1"
      ],
      "execution_count": 0,
      "outputs": [
        {
          "output_type": "execute_result",
          "data": {
            "text/plain": [
              "0      11\n",
              "1      22\n",
              "2     222\n",
              "3     333\n",
              "4     444\n",
              "6     555\n",
              "7      88\n",
              "8      99\n",
              "20     33\n",
              "dtype: int64"
            ]
          },
          "metadata": {
            "tags": []
          },
          "execution_count": 12
        }
      ]
    },
    {
      "cell_type": "markdown",
      "metadata": {
        "id": "j7S08yI2fR4T",
        "colab_type": "text"
      },
      "source": [
        "###custom indexs"
      ]
    },
    {
      "cell_type": "code",
      "metadata": {
        "id": "JtwvighUgvso",
        "colab_type": "code",
        "outputId": "814da3e9-a7a2-4372-a692-17615496e70f",
        "colab": {
          "base_uri": "https://localhost:8080/",
          "height": 140
        }
      },
      "source": [
        "s2 = pd.Series([1,11,111,111], index = ['oranges', 'apples', 'mangoes', 'watermelons'])\n",
        "print(s2.index)\n",
        "print(s2.values)\n",
        "print(s2)"
      ],
      "execution_count": 0,
      "outputs": [
        {
          "output_type": "stream",
          "text": [
            "Index(['oranges', 'apples', 'mangoes', 'watermelons'], dtype='object')\n",
            "[  1  11 111 111]\n",
            "oranges          1\n",
            "apples          11\n",
            "mangoes        111\n",
            "watermelons    111\n",
            "dtype: int64\n"
          ],
          "name": "stdout"
        }
      ]
    },
    {
      "cell_type": "code",
      "metadata": {
        "id": "7_gLRChphutd",
        "colab_type": "code",
        "outputId": "cf07b925-ee23-4adb-bc55-da569f7dac71",
        "colab": {
          "base_uri": "https://localhost:8080/",
          "height": 105
        }
      },
      "source": [
        "ourIndex = ['oranges', 'apples', 'mangoes', 'watermelons']\n",
        "s2 = pd.Series([1,11,111,111], index = ourIndex)\n",
        "s2"
      ],
      "execution_count": 0,
      "outputs": [
        {
          "output_type": "execute_result",
          "data": {
            "text/plain": [
              "oranges          1\n",
              "apples          11\n",
              "mangoes        111\n",
              "watermelons    111\n",
              "dtype: int64"
            ]
          },
          "metadata": {
            "tags": []
          },
          "execution_count": 16
        }
      ]
    },
    {
      "cell_type": "markdown",
      "metadata": {
        "id": "XUbH8W5AhUOF",
        "colab_type": "text"
      },
      "source": [
        "###Conditional operators"
      ]
    },
    {
      "cell_type": "code",
      "metadata": {
        "id": "ydnE2QeVhUZ6",
        "colab_type": "code",
        "outputId": "312c1c78-6a1a-4745-dbc7-e9bf49465edf",
        "colab": {
          "base_uri": "https://localhost:8080/",
          "height": 105
        }
      },
      "source": [
        "s2>30"
      ],
      "execution_count": 0,
      "outputs": [
        {
          "output_type": "execute_result",
          "data": {
            "text/plain": [
              "oranges        False\n",
              "apples         False\n",
              "mangoes         True\n",
              "watermelons     True\n",
              "dtype: bool"
            ]
          },
          "metadata": {
            "tags": []
          },
          "execution_count": 17
        }
      ]
    },
    {
      "cell_type": "code",
      "metadata": {
        "id": "_F3voUp4jQ_P",
        "colab_type": "code",
        "outputId": "2320efba-8405-4e7c-f1c9-2958d2aa8535",
        "colab": {
          "base_uri": "https://localhost:8080/",
          "height": 70
        }
      },
      "source": [
        "s2[s2>30]"
      ],
      "execution_count": 0,
      "outputs": [
        {
          "output_type": "execute_result",
          "data": {
            "text/plain": [
              "mangoes        111\n",
              "watermelons    111\n",
              "dtype: int64"
            ]
          },
          "metadata": {
            "tags": []
          },
          "execution_count": 18
        }
      ]
    },
    {
      "cell_type": "code",
      "metadata": {
        "id": "L31UeVg4jh-M",
        "colab_type": "code",
        "outputId": "353f2a18-ba8b-48bf-e930-c4dfc0cf30ed",
        "colab": {
          "base_uri": "https://localhost:8080/",
          "height": 105
        }
      },
      "source": [
        "s2<30"
      ],
      "execution_count": 0,
      "outputs": [
        {
          "output_type": "execute_result",
          "data": {
            "text/plain": [
              "oranges         True\n",
              "apples          True\n",
              "mangoes        False\n",
              "watermelons    False\n",
              "dtype: bool"
            ]
          },
          "metadata": {
            "tags": []
          },
          "execution_count": 20
        }
      ]
    },
    {
      "cell_type": "code",
      "metadata": {
        "id": "PVXAzOOhjUfk",
        "colab_type": "code",
        "outputId": "4de2df93-32e7-412c-91c6-2c2dfed1b391",
        "colab": {
          "base_uri": "https://localhost:8080/",
          "height": 70
        }
      },
      "source": [
        "s2[s2<30]"
      ],
      "execution_count": 0,
      "outputs": [
        {
          "output_type": "execute_result",
          "data": {
            "text/plain": [
              "oranges     1\n",
              "apples     11\n",
              "dtype: int64"
            ]
          },
          "metadata": {
            "tags": []
          },
          "execution_count": 19
        }
      ]
    },
    {
      "cell_type": "code",
      "metadata": {
        "id": "gh6aXxgHkJiR",
        "colab_type": "code",
        "outputId": "28c260d0-3bf3-49fd-a654-90fe75c17ca6",
        "colab": {
          "base_uri": "https://localhost:8080/",
          "height": 34
        }
      },
      "source": [
        "'oranges' in s2"
      ],
      "execution_count": 0,
      "outputs": [
        {
          "output_type": "execute_result",
          "data": {
            "text/plain": [
              "True"
            ]
          },
          "metadata": {
            "tags": []
          },
          "execution_count": 21
        }
      ]
    },
    {
      "cell_type": "code",
      "metadata": {
        "id": "3gz_W699kkKA",
        "colab_type": "code",
        "outputId": "453ccca8-0053-49fc-b068-febad04ac90e",
        "colab": {
          "base_uri": "https://localhost:8080/",
          "height": 34
        }
      },
      "source": [
        "'peaches' in s2"
      ],
      "execution_count": 0,
      "outputs": [
        {
          "output_type": "execute_result",
          "data": {
            "text/plain": [
              "False"
            ]
          },
          "metadata": {
            "tags": []
          },
          "execution_count": 22
        }
      ]
    },
    {
      "cell_type": "markdown",
      "metadata": {
        "id": "NWgPenbDknTL",
        "colab_type": "text"
      },
      "source": [
        "###creating a series using dictionary  "
      ]
    },
    {
      "cell_type": "code",
      "metadata": {
        "id": "p0OqdoxdktoR",
        "colab_type": "code",
        "outputId": "42c3f095-efb4-4146-ef5e-73c8360068ad",
        "colab": {
          "base_uri": "https://localhost:8080/",
          "height": 105
        }
      },
      "source": [
        "sdata = {'roma' : 1000, \"lyma\" : 2000, \"leej\" : 3000, \"sera\" : 4000}\n",
        "data = pd.Series(sdata)\n",
        "data"
      ],
      "execution_count": 0,
      "outputs": [
        {
          "output_type": "execute_result",
          "data": {
            "text/plain": [
              "roma    1000\n",
              "lyma    2000\n",
              "leej    3000\n",
              "sera    4000\n",
              "dtype: int64"
            ]
          },
          "metadata": {
            "tags": []
          },
          "execution_count": 23
        }
      ]
    },
    {
      "cell_type": "code",
      "metadata": {
        "id": "HH4wvbUnl6lW",
        "colab_type": "code",
        "outputId": "8b36f8de-0a19-428e-913e-702771a934f9",
        "colab": {
          "base_uri": "https://localhost:8080/",
          "height": 140
        }
      },
      "source": [
        "names = ['lyma','leej','sera','roma','susu','baidar']\n",
        "data1 = pd.Series(sdata, index = names)\n",
        "data1"
      ],
      "execution_count": 0,
      "outputs": [
        {
          "output_type": "execute_result",
          "data": {
            "text/plain": [
              "lyma      2000.0\n",
              "leej      3000.0\n",
              "sera      4000.0\n",
              "roma      1000.0\n",
              "susu         NaN\n",
              "baidar       NaN\n",
              "dtype: float64"
            ]
          },
          "metadata": {
            "tags": []
          },
          "execution_count": 29
        }
      ]
    },
    {
      "cell_type": "code",
      "metadata": {
        "id": "metACyvbmVi1",
        "colab_type": "code",
        "outputId": "5123449f-d928-4649-ba6f-b00bec2e5e3a",
        "colab": {
          "base_uri": "https://localhost:8080/",
          "height": 140
        }
      },
      "source": [
        "data1['susu'] = 5000\n",
        "data1"
      ],
      "execution_count": 0,
      "outputs": [
        {
          "output_type": "execute_result",
          "data": {
            "text/plain": [
              "lyma      2000.0\n",
              "leej      3000.0\n",
              "sera      4000.0\n",
              "roma      1000.0\n",
              "susu      5000.0\n",
              "baidar       NaN\n",
              "dtype: float64"
            ]
          },
          "metadata": {
            "tags": []
          },
          "execution_count": 30
        }
      ]
    },
    {
      "cell_type": "markdown",
      "metadata": {
        "id": "7sYN-DGwnuS5",
        "colab_type": "text"
      },
      "source": [
        "###isnull "
      ]
    },
    {
      "cell_type": "code",
      "metadata": {
        "id": "R6RP8_wSnn6g",
        "colab_type": "code",
        "outputId": "609450ad-6fe0-46a5-f9b0-712ce3a74e1d",
        "colab": {
          "base_uri": "https://localhost:8080/",
          "height": 140
        }
      },
      "source": [
        "data1.isnull()"
      ],
      "execution_count": 0,
      "outputs": [
        {
          "output_type": "execute_result",
          "data": {
            "text/plain": [
              "lyma      False\n",
              "leej      False\n",
              "sera      False\n",
              "roma      False\n",
              "susu      False\n",
              "baidar     True\n",
              "dtype: bool"
            ]
          },
          "metadata": {
            "tags": []
          },
          "execution_count": 32
        }
      ]
    },
    {
      "cell_type": "code",
      "metadata": {
        "id": "wwwq0EvlnxiF",
        "colab_type": "code",
        "outputId": "bea072d6-339f-4877-e2d9-e483f63e57cb",
        "colab": {
          "base_uri": "https://localhost:8080/",
          "height": 140
        }
      },
      "source": [
        "data1.notnull()"
      ],
      "execution_count": 0,
      "outputs": [
        {
          "output_type": "execute_result",
          "data": {
            "text/plain": [
              "lyma       True\n",
              "leej       True\n",
              "sera       True\n",
              "roma       True\n",
              "susu       True\n",
              "baidar    False\n",
              "dtype: bool"
            ]
          },
          "metadata": {
            "tags": []
          },
          "execution_count": 34
        }
      ]
    },
    {
      "cell_type": "markdown",
      "metadata": {
        "id": "czWP_m7Jn_xb",
        "colab_type": "text"
      },
      "source": [
        "##DataFrame\n",
        "represents a rectangular table of data & contains an ordered collections of columns, each of which can be a different value type (numeric, string, boolean, etc)"
      ]
    },
    {
      "cell_type": "code",
      "metadata": {
        "id": "jY_JAz3boENi",
        "colab_type": "code",
        "outputId": "7ff6d2a6-dd7f-45fc-f3ba-fe1a8dfb1516",
        "colab": {
          "base_uri": "https://localhost:8080/",
          "height": 166
        }
      },
      "source": [
        "data = {'city' : ['toronto','dc','dammam','new york'],\n",
        "       'year' : [2000, 2001, 2002, 2003],\n",
        "       'pop' : [1.5, 1.7, 1.9, 2.0]}\n",
        "df1 = pd.DataFrame(data)\n",
        "df1"
      ],
      "execution_count": 0,
      "outputs": [
        {
          "output_type": "execute_result",
          "data": {
            "text/html": [
              "<div>\n",
              "<style scoped>\n",
              "    .dataframe tbody tr th:only-of-type {\n",
              "        vertical-align: middle;\n",
              "    }\n",
              "\n",
              "    .dataframe tbody tr th {\n",
              "        vertical-align: top;\n",
              "    }\n",
              "\n",
              "    .dataframe thead th {\n",
              "        text-align: right;\n",
              "    }\n",
              "</style>\n",
              "<table border=\"1\" class=\"dataframe\">\n",
              "  <thead>\n",
              "    <tr style=\"text-align: right;\">\n",
              "      <th></th>\n",
              "      <th>city</th>\n",
              "      <th>year</th>\n",
              "      <th>pop</th>\n",
              "    </tr>\n",
              "  </thead>\n",
              "  <tbody>\n",
              "    <tr>\n",
              "      <th>0</th>\n",
              "      <td>toronto</td>\n",
              "      <td>2000</td>\n",
              "      <td>1.5</td>\n",
              "    </tr>\n",
              "    <tr>\n",
              "      <th>1</th>\n",
              "      <td>dc</td>\n",
              "      <td>2001</td>\n",
              "      <td>1.7</td>\n",
              "    </tr>\n",
              "    <tr>\n",
              "      <th>2</th>\n",
              "      <td>dammam</td>\n",
              "      <td>2002</td>\n",
              "      <td>1.9</td>\n",
              "    </tr>\n",
              "    <tr>\n",
              "      <th>3</th>\n",
              "      <td>new york</td>\n",
              "      <td>2003</td>\n",
              "      <td>2.0</td>\n",
              "    </tr>\n",
              "  </tbody>\n",
              "</table>\n",
              "</div>"
            ],
            "text/plain": [
              "       city  year  pop\n",
              "0   toronto  2000  1.5\n",
              "1        dc  2001  1.7\n",
              "2    dammam  2002  1.9\n",
              "3  new york  2003  2.0"
            ]
          },
          "metadata": {
            "tags": []
          },
          "execution_count": 35
        }
      ]
    },
    {
      "cell_type": "code",
      "metadata": {
        "id": "hSbi6rffs0XO",
        "colab_type": "code",
        "outputId": "da21ac48-9905-45a3-8d8e-9ff033a75bb6",
        "colab": {
          "base_uri": "https://localhost:8080/",
          "height": 254
        }
      },
      "source": [
        "data1 = {'blood group' : ['O', 'A', 'B', 'A+', 'A-', 'B+','B-'],\n",
        "        '# of donators': [56, 70, 12, 3, 10, 23, 89],\n",
        "        '# required' : [67, 89, 12, 2, 5, 78, 12]}\n",
        "df2 = pd.DataFrame(data1, index = ['one', 'two', 'three', 'four', 'five', 'six', 'seven'])\n",
        "df2"
      ],
      "execution_count": 0,
      "outputs": [
        {
          "output_type": "execute_result",
          "data": {
            "text/html": [
              "<div>\n",
              "<style scoped>\n",
              "    .dataframe tbody tr th:only-of-type {\n",
              "        vertical-align: middle;\n",
              "    }\n",
              "\n",
              "    .dataframe tbody tr th {\n",
              "        vertical-align: top;\n",
              "    }\n",
              "\n",
              "    .dataframe thead th {\n",
              "        text-align: right;\n",
              "    }\n",
              "</style>\n",
              "<table border=\"1\" class=\"dataframe\">\n",
              "  <thead>\n",
              "    <tr style=\"text-align: right;\">\n",
              "      <th></th>\n",
              "      <th>blood group</th>\n",
              "      <th># of donators</th>\n",
              "      <th># required</th>\n",
              "    </tr>\n",
              "  </thead>\n",
              "  <tbody>\n",
              "    <tr>\n",
              "      <th>one</th>\n",
              "      <td>O</td>\n",
              "      <td>56</td>\n",
              "      <td>67</td>\n",
              "    </tr>\n",
              "    <tr>\n",
              "      <th>two</th>\n",
              "      <td>A</td>\n",
              "      <td>70</td>\n",
              "      <td>89</td>\n",
              "    </tr>\n",
              "    <tr>\n",
              "      <th>three</th>\n",
              "      <td>B</td>\n",
              "      <td>12</td>\n",
              "      <td>12</td>\n",
              "    </tr>\n",
              "    <tr>\n",
              "      <th>four</th>\n",
              "      <td>A+</td>\n",
              "      <td>3</td>\n",
              "      <td>2</td>\n",
              "    </tr>\n",
              "    <tr>\n",
              "      <th>five</th>\n",
              "      <td>A-</td>\n",
              "      <td>10</td>\n",
              "      <td>5</td>\n",
              "    </tr>\n",
              "    <tr>\n",
              "      <th>six</th>\n",
              "      <td>B+</td>\n",
              "      <td>23</td>\n",
              "      <td>78</td>\n",
              "    </tr>\n",
              "    <tr>\n",
              "      <th>seven</th>\n",
              "      <td>B-</td>\n",
              "      <td>89</td>\n",
              "      <td>12</td>\n",
              "    </tr>\n",
              "  </tbody>\n",
              "</table>\n",
              "</div>"
            ],
            "text/plain": [
              "      blood group  # of donators  # required\n",
              "one             O             56          67\n",
              "two             A             70          89\n",
              "three           B             12          12\n",
              "four           A+              3           2\n",
              "five           A-             10           5\n",
              "six            B+             23          78\n",
              "seven          B-             89          12"
            ]
          },
          "metadata": {
            "tags": []
          },
          "execution_count": 40
        }
      ]
    },
    {
      "cell_type": "code",
      "metadata": {
        "id": "SCE_NqmDuFXw",
        "colab_type": "code",
        "outputId": "f63d198a-7bc8-46f9-ecc7-6e0066c334eb",
        "colab": {
          "base_uri": "https://localhost:8080/",
          "height": 34
        }
      },
      "source": [
        "type(df2)"
      ],
      "execution_count": 0,
      "outputs": [
        {
          "output_type": "execute_result",
          "data": {
            "text/plain": [
              "pandas.core.frame.DataFrame"
            ]
          },
          "metadata": {
            "tags": []
          },
          "execution_count": 41
        }
      ]
    },
    {
      "cell_type": "code",
      "metadata": {
        "id": "3osZQFkauMGb",
        "colab_type": "code",
        "outputId": "1e1a43a6-b0fb-4dad-aa3c-dfcfb1a302f7",
        "colab": {
          "base_uri": "https://localhost:8080/",
          "height": 34
        }
      },
      "source": [
        "df2.shape"
      ],
      "execution_count": 0,
      "outputs": [
        {
          "output_type": "execute_result",
          "data": {
            "text/plain": [
              "(7, 3)"
            ]
          },
          "metadata": {
            "tags": []
          },
          "execution_count": 42
        }
      ]
    },
    {
      "cell_type": "markdown",
      "metadata": {
        "id": "6QAhlm3dui4x",
        "colab_type": "text"
      },
      "source": [
        "##DataFrame slicing and indexing"
      ]
    },
    {
      "cell_type": "code",
      "metadata": {
        "id": "wOpR3TC0upHL",
        "colab_type": "code",
        "outputId": "a16968b8-5803-4999-b550-ed1556e1c760",
        "colab": {
          "base_uri": "https://localhost:8080/",
          "height": 158
        }
      },
      "source": [
        "df2['blood group']                                  #selecting single column by column header"
      ],
      "execution_count": 0,
      "outputs": [
        {
          "output_type": "execute_result",
          "data": {
            "text/plain": [
              "one       O\n",
              "two       A\n",
              "three     B\n",
              "four     A+\n",
              "five     A-\n",
              "six      B+\n",
              "seven    B-\n",
              "Name: blood group, dtype: object"
            ]
          },
          "metadata": {
            "tags": []
          },
          "execution_count": 45
        }
      ]
    },
    {
      "cell_type": "code",
      "metadata": {
        "id": "HxChyzUhu3JN",
        "colab_type": "code",
        "outputId": "d9d6febd-043a-4784-a0da-ad2d43ee5ef9",
        "colab": {
          "base_uri": "https://localhost:8080/",
          "height": 254
        }
      },
      "source": [
        "df2[['blood group', '# of donators']]               #selecting multiple columns by column headers"
      ],
      "execution_count": 0,
      "outputs": [
        {
          "output_type": "execute_result",
          "data": {
            "text/html": [
              "<div>\n",
              "<style scoped>\n",
              "    .dataframe tbody tr th:only-of-type {\n",
              "        vertical-align: middle;\n",
              "    }\n",
              "\n",
              "    .dataframe tbody tr th {\n",
              "        vertical-align: top;\n",
              "    }\n",
              "\n",
              "    .dataframe thead th {\n",
              "        text-align: right;\n",
              "    }\n",
              "</style>\n",
              "<table border=\"1\" class=\"dataframe\">\n",
              "  <thead>\n",
              "    <tr style=\"text-align: right;\">\n",
              "      <th></th>\n",
              "      <th>blood group</th>\n",
              "      <th># of donators</th>\n",
              "    </tr>\n",
              "  </thead>\n",
              "  <tbody>\n",
              "    <tr>\n",
              "      <th>one</th>\n",
              "      <td>O</td>\n",
              "      <td>56</td>\n",
              "    </tr>\n",
              "    <tr>\n",
              "      <th>two</th>\n",
              "      <td>A</td>\n",
              "      <td>70</td>\n",
              "    </tr>\n",
              "    <tr>\n",
              "      <th>three</th>\n",
              "      <td>B</td>\n",
              "      <td>12</td>\n",
              "    </tr>\n",
              "    <tr>\n",
              "      <th>four</th>\n",
              "      <td>A+</td>\n",
              "      <td>3</td>\n",
              "    </tr>\n",
              "    <tr>\n",
              "      <th>five</th>\n",
              "      <td>A-</td>\n",
              "      <td>10</td>\n",
              "    </tr>\n",
              "    <tr>\n",
              "      <th>six</th>\n",
              "      <td>B+</td>\n",
              "      <td>23</td>\n",
              "    </tr>\n",
              "    <tr>\n",
              "      <th>seven</th>\n",
              "      <td>B-</td>\n",
              "      <td>89</td>\n",
              "    </tr>\n",
              "  </tbody>\n",
              "</table>\n",
              "</div>"
            ],
            "text/plain": [
              "      blood group  # of donators\n",
              "one             O             56\n",
              "two             A             70\n",
              "three           B             12\n",
              "four           A+              3\n",
              "five           A-             10\n",
              "six            B+             23\n",
              "seven          B-             89"
            ]
          },
          "metadata": {
            "tags": []
          },
          "execution_count": 46
        }
      ]
    },
    {
      "cell_type": "markdown",
      "metadata": {
        "id": "TzuNpig3vsBB",
        "colab_type": "text"
      },
      "source": [
        "###deleting column"
      ]
    },
    {
      "cell_type": "code",
      "metadata": {
        "id": "oy3y7zDZvrJ1",
        "colab_type": "code",
        "outputId": "058d9afb-b093-4cf8-ea36-47e426947b59",
        "colab": {
          "base_uri": "https://localhost:8080/",
          "height": 254
        }
      },
      "source": [
        "del df2['blood group']\n",
        "df2"
      ],
      "execution_count": 0,
      "outputs": [
        {
          "output_type": "execute_result",
          "data": {
            "text/html": [
              "<div>\n",
              "<style scoped>\n",
              "    .dataframe tbody tr th:only-of-type {\n",
              "        vertical-align: middle;\n",
              "    }\n",
              "\n",
              "    .dataframe tbody tr th {\n",
              "        vertical-align: top;\n",
              "    }\n",
              "\n",
              "    .dataframe thead th {\n",
              "        text-align: right;\n",
              "    }\n",
              "</style>\n",
              "<table border=\"1\" class=\"dataframe\">\n",
              "  <thead>\n",
              "    <tr style=\"text-align: right;\">\n",
              "      <th></th>\n",
              "      <th># of donators</th>\n",
              "      <th># required</th>\n",
              "    </tr>\n",
              "  </thead>\n",
              "  <tbody>\n",
              "    <tr>\n",
              "      <th>one</th>\n",
              "      <td>56</td>\n",
              "      <td>67</td>\n",
              "    </tr>\n",
              "    <tr>\n",
              "      <th>two</th>\n",
              "      <td>70</td>\n",
              "      <td>89</td>\n",
              "    </tr>\n",
              "    <tr>\n",
              "      <th>three</th>\n",
              "      <td>12</td>\n",
              "      <td>12</td>\n",
              "    </tr>\n",
              "    <tr>\n",
              "      <th>four</th>\n",
              "      <td>3</td>\n",
              "      <td>2</td>\n",
              "    </tr>\n",
              "    <tr>\n",
              "      <th>five</th>\n",
              "      <td>10</td>\n",
              "      <td>5</td>\n",
              "    </tr>\n",
              "    <tr>\n",
              "      <th>six</th>\n",
              "      <td>23</td>\n",
              "      <td>78</td>\n",
              "    </tr>\n",
              "    <tr>\n",
              "      <th>seven</th>\n",
              "      <td>89</td>\n",
              "      <td>12</td>\n",
              "    </tr>\n",
              "  </tbody>\n",
              "</table>\n",
              "</div>"
            ],
            "text/plain": [
              "       # of donators  # required\n",
              "one               56          67\n",
              "two               70          89\n",
              "three             12          12\n",
              "four               3           2\n",
              "five              10           5\n",
              "six               23          78\n",
              "seven             89          12"
            ]
          },
          "metadata": {
            "tags": []
          },
          "execution_count": 48
        }
      ]
    },
    {
      "cell_type": "markdown",
      "metadata": {
        "id": "P-D8_Kjev4-a",
        "colab_type": "text"
      },
      "source": [
        "###inserting column"
      ]
    },
    {
      "cell_type": "code",
      "metadata": {
        "id": "bc8L3zrdv8LZ",
        "colab_type": "code",
        "outputId": "4cffddbf-dd7d-47c2-d107-e97c7dd85ab5",
        "colab": {
          "base_uri": "https://localhost:8080/",
          "height": 254
        }
      },
      "source": [
        "df2['blood group'] = ['A', 'O', 'B', 'A+', 'A-', 'B+', 'B-']\n",
        "df2"
      ],
      "execution_count": 0,
      "outputs": [
        {
          "output_type": "execute_result",
          "data": {
            "text/html": [
              "<div>\n",
              "<style scoped>\n",
              "    .dataframe tbody tr th:only-of-type {\n",
              "        vertical-align: middle;\n",
              "    }\n",
              "\n",
              "    .dataframe tbody tr th {\n",
              "        vertical-align: top;\n",
              "    }\n",
              "\n",
              "    .dataframe thead th {\n",
              "        text-align: right;\n",
              "    }\n",
              "</style>\n",
              "<table border=\"1\" class=\"dataframe\">\n",
              "  <thead>\n",
              "    <tr style=\"text-align: right;\">\n",
              "      <th></th>\n",
              "      <th># of donators</th>\n",
              "      <th># required</th>\n",
              "      <th>blood group</th>\n",
              "    </tr>\n",
              "  </thead>\n",
              "  <tbody>\n",
              "    <tr>\n",
              "      <th>one</th>\n",
              "      <td>56</td>\n",
              "      <td>67</td>\n",
              "      <td>A</td>\n",
              "    </tr>\n",
              "    <tr>\n",
              "      <th>two</th>\n",
              "      <td>70</td>\n",
              "      <td>89</td>\n",
              "      <td>O</td>\n",
              "    </tr>\n",
              "    <tr>\n",
              "      <th>three</th>\n",
              "      <td>12</td>\n",
              "      <td>12</td>\n",
              "      <td>B</td>\n",
              "    </tr>\n",
              "    <tr>\n",
              "      <th>four</th>\n",
              "      <td>3</td>\n",
              "      <td>2</td>\n",
              "      <td>A+</td>\n",
              "    </tr>\n",
              "    <tr>\n",
              "      <th>five</th>\n",
              "      <td>10</td>\n",
              "      <td>5</td>\n",
              "      <td>A-</td>\n",
              "    </tr>\n",
              "    <tr>\n",
              "      <th>six</th>\n",
              "      <td>23</td>\n",
              "      <td>78</td>\n",
              "      <td>B+</td>\n",
              "    </tr>\n",
              "    <tr>\n",
              "      <th>seven</th>\n",
              "      <td>89</td>\n",
              "      <td>12</td>\n",
              "      <td>B-</td>\n",
              "    </tr>\n",
              "  </tbody>\n",
              "</table>\n",
              "</div>"
            ],
            "text/plain": [
              "       # of donators  # required blood group\n",
              "one               56          67           A\n",
              "two               70          89           O\n",
              "three             12          12           B\n",
              "four               3           2          A+\n",
              "five              10           5          A-\n",
              "six               23          78          B+\n",
              "seven             89          12          B-"
            ]
          },
          "metadata": {
            "tags": []
          },
          "execution_count": 49
        }
      ]
    },
    {
      "cell_type": "code",
      "metadata": {
        "id": "u8ciDjg_wLED",
        "colab_type": "code",
        "outputId": "d8517011-2516-485b-8770-86fde5e2eac6",
        "colab": {
          "base_uri": "https://localhost:8080/",
          "height": 254
        }
      },
      "source": [
        "df2['litres'] = 100\n",
        "df2"
      ],
      "execution_count": 0,
      "outputs": [
        {
          "output_type": "execute_result",
          "data": {
            "text/html": [
              "<div>\n",
              "<style scoped>\n",
              "    .dataframe tbody tr th:only-of-type {\n",
              "        vertical-align: middle;\n",
              "    }\n",
              "\n",
              "    .dataframe tbody tr th {\n",
              "        vertical-align: top;\n",
              "    }\n",
              "\n",
              "    .dataframe thead th {\n",
              "        text-align: right;\n",
              "    }\n",
              "</style>\n",
              "<table border=\"1\" class=\"dataframe\">\n",
              "  <thead>\n",
              "    <tr style=\"text-align: right;\">\n",
              "      <th></th>\n",
              "      <th># of donators</th>\n",
              "      <th># required</th>\n",
              "      <th>blood group</th>\n",
              "      <th>litres</th>\n",
              "    </tr>\n",
              "  </thead>\n",
              "  <tbody>\n",
              "    <tr>\n",
              "      <th>one</th>\n",
              "      <td>56</td>\n",
              "      <td>67</td>\n",
              "      <td>A</td>\n",
              "      <td>100</td>\n",
              "    </tr>\n",
              "    <tr>\n",
              "      <th>two</th>\n",
              "      <td>70</td>\n",
              "      <td>89</td>\n",
              "      <td>O</td>\n",
              "      <td>100</td>\n",
              "    </tr>\n",
              "    <tr>\n",
              "      <th>three</th>\n",
              "      <td>12</td>\n",
              "      <td>12</td>\n",
              "      <td>B</td>\n",
              "      <td>100</td>\n",
              "    </tr>\n",
              "    <tr>\n",
              "      <th>four</th>\n",
              "      <td>3</td>\n",
              "      <td>2</td>\n",
              "      <td>A+</td>\n",
              "      <td>100</td>\n",
              "    </tr>\n",
              "    <tr>\n",
              "      <th>five</th>\n",
              "      <td>10</td>\n",
              "      <td>5</td>\n",
              "      <td>A-</td>\n",
              "      <td>100</td>\n",
              "    </tr>\n",
              "    <tr>\n",
              "      <th>six</th>\n",
              "      <td>23</td>\n",
              "      <td>78</td>\n",
              "      <td>B+</td>\n",
              "      <td>100</td>\n",
              "    </tr>\n",
              "    <tr>\n",
              "      <th>seven</th>\n",
              "      <td>89</td>\n",
              "      <td>12</td>\n",
              "      <td>B-</td>\n",
              "      <td>100</td>\n",
              "    </tr>\n",
              "  </tbody>\n",
              "</table>\n",
              "</div>"
            ],
            "text/plain": [
              "       # of donators  # required blood group  litres\n",
              "one               56          67           A     100\n",
              "two               70          89           O     100\n",
              "three             12          12           B     100\n",
              "four               3           2          A+     100\n",
              "five              10           5          A-     100\n",
              "six               23          78          B+     100\n",
              "seven             89          12          B-     100"
            ]
          },
          "metadata": {
            "tags": []
          },
          "execution_count": 50
        }
      ]
    },
    {
      "cell_type": "markdown",
      "metadata": {
        "id": "qoxrUwmvwQVq",
        "colab_type": "text"
      },
      "source": [
        "###modifying column"
      ]
    },
    {
      "cell_type": "code",
      "metadata": {
        "id": "WiQU1U-qwTfH",
        "colab_type": "code",
        "outputId": "805754da-189a-47ff-f2ca-504e96b9172c",
        "colab": {
          "base_uri": "https://localhost:8080/",
          "height": 254
        }
      },
      "source": [
        "df2['litres'] = [100,200,300,5,21,43,21]\n",
        "df2"
      ],
      "execution_count": 0,
      "outputs": [
        {
          "output_type": "execute_result",
          "data": {
            "text/html": [
              "<div>\n",
              "<style scoped>\n",
              "    .dataframe tbody tr th:only-of-type {\n",
              "        vertical-align: middle;\n",
              "    }\n",
              "\n",
              "    .dataframe tbody tr th {\n",
              "        vertical-align: top;\n",
              "    }\n",
              "\n",
              "    .dataframe thead th {\n",
              "        text-align: right;\n",
              "    }\n",
              "</style>\n",
              "<table border=\"1\" class=\"dataframe\">\n",
              "  <thead>\n",
              "    <tr style=\"text-align: right;\">\n",
              "      <th></th>\n",
              "      <th># of donators</th>\n",
              "      <th># required</th>\n",
              "      <th>blood group</th>\n",
              "      <th>litres</th>\n",
              "    </tr>\n",
              "  </thead>\n",
              "  <tbody>\n",
              "    <tr>\n",
              "      <th>one</th>\n",
              "      <td>56</td>\n",
              "      <td>67</td>\n",
              "      <td>A</td>\n",
              "      <td>100</td>\n",
              "    </tr>\n",
              "    <tr>\n",
              "      <th>two</th>\n",
              "      <td>70</td>\n",
              "      <td>89</td>\n",
              "      <td>O</td>\n",
              "      <td>200</td>\n",
              "    </tr>\n",
              "    <tr>\n",
              "      <th>three</th>\n",
              "      <td>12</td>\n",
              "      <td>12</td>\n",
              "      <td>B</td>\n",
              "      <td>300</td>\n",
              "    </tr>\n",
              "    <tr>\n",
              "      <th>four</th>\n",
              "      <td>3</td>\n",
              "      <td>2</td>\n",
              "      <td>A+</td>\n",
              "      <td>5</td>\n",
              "    </tr>\n",
              "    <tr>\n",
              "      <th>five</th>\n",
              "      <td>10</td>\n",
              "      <td>5</td>\n",
              "      <td>A-</td>\n",
              "      <td>21</td>\n",
              "    </tr>\n",
              "    <tr>\n",
              "      <th>six</th>\n",
              "      <td>23</td>\n",
              "      <td>78</td>\n",
              "      <td>B+</td>\n",
              "      <td>43</td>\n",
              "    </tr>\n",
              "    <tr>\n",
              "      <th>seven</th>\n",
              "      <td>89</td>\n",
              "      <td>12</td>\n",
              "      <td>B-</td>\n",
              "      <td>21</td>\n",
              "    </tr>\n",
              "  </tbody>\n",
              "</table>\n",
              "</div>"
            ],
            "text/plain": [
              "       # of donators  # required blood group  litres\n",
              "one               56          67           A     100\n",
              "two               70          89           O     200\n",
              "three             12          12           B     300\n",
              "four               3           2          A+       5\n",
              "five              10           5          A-      21\n",
              "six               23          78          B+      43\n",
              "seven             89          12          B-      21"
            ]
          },
          "metadata": {
            "tags": []
          },
          "execution_count": 51
        }
      ]
    },
    {
      "cell_type": "code",
      "metadata": {
        "id": "xdf_WcpAwf5b",
        "colab_type": "code",
        "outputId": "379be114-efac-43c8-fb11-d5b37426452b",
        "colab": {
          "base_uri": "https://localhost:8080/",
          "height": 254
        }
      },
      "source": [
        "df2['stock'] = range(7)\n",
        "df2"
      ],
      "execution_count": 0,
      "outputs": [
        {
          "output_type": "execute_result",
          "data": {
            "text/html": [
              "<div>\n",
              "<style scoped>\n",
              "    .dataframe tbody tr th:only-of-type {\n",
              "        vertical-align: middle;\n",
              "    }\n",
              "\n",
              "    .dataframe tbody tr th {\n",
              "        vertical-align: top;\n",
              "    }\n",
              "\n",
              "    .dataframe thead th {\n",
              "        text-align: right;\n",
              "    }\n",
              "</style>\n",
              "<table border=\"1\" class=\"dataframe\">\n",
              "  <thead>\n",
              "    <tr style=\"text-align: right;\">\n",
              "      <th></th>\n",
              "      <th># of donators</th>\n",
              "      <th># required</th>\n",
              "      <th>blood group</th>\n",
              "      <th>litres</th>\n",
              "      <th>stock</th>\n",
              "    </tr>\n",
              "  </thead>\n",
              "  <tbody>\n",
              "    <tr>\n",
              "      <th>one</th>\n",
              "      <td>56</td>\n",
              "      <td>67</td>\n",
              "      <td>A</td>\n",
              "      <td>100</td>\n",
              "      <td>0</td>\n",
              "    </tr>\n",
              "    <tr>\n",
              "      <th>two</th>\n",
              "      <td>70</td>\n",
              "      <td>89</td>\n",
              "      <td>O</td>\n",
              "      <td>200</td>\n",
              "      <td>1</td>\n",
              "    </tr>\n",
              "    <tr>\n",
              "      <th>three</th>\n",
              "      <td>12</td>\n",
              "      <td>12</td>\n",
              "      <td>B</td>\n",
              "      <td>300</td>\n",
              "      <td>2</td>\n",
              "    </tr>\n",
              "    <tr>\n",
              "      <th>four</th>\n",
              "      <td>3</td>\n",
              "      <td>2</td>\n",
              "      <td>A+</td>\n",
              "      <td>5</td>\n",
              "      <td>3</td>\n",
              "    </tr>\n",
              "    <tr>\n",
              "      <th>five</th>\n",
              "      <td>10</td>\n",
              "      <td>5</td>\n",
              "      <td>A-</td>\n",
              "      <td>21</td>\n",
              "      <td>4</td>\n",
              "    </tr>\n",
              "    <tr>\n",
              "      <th>six</th>\n",
              "      <td>23</td>\n",
              "      <td>78</td>\n",
              "      <td>B+</td>\n",
              "      <td>43</td>\n",
              "      <td>5</td>\n",
              "    </tr>\n",
              "    <tr>\n",
              "      <th>seven</th>\n",
              "      <td>89</td>\n",
              "      <td>12</td>\n",
              "      <td>B-</td>\n",
              "      <td>21</td>\n",
              "      <td>6</td>\n",
              "    </tr>\n",
              "  </tbody>\n",
              "</table>\n",
              "</div>"
            ],
            "text/plain": [
              "       # of donators  # required blood group  litres  stock\n",
              "one               56          67           A     100      0\n",
              "two               70          89           O     200      1\n",
              "three             12          12           B     300      2\n",
              "four               3           2          A+       5      3\n",
              "five              10           5          A-      21      4\n",
              "six               23          78          B+      43      5\n",
              "seven             89          12          B-      21      6"
            ]
          },
          "metadata": {
            "tags": []
          },
          "execution_count": 53
        }
      ]
    },
    {
      "cell_type": "code",
      "metadata": {
        "id": "VrZv5zLyw83O",
        "colab_type": "code",
        "outputId": "6a3d24f8-2e84-4155-edd9-c2f619e144c5",
        "colab": {
          "base_uri": "https://localhost:8080/",
          "height": 254
        }
      },
      "source": [
        "df2['stock'] = df1['pop']\n",
        "df2"
      ],
      "execution_count": 0,
      "outputs": [
        {
          "output_type": "execute_result",
          "data": {
            "text/html": [
              "<div>\n",
              "<style scoped>\n",
              "    .dataframe tbody tr th:only-of-type {\n",
              "        vertical-align: middle;\n",
              "    }\n",
              "\n",
              "    .dataframe tbody tr th {\n",
              "        vertical-align: top;\n",
              "    }\n",
              "\n",
              "    .dataframe thead th {\n",
              "        text-align: right;\n",
              "    }\n",
              "</style>\n",
              "<table border=\"1\" class=\"dataframe\">\n",
              "  <thead>\n",
              "    <tr style=\"text-align: right;\">\n",
              "      <th></th>\n",
              "      <th># of donators</th>\n",
              "      <th># required</th>\n",
              "      <th>blood group</th>\n",
              "      <th>litres</th>\n",
              "      <th>stock</th>\n",
              "    </tr>\n",
              "  </thead>\n",
              "  <tbody>\n",
              "    <tr>\n",
              "      <th>one</th>\n",
              "      <td>56</td>\n",
              "      <td>67</td>\n",
              "      <td>A</td>\n",
              "      <td>100</td>\n",
              "      <td>NaN</td>\n",
              "    </tr>\n",
              "    <tr>\n",
              "      <th>two</th>\n",
              "      <td>70</td>\n",
              "      <td>89</td>\n",
              "      <td>O</td>\n",
              "      <td>200</td>\n",
              "      <td>NaN</td>\n",
              "    </tr>\n",
              "    <tr>\n",
              "      <th>three</th>\n",
              "      <td>12</td>\n",
              "      <td>12</td>\n",
              "      <td>B</td>\n",
              "      <td>300</td>\n",
              "      <td>NaN</td>\n",
              "    </tr>\n",
              "    <tr>\n",
              "      <th>four</th>\n",
              "      <td>3</td>\n",
              "      <td>2</td>\n",
              "      <td>A+</td>\n",
              "      <td>5</td>\n",
              "      <td>NaN</td>\n",
              "    </tr>\n",
              "    <tr>\n",
              "      <th>five</th>\n",
              "      <td>10</td>\n",
              "      <td>5</td>\n",
              "      <td>A-</td>\n",
              "      <td>21</td>\n",
              "      <td>NaN</td>\n",
              "    </tr>\n",
              "    <tr>\n",
              "      <th>six</th>\n",
              "      <td>23</td>\n",
              "      <td>78</td>\n",
              "      <td>B+</td>\n",
              "      <td>43</td>\n",
              "      <td>NaN</td>\n",
              "    </tr>\n",
              "    <tr>\n",
              "      <th>seven</th>\n",
              "      <td>89</td>\n",
              "      <td>12</td>\n",
              "      <td>B-</td>\n",
              "      <td>21</td>\n",
              "      <td>NaN</td>\n",
              "    </tr>\n",
              "  </tbody>\n",
              "</table>\n",
              "</div>"
            ],
            "text/plain": [
              "       # of donators  # required blood group  litres  stock\n",
              "one               56          67           A     100    NaN\n",
              "two               70          89           O     200    NaN\n",
              "three             12          12           B     300    NaN\n",
              "four               3           2          A+       5    NaN\n",
              "five              10           5          A-      21    NaN\n",
              "six               23          78          B+      43    NaN\n",
              "seven             89          12          B-      21    NaN"
            ]
          },
          "metadata": {
            "tags": []
          },
          "execution_count": 57
        }
      ]
    },
    {
      "cell_type": "code",
      "metadata": {
        "id": "2LcA3i78xulR",
        "colab_type": "code",
        "outputId": "4245f9fc-d7fe-4218-8137-40f7d8a8d57d",
        "colab": {
          "base_uri": "https://localhost:8080/",
          "height": 343
        }
      },
      "source": [
        "data3 = {'Ai' : [79, 98, 98.5, 45, 67, 87, 83, 82, 91, 72],\n",
        "      'P1' : [80, 78, 79, 56, 45, 35, 25, 89, 89, 43],\n",
        "      'P3' : [60, 97, 76, 76, 56, 64, 87, 85, 87, 34]}\n",
        "df3 = pd.DataFrame(data3, index = ['lyma', 'roma', 'leej', 'susu', 'sera', 'baidar', 'isha', 'nemal', 'tooba', 'batoota'])\n",
        "df3"
      ],
      "execution_count": 0,
      "outputs": [
        {
          "output_type": "execute_result",
          "data": {
            "text/html": [
              "<div>\n",
              "<style scoped>\n",
              "    .dataframe tbody tr th:only-of-type {\n",
              "        vertical-align: middle;\n",
              "    }\n",
              "\n",
              "    .dataframe tbody tr th {\n",
              "        vertical-align: top;\n",
              "    }\n",
              "\n",
              "    .dataframe thead th {\n",
              "        text-align: right;\n",
              "    }\n",
              "</style>\n",
              "<table border=\"1\" class=\"dataframe\">\n",
              "  <thead>\n",
              "    <tr style=\"text-align: right;\">\n",
              "      <th></th>\n",
              "      <th>Ai</th>\n",
              "      <th>P1</th>\n",
              "      <th>P3</th>\n",
              "    </tr>\n",
              "  </thead>\n",
              "  <tbody>\n",
              "    <tr>\n",
              "      <th>lyma</th>\n",
              "      <td>79.0</td>\n",
              "      <td>80</td>\n",
              "      <td>60</td>\n",
              "    </tr>\n",
              "    <tr>\n",
              "      <th>roma</th>\n",
              "      <td>98.0</td>\n",
              "      <td>78</td>\n",
              "      <td>97</td>\n",
              "    </tr>\n",
              "    <tr>\n",
              "      <th>leej</th>\n",
              "      <td>98.5</td>\n",
              "      <td>79</td>\n",
              "      <td>76</td>\n",
              "    </tr>\n",
              "    <tr>\n",
              "      <th>susu</th>\n",
              "      <td>45.0</td>\n",
              "      <td>56</td>\n",
              "      <td>76</td>\n",
              "    </tr>\n",
              "    <tr>\n",
              "      <th>sera</th>\n",
              "      <td>67.0</td>\n",
              "      <td>45</td>\n",
              "      <td>56</td>\n",
              "    </tr>\n",
              "    <tr>\n",
              "      <th>baidar</th>\n",
              "      <td>87.0</td>\n",
              "      <td>35</td>\n",
              "      <td>64</td>\n",
              "    </tr>\n",
              "    <tr>\n",
              "      <th>isha</th>\n",
              "      <td>83.0</td>\n",
              "      <td>25</td>\n",
              "      <td>87</td>\n",
              "    </tr>\n",
              "    <tr>\n",
              "      <th>nemal</th>\n",
              "      <td>82.0</td>\n",
              "      <td>89</td>\n",
              "      <td>85</td>\n",
              "    </tr>\n",
              "    <tr>\n",
              "      <th>tooba</th>\n",
              "      <td>91.0</td>\n",
              "      <td>89</td>\n",
              "      <td>87</td>\n",
              "    </tr>\n",
              "    <tr>\n",
              "      <th>batoota</th>\n",
              "      <td>72.0</td>\n",
              "      <td>43</td>\n",
              "      <td>34</td>\n",
              "    </tr>\n",
              "  </tbody>\n",
              "</table>\n",
              "</div>"
            ],
            "text/plain": [
              "           Ai  P1  P3\n",
              "lyma     79.0  80  60\n",
              "roma     98.0  78  97\n",
              "leej     98.5  79  76\n",
              "susu     45.0  56  76\n",
              "sera     67.0  45  56\n",
              "baidar   87.0  35  64\n",
              "isha     83.0  25  87\n",
              "nemal    82.0  89  85\n",
              "tooba    91.0  89  87\n",
              "batoota  72.0  43  34"
            ]
          },
          "metadata": {
            "tags": []
          },
          "execution_count": 69
        }
      ]
    },
    {
      "cell_type": "code",
      "metadata": {
        "id": "gEUSs6_MzvtU",
        "colab_type": "code",
        "outputId": "bc6e9621-b1ee-40a6-e721-3f592e00ec3a",
        "colab": {
          "base_uri": "https://localhost:8080/",
          "height": 343
        }
      },
      "source": [
        "df3['total marks'] = 300\n",
        "df3\n",
        "df3['marksobt'] = df3['Ai'] + df3['P1'] + df3['P3']\n",
        "df3                           "
      ],
      "execution_count": 0,
      "outputs": [
        {
          "output_type": "execute_result",
          "data": {
            "text/html": [
              "<div>\n",
              "<style scoped>\n",
              "    .dataframe tbody tr th:only-of-type {\n",
              "        vertical-align: middle;\n",
              "    }\n",
              "\n",
              "    .dataframe tbody tr th {\n",
              "        vertical-align: top;\n",
              "    }\n",
              "\n",
              "    .dataframe thead th {\n",
              "        text-align: right;\n",
              "    }\n",
              "</style>\n",
              "<table border=\"1\" class=\"dataframe\">\n",
              "  <thead>\n",
              "    <tr style=\"text-align: right;\">\n",
              "      <th></th>\n",
              "      <th>Ai</th>\n",
              "      <th>P1</th>\n",
              "      <th>P3</th>\n",
              "      <th>total marks</th>\n",
              "      <th>marksobt</th>\n",
              "    </tr>\n",
              "  </thead>\n",
              "  <tbody>\n",
              "    <tr>\n",
              "      <th>lyma</th>\n",
              "      <td>79.0</td>\n",
              "      <td>80</td>\n",
              "      <td>60</td>\n",
              "      <td>300</td>\n",
              "      <td>219.0</td>\n",
              "    </tr>\n",
              "    <tr>\n",
              "      <th>roma</th>\n",
              "      <td>98.0</td>\n",
              "      <td>78</td>\n",
              "      <td>97</td>\n",
              "      <td>300</td>\n",
              "      <td>273.0</td>\n",
              "    </tr>\n",
              "    <tr>\n",
              "      <th>leej</th>\n",
              "      <td>98.5</td>\n",
              "      <td>79</td>\n",
              "      <td>76</td>\n",
              "      <td>300</td>\n",
              "      <td>253.5</td>\n",
              "    </tr>\n",
              "    <tr>\n",
              "      <th>susu</th>\n",
              "      <td>45.0</td>\n",
              "      <td>56</td>\n",
              "      <td>76</td>\n",
              "      <td>300</td>\n",
              "      <td>177.0</td>\n",
              "    </tr>\n",
              "    <tr>\n",
              "      <th>sera</th>\n",
              "      <td>67.0</td>\n",
              "      <td>45</td>\n",
              "      <td>56</td>\n",
              "      <td>300</td>\n",
              "      <td>168.0</td>\n",
              "    </tr>\n",
              "    <tr>\n",
              "      <th>baidar</th>\n",
              "      <td>87.0</td>\n",
              "      <td>35</td>\n",
              "      <td>64</td>\n",
              "      <td>300</td>\n",
              "      <td>186.0</td>\n",
              "    </tr>\n",
              "    <tr>\n",
              "      <th>isha</th>\n",
              "      <td>83.0</td>\n",
              "      <td>25</td>\n",
              "      <td>87</td>\n",
              "      <td>300</td>\n",
              "      <td>195.0</td>\n",
              "    </tr>\n",
              "    <tr>\n",
              "      <th>nemal</th>\n",
              "      <td>82.0</td>\n",
              "      <td>89</td>\n",
              "      <td>85</td>\n",
              "      <td>300</td>\n",
              "      <td>256.0</td>\n",
              "    </tr>\n",
              "    <tr>\n",
              "      <th>tooba</th>\n",
              "      <td>91.0</td>\n",
              "      <td>89</td>\n",
              "      <td>87</td>\n",
              "      <td>300</td>\n",
              "      <td>267.0</td>\n",
              "    </tr>\n",
              "    <tr>\n",
              "      <th>batoota</th>\n",
              "      <td>72.0</td>\n",
              "      <td>43</td>\n",
              "      <td>34</td>\n",
              "      <td>300</td>\n",
              "      <td>149.0</td>\n",
              "    </tr>\n",
              "  </tbody>\n",
              "</table>\n",
              "</div>"
            ],
            "text/plain": [
              "           Ai  P1  P3  total marks  marksobt\n",
              "lyma     79.0  80  60          300     219.0\n",
              "roma     98.0  78  97          300     273.0\n",
              "leej     98.5  79  76          300     253.5\n",
              "susu     45.0  56  76          300     177.0\n",
              "sera     67.0  45  56          300     168.0\n",
              "baidar   87.0  35  64          300     186.0\n",
              "isha     83.0  25  87          300     195.0\n",
              "nemal    82.0  89  85          300     256.0\n",
              "tooba    91.0  89  87          300     267.0\n",
              "batoota  72.0  43  34          300     149.0"
            ]
          },
          "metadata": {
            "tags": []
          },
          "execution_count": 71
        }
      ]
    },
    {
      "cell_type": "code",
      "metadata": {
        "id": "ohxbu3Fn3SqO",
        "colab_type": "code",
        "outputId": "7642dcdb-973c-42e0-8b1c-de1c3d928d6a",
        "colab": {
          "base_uri": "https://localhost:8080/",
          "height": 343
        }
      },
      "source": [
        "df3['status'] = df3['marksobt'] > 200\n",
        "df3"
      ],
      "execution_count": 0,
      "outputs": [
        {
          "output_type": "execute_result",
          "data": {
            "text/html": [
              "<div>\n",
              "<style scoped>\n",
              "    .dataframe tbody tr th:only-of-type {\n",
              "        vertical-align: middle;\n",
              "    }\n",
              "\n",
              "    .dataframe tbody tr th {\n",
              "        vertical-align: top;\n",
              "    }\n",
              "\n",
              "    .dataframe thead th {\n",
              "        text-align: right;\n",
              "    }\n",
              "</style>\n",
              "<table border=\"1\" class=\"dataframe\">\n",
              "  <thead>\n",
              "    <tr style=\"text-align: right;\">\n",
              "      <th></th>\n",
              "      <th>Ai</th>\n",
              "      <th>P1</th>\n",
              "      <th>P3</th>\n",
              "      <th>total marks</th>\n",
              "      <th>marksobt</th>\n",
              "      <th>status</th>\n",
              "    </tr>\n",
              "  </thead>\n",
              "  <tbody>\n",
              "    <tr>\n",
              "      <th>lyma</th>\n",
              "      <td>79.0</td>\n",
              "      <td>80</td>\n",
              "      <td>60</td>\n",
              "      <td>300</td>\n",
              "      <td>219.0</td>\n",
              "      <td>True</td>\n",
              "    </tr>\n",
              "    <tr>\n",
              "      <th>roma</th>\n",
              "      <td>98.0</td>\n",
              "      <td>78</td>\n",
              "      <td>97</td>\n",
              "      <td>300</td>\n",
              "      <td>273.0</td>\n",
              "      <td>True</td>\n",
              "    </tr>\n",
              "    <tr>\n",
              "      <th>leej</th>\n",
              "      <td>98.5</td>\n",
              "      <td>79</td>\n",
              "      <td>76</td>\n",
              "      <td>300</td>\n",
              "      <td>253.5</td>\n",
              "      <td>True</td>\n",
              "    </tr>\n",
              "    <tr>\n",
              "      <th>susu</th>\n",
              "      <td>45.0</td>\n",
              "      <td>56</td>\n",
              "      <td>76</td>\n",
              "      <td>300</td>\n",
              "      <td>177.0</td>\n",
              "      <td>False</td>\n",
              "    </tr>\n",
              "    <tr>\n",
              "      <th>sera</th>\n",
              "      <td>67.0</td>\n",
              "      <td>45</td>\n",
              "      <td>56</td>\n",
              "      <td>300</td>\n",
              "      <td>168.0</td>\n",
              "      <td>False</td>\n",
              "    </tr>\n",
              "    <tr>\n",
              "      <th>baidar</th>\n",
              "      <td>87.0</td>\n",
              "      <td>35</td>\n",
              "      <td>64</td>\n",
              "      <td>300</td>\n",
              "      <td>186.0</td>\n",
              "      <td>False</td>\n",
              "    </tr>\n",
              "    <tr>\n",
              "      <th>isha</th>\n",
              "      <td>83.0</td>\n",
              "      <td>25</td>\n",
              "      <td>87</td>\n",
              "      <td>300</td>\n",
              "      <td>195.0</td>\n",
              "      <td>False</td>\n",
              "    </tr>\n",
              "    <tr>\n",
              "      <th>nemal</th>\n",
              "      <td>82.0</td>\n",
              "      <td>89</td>\n",
              "      <td>85</td>\n",
              "      <td>300</td>\n",
              "      <td>256.0</td>\n",
              "      <td>True</td>\n",
              "    </tr>\n",
              "    <tr>\n",
              "      <th>tooba</th>\n",
              "      <td>91.0</td>\n",
              "      <td>89</td>\n",
              "      <td>87</td>\n",
              "      <td>300</td>\n",
              "      <td>267.0</td>\n",
              "      <td>True</td>\n",
              "    </tr>\n",
              "    <tr>\n",
              "      <th>batoota</th>\n",
              "      <td>72.0</td>\n",
              "      <td>43</td>\n",
              "      <td>34</td>\n",
              "      <td>300</td>\n",
              "      <td>149.0</td>\n",
              "      <td>False</td>\n",
              "    </tr>\n",
              "  </tbody>\n",
              "</table>\n",
              "</div>"
            ],
            "text/plain": [
              "           Ai  P1  P3  total marks  marksobt  status\n",
              "lyma     79.0  80  60          300     219.0    True\n",
              "roma     98.0  78  97          300     273.0    True\n",
              "leej     98.5  79  76          300     253.5    True\n",
              "susu     45.0  56  76          300     177.0   False\n",
              "sera     67.0  45  56          300     168.0   False\n",
              "baidar   87.0  35  64          300     186.0   False\n",
              "isha     83.0  25  87          300     195.0   False\n",
              "nemal    82.0  89  85          300     256.0    True\n",
              "tooba    91.0  89  87          300     267.0    True\n",
              "batoota  72.0  43  34          300     149.0   False"
            ]
          },
          "metadata": {
            "tags": []
          },
          "execution_count": 76
        }
      ]
    },
    {
      "cell_type": "code",
      "metadata": {
        "id": "e5EISF4V52Ma",
        "colab_type": "code",
        "outputId": "1eaf9b51-6261-49ba-ca98-7af03c5fd12c",
        "colab": {
          "base_uri": "https://localhost:8080/",
          "height": 343
        }
      },
      "source": [
        "df3['status'] = ['Pass' if marks >= 200 else 'Fail' for marks in df3.marksobt]\n",
        "df3"
      ],
      "execution_count": 0,
      "outputs": [
        {
          "output_type": "execute_result",
          "data": {
            "text/html": [
              "<div>\n",
              "<style scoped>\n",
              "    .dataframe tbody tr th:only-of-type {\n",
              "        vertical-align: middle;\n",
              "    }\n",
              "\n",
              "    .dataframe tbody tr th {\n",
              "        vertical-align: top;\n",
              "    }\n",
              "\n",
              "    .dataframe thead th {\n",
              "        text-align: right;\n",
              "    }\n",
              "</style>\n",
              "<table border=\"1\" class=\"dataframe\">\n",
              "  <thead>\n",
              "    <tr style=\"text-align: right;\">\n",
              "      <th></th>\n",
              "      <th>Ai</th>\n",
              "      <th>P1</th>\n",
              "      <th>P3</th>\n",
              "      <th>total marks</th>\n",
              "      <th>marksobt</th>\n",
              "      <th>status</th>\n",
              "    </tr>\n",
              "  </thead>\n",
              "  <tbody>\n",
              "    <tr>\n",
              "      <th>lyma</th>\n",
              "      <td>79.0</td>\n",
              "      <td>80</td>\n",
              "      <td>60</td>\n",
              "      <td>300</td>\n",
              "      <td>219.0</td>\n",
              "      <td>Pass</td>\n",
              "    </tr>\n",
              "    <tr>\n",
              "      <th>roma</th>\n",
              "      <td>98.0</td>\n",
              "      <td>78</td>\n",
              "      <td>97</td>\n",
              "      <td>300</td>\n",
              "      <td>273.0</td>\n",
              "      <td>Pass</td>\n",
              "    </tr>\n",
              "    <tr>\n",
              "      <th>leej</th>\n",
              "      <td>98.5</td>\n",
              "      <td>79</td>\n",
              "      <td>76</td>\n",
              "      <td>300</td>\n",
              "      <td>253.5</td>\n",
              "      <td>Pass</td>\n",
              "    </tr>\n",
              "    <tr>\n",
              "      <th>susu</th>\n",
              "      <td>45.0</td>\n",
              "      <td>56</td>\n",
              "      <td>76</td>\n",
              "      <td>300</td>\n",
              "      <td>177.0</td>\n",
              "      <td>Fail</td>\n",
              "    </tr>\n",
              "    <tr>\n",
              "      <th>sera</th>\n",
              "      <td>67.0</td>\n",
              "      <td>45</td>\n",
              "      <td>56</td>\n",
              "      <td>300</td>\n",
              "      <td>168.0</td>\n",
              "      <td>Fail</td>\n",
              "    </tr>\n",
              "    <tr>\n",
              "      <th>baidar</th>\n",
              "      <td>87.0</td>\n",
              "      <td>35</td>\n",
              "      <td>64</td>\n",
              "      <td>300</td>\n",
              "      <td>186.0</td>\n",
              "      <td>Fail</td>\n",
              "    </tr>\n",
              "    <tr>\n",
              "      <th>isha</th>\n",
              "      <td>83.0</td>\n",
              "      <td>25</td>\n",
              "      <td>87</td>\n",
              "      <td>300</td>\n",
              "      <td>195.0</td>\n",
              "      <td>Fail</td>\n",
              "    </tr>\n",
              "    <tr>\n",
              "      <th>nemal</th>\n",
              "      <td>82.0</td>\n",
              "      <td>89</td>\n",
              "      <td>85</td>\n",
              "      <td>300</td>\n",
              "      <td>256.0</td>\n",
              "      <td>Pass</td>\n",
              "    </tr>\n",
              "    <tr>\n",
              "      <th>tooba</th>\n",
              "      <td>91.0</td>\n",
              "      <td>89</td>\n",
              "      <td>87</td>\n",
              "      <td>300</td>\n",
              "      <td>267.0</td>\n",
              "      <td>Pass</td>\n",
              "    </tr>\n",
              "    <tr>\n",
              "      <th>batoota</th>\n",
              "      <td>72.0</td>\n",
              "      <td>43</td>\n",
              "      <td>34</td>\n",
              "      <td>300</td>\n",
              "      <td>149.0</td>\n",
              "      <td>Fail</td>\n",
              "    </tr>\n",
              "  </tbody>\n",
              "</table>\n",
              "</div>"
            ],
            "text/plain": [
              "           Ai  P1  P3  total marks  marksobt status\n",
              "lyma     79.0  80  60          300     219.0   Pass\n",
              "roma     98.0  78  97          300     273.0   Pass\n",
              "leej     98.5  79  76          300     253.5   Pass\n",
              "susu     45.0  56  76          300     177.0   Fail\n",
              "sera     67.0  45  56          300     168.0   Fail\n",
              "baidar   87.0  35  64          300     186.0   Fail\n",
              "isha     83.0  25  87          300     195.0   Fail\n",
              "nemal    82.0  89  85          300     256.0   Pass\n",
              "tooba    91.0  89  87          300     267.0   Pass\n",
              "batoota  72.0  43  34          300     149.0   Fail"
            ]
          },
          "metadata": {
            "tags": []
          },
          "execution_count": 84
        }
      ]
    },
    {
      "cell_type": "code",
      "metadata": {
        "id": "58yOWHQx8hEe",
        "colab_type": "code",
        "outputId": "9e53dab2-811d-4532-8c3b-82a0a8cd337b",
        "colab": {
          "base_uri": "https://localhost:8080/",
          "height": 343
        }
      },
      "source": [
        "df3['percentage'] = df3['marksobt'] / df3['total marks'] * 100\n",
        "df3"
      ],
      "execution_count": 0,
      "outputs": [
        {
          "output_type": "execute_result",
          "data": {
            "text/html": [
              "<div>\n",
              "<style scoped>\n",
              "    .dataframe tbody tr th:only-of-type {\n",
              "        vertical-align: middle;\n",
              "    }\n",
              "\n",
              "    .dataframe tbody tr th {\n",
              "        vertical-align: top;\n",
              "    }\n",
              "\n",
              "    .dataframe thead th {\n",
              "        text-align: right;\n",
              "    }\n",
              "</style>\n",
              "<table border=\"1\" class=\"dataframe\">\n",
              "  <thead>\n",
              "    <tr style=\"text-align: right;\">\n",
              "      <th></th>\n",
              "      <th>Ai</th>\n",
              "      <th>P1</th>\n",
              "      <th>P3</th>\n",
              "      <th>total marks</th>\n",
              "      <th>marksobt</th>\n",
              "      <th>status</th>\n",
              "      <th>percentage</th>\n",
              "    </tr>\n",
              "  </thead>\n",
              "  <tbody>\n",
              "    <tr>\n",
              "      <th>lyma</th>\n",
              "      <td>79.0</td>\n",
              "      <td>80</td>\n",
              "      <td>60</td>\n",
              "      <td>300</td>\n",
              "      <td>219.0</td>\n",
              "      <td>Pass</td>\n",
              "      <td>73.000000</td>\n",
              "    </tr>\n",
              "    <tr>\n",
              "      <th>roma</th>\n",
              "      <td>98.0</td>\n",
              "      <td>78</td>\n",
              "      <td>97</td>\n",
              "      <td>300</td>\n",
              "      <td>273.0</td>\n",
              "      <td>Pass</td>\n",
              "      <td>91.000000</td>\n",
              "    </tr>\n",
              "    <tr>\n",
              "      <th>leej</th>\n",
              "      <td>98.5</td>\n",
              "      <td>79</td>\n",
              "      <td>76</td>\n",
              "      <td>300</td>\n",
              "      <td>253.5</td>\n",
              "      <td>Pass</td>\n",
              "      <td>84.500000</td>\n",
              "    </tr>\n",
              "    <tr>\n",
              "      <th>susu</th>\n",
              "      <td>45.0</td>\n",
              "      <td>56</td>\n",
              "      <td>76</td>\n",
              "      <td>300</td>\n",
              "      <td>177.0</td>\n",
              "      <td>Fail</td>\n",
              "      <td>59.000000</td>\n",
              "    </tr>\n",
              "    <tr>\n",
              "      <th>sera</th>\n",
              "      <td>67.0</td>\n",
              "      <td>45</td>\n",
              "      <td>56</td>\n",
              "      <td>300</td>\n",
              "      <td>168.0</td>\n",
              "      <td>Fail</td>\n",
              "      <td>56.000000</td>\n",
              "    </tr>\n",
              "    <tr>\n",
              "      <th>baidar</th>\n",
              "      <td>87.0</td>\n",
              "      <td>35</td>\n",
              "      <td>64</td>\n",
              "      <td>300</td>\n",
              "      <td>186.0</td>\n",
              "      <td>Fail</td>\n",
              "      <td>62.000000</td>\n",
              "    </tr>\n",
              "    <tr>\n",
              "      <th>isha</th>\n",
              "      <td>83.0</td>\n",
              "      <td>25</td>\n",
              "      <td>87</td>\n",
              "      <td>300</td>\n",
              "      <td>195.0</td>\n",
              "      <td>Fail</td>\n",
              "      <td>65.000000</td>\n",
              "    </tr>\n",
              "    <tr>\n",
              "      <th>nemal</th>\n",
              "      <td>82.0</td>\n",
              "      <td>89</td>\n",
              "      <td>85</td>\n",
              "      <td>300</td>\n",
              "      <td>256.0</td>\n",
              "      <td>Pass</td>\n",
              "      <td>85.333333</td>\n",
              "    </tr>\n",
              "    <tr>\n",
              "      <th>tooba</th>\n",
              "      <td>91.0</td>\n",
              "      <td>89</td>\n",
              "      <td>87</td>\n",
              "      <td>300</td>\n",
              "      <td>267.0</td>\n",
              "      <td>Pass</td>\n",
              "      <td>89.000000</td>\n",
              "    </tr>\n",
              "    <tr>\n",
              "      <th>batoota</th>\n",
              "      <td>72.0</td>\n",
              "      <td>43</td>\n",
              "      <td>34</td>\n",
              "      <td>300</td>\n",
              "      <td>149.0</td>\n",
              "      <td>Fail</td>\n",
              "      <td>49.666667</td>\n",
              "    </tr>\n",
              "  </tbody>\n",
              "</table>\n",
              "</div>"
            ],
            "text/plain": [
              "           Ai  P1  P3  total marks  marksobt status  percentage\n",
              "lyma     79.0  80  60          300     219.0   Pass   73.000000\n",
              "roma     98.0  78  97          300     273.0   Pass   91.000000\n",
              "leej     98.5  79  76          300     253.5   Pass   84.500000\n",
              "susu     45.0  56  76          300     177.0   Fail   59.000000\n",
              "sera     67.0  45  56          300     168.0   Fail   56.000000\n",
              "baidar   87.0  35  64          300     186.0   Fail   62.000000\n",
              "isha     83.0  25  87          300     195.0   Fail   65.000000\n",
              "nemal    82.0  89  85          300     256.0   Pass   85.333333\n",
              "tooba    91.0  89  87          300     267.0   Pass   89.000000\n",
              "batoota  72.0  43  34          300     149.0   Fail   49.666667"
            ]
          },
          "metadata": {
            "tags": []
          },
          "execution_count": 86
        }
      ]
    },
    {
      "cell_type": "code",
      "metadata": {
        "id": "7meoAg0I99OX",
        "colab_type": "code",
        "outputId": "fac9f814-059f-41ad-ad32-f4924b856ec7",
        "colab": {
          "base_uri": "https://localhost:8080/",
          "height": 343
        }
      },
      "source": [
        "df3['status'] = ['Pass' if Ai > 33 and P1 > 33 and P2 > 33 else 'Fail' for Ai,P1,P2 in zip(df3.Ai, df3['P1'], df3['P3'])]\n",
        "df3\n",
        "#df3.Ai is same as df3['Ai'] . cannot be used with spaced names"
      ],
      "execution_count": 0,
      "outputs": [
        {
          "output_type": "execute_result",
          "data": {
            "text/html": [
              "<div>\n",
              "<style scoped>\n",
              "    .dataframe tbody tr th:only-of-type {\n",
              "        vertical-align: middle;\n",
              "    }\n",
              "\n",
              "    .dataframe tbody tr th {\n",
              "        vertical-align: top;\n",
              "    }\n",
              "\n",
              "    .dataframe thead th {\n",
              "        text-align: right;\n",
              "    }\n",
              "</style>\n",
              "<table border=\"1\" class=\"dataframe\">\n",
              "  <thead>\n",
              "    <tr style=\"text-align: right;\">\n",
              "      <th></th>\n",
              "      <th>Ai</th>\n",
              "      <th>P1</th>\n",
              "      <th>P3</th>\n",
              "      <th>total marks</th>\n",
              "      <th>marksobt</th>\n",
              "      <th>status</th>\n",
              "      <th>percentage</th>\n",
              "    </tr>\n",
              "  </thead>\n",
              "  <tbody>\n",
              "    <tr>\n",
              "      <th>lyma</th>\n",
              "      <td>79.0</td>\n",
              "      <td>80</td>\n",
              "      <td>60</td>\n",
              "      <td>300</td>\n",
              "      <td>219.0</td>\n",
              "      <td>Pass</td>\n",
              "      <td>73.000000</td>\n",
              "    </tr>\n",
              "    <tr>\n",
              "      <th>roma</th>\n",
              "      <td>98.0</td>\n",
              "      <td>78</td>\n",
              "      <td>97</td>\n",
              "      <td>300</td>\n",
              "      <td>273.0</td>\n",
              "      <td>Pass</td>\n",
              "      <td>91.000000</td>\n",
              "    </tr>\n",
              "    <tr>\n",
              "      <th>leej</th>\n",
              "      <td>98.5</td>\n",
              "      <td>79</td>\n",
              "      <td>76</td>\n",
              "      <td>300</td>\n",
              "      <td>253.5</td>\n",
              "      <td>Pass</td>\n",
              "      <td>84.500000</td>\n",
              "    </tr>\n",
              "    <tr>\n",
              "      <th>susu</th>\n",
              "      <td>45.0</td>\n",
              "      <td>56</td>\n",
              "      <td>76</td>\n",
              "      <td>300</td>\n",
              "      <td>177.0</td>\n",
              "      <td>Pass</td>\n",
              "      <td>59.000000</td>\n",
              "    </tr>\n",
              "    <tr>\n",
              "      <th>sera</th>\n",
              "      <td>67.0</td>\n",
              "      <td>45</td>\n",
              "      <td>56</td>\n",
              "      <td>300</td>\n",
              "      <td>168.0</td>\n",
              "      <td>Pass</td>\n",
              "      <td>56.000000</td>\n",
              "    </tr>\n",
              "    <tr>\n",
              "      <th>baidar</th>\n",
              "      <td>87.0</td>\n",
              "      <td>35</td>\n",
              "      <td>64</td>\n",
              "      <td>300</td>\n",
              "      <td>186.0</td>\n",
              "      <td>Pass</td>\n",
              "      <td>62.000000</td>\n",
              "    </tr>\n",
              "    <tr>\n",
              "      <th>isha</th>\n",
              "      <td>83.0</td>\n",
              "      <td>25</td>\n",
              "      <td>87</td>\n",
              "      <td>300</td>\n",
              "      <td>195.0</td>\n",
              "      <td>Fail</td>\n",
              "      <td>65.000000</td>\n",
              "    </tr>\n",
              "    <tr>\n",
              "      <th>nemal</th>\n",
              "      <td>82.0</td>\n",
              "      <td>89</td>\n",
              "      <td>85</td>\n",
              "      <td>300</td>\n",
              "      <td>256.0</td>\n",
              "      <td>Pass</td>\n",
              "      <td>85.333333</td>\n",
              "    </tr>\n",
              "    <tr>\n",
              "      <th>tooba</th>\n",
              "      <td>91.0</td>\n",
              "      <td>89</td>\n",
              "      <td>87</td>\n",
              "      <td>300</td>\n",
              "      <td>267.0</td>\n",
              "      <td>Pass</td>\n",
              "      <td>89.000000</td>\n",
              "    </tr>\n",
              "    <tr>\n",
              "      <th>batoota</th>\n",
              "      <td>72.0</td>\n",
              "      <td>43</td>\n",
              "      <td>34</td>\n",
              "      <td>300</td>\n",
              "      <td>149.0</td>\n",
              "      <td>Pass</td>\n",
              "      <td>49.666667</td>\n",
              "    </tr>\n",
              "  </tbody>\n",
              "</table>\n",
              "</div>"
            ],
            "text/plain": [
              "           Ai  P1  P3  total marks  marksobt status  percentage\n",
              "lyma     79.0  80  60          300     219.0   Pass   73.000000\n",
              "roma     98.0  78  97          300     273.0   Pass   91.000000\n",
              "leej     98.5  79  76          300     253.5   Pass   84.500000\n",
              "susu     45.0  56  76          300     177.0   Pass   59.000000\n",
              "sera     67.0  45  56          300     168.0   Pass   56.000000\n",
              "baidar   87.0  35  64          300     186.0   Pass   62.000000\n",
              "isha     83.0  25  87          300     195.0   Fail   65.000000\n",
              "nemal    82.0  89  85          300     256.0   Pass   85.333333\n",
              "tooba    91.0  89  87          300     267.0   Pass   89.000000\n",
              "batoota  72.0  43  34          300     149.0   Pass   49.666667"
            ]
          },
          "metadata": {
            "tags": []
          },
          "execution_count": 92
        }
      ]
    },
    {
      "cell_type": "code",
      "metadata": {
        "id": "t4DvCuYIB1GD",
        "colab_type": "code",
        "outputId": "d886676e-bced-4722-e6e1-b10f388f147b",
        "colab": {
          "base_uri": "https://localhost:8080/",
          "height": 70
        }
      },
      "source": [
        "df3.index"
      ],
      "execution_count": 0,
      "outputs": [
        {
          "output_type": "execute_result",
          "data": {
            "text/plain": [
              "Index(['lyma', 'roma', 'leej', 'susu', 'sera', 'baidar', 'isha', 'nemal',\n",
              "       'tooba', 'batoota'],\n",
              "      dtype='object')"
            ]
          },
          "metadata": {
            "tags": []
          },
          "execution_count": 94
        }
      ]
    },
    {
      "cell_type": "code",
      "metadata": {
        "id": "gz6yQakYB2ED",
        "colab_type": "code",
        "outputId": "7ac6bf27-b3b3-4b88-c245-de35cccc88c3",
        "colab": {
          "base_uri": "https://localhost:8080/",
          "height": 195
        }
      },
      "source": [
        "df3.head()                                     #returns first 5 by default"
      ],
      "execution_count": 0,
      "outputs": [
        {
          "output_type": "execute_result",
          "data": {
            "text/html": [
              "<div>\n",
              "<style scoped>\n",
              "    .dataframe tbody tr th:only-of-type {\n",
              "        vertical-align: middle;\n",
              "    }\n",
              "\n",
              "    .dataframe tbody tr th {\n",
              "        vertical-align: top;\n",
              "    }\n",
              "\n",
              "    .dataframe thead th {\n",
              "        text-align: right;\n",
              "    }\n",
              "</style>\n",
              "<table border=\"1\" class=\"dataframe\">\n",
              "  <thead>\n",
              "    <tr style=\"text-align: right;\">\n",
              "      <th></th>\n",
              "      <th>Ai</th>\n",
              "      <th>P1</th>\n",
              "      <th>P3</th>\n",
              "      <th>total marks</th>\n",
              "      <th>marksobt</th>\n",
              "      <th>status</th>\n",
              "      <th>percentage</th>\n",
              "    </tr>\n",
              "  </thead>\n",
              "  <tbody>\n",
              "    <tr>\n",
              "      <th>lyma</th>\n",
              "      <td>79.0</td>\n",
              "      <td>80</td>\n",
              "      <td>60</td>\n",
              "      <td>300</td>\n",
              "      <td>219.0</td>\n",
              "      <td>Pass</td>\n",
              "      <td>73.0</td>\n",
              "    </tr>\n",
              "    <tr>\n",
              "      <th>roma</th>\n",
              "      <td>98.0</td>\n",
              "      <td>78</td>\n",
              "      <td>97</td>\n",
              "      <td>300</td>\n",
              "      <td>273.0</td>\n",
              "      <td>Pass</td>\n",
              "      <td>91.0</td>\n",
              "    </tr>\n",
              "    <tr>\n",
              "      <th>leej</th>\n",
              "      <td>98.5</td>\n",
              "      <td>79</td>\n",
              "      <td>76</td>\n",
              "      <td>300</td>\n",
              "      <td>253.5</td>\n",
              "      <td>Pass</td>\n",
              "      <td>84.5</td>\n",
              "    </tr>\n",
              "    <tr>\n",
              "      <th>susu</th>\n",
              "      <td>45.0</td>\n",
              "      <td>56</td>\n",
              "      <td>76</td>\n",
              "      <td>300</td>\n",
              "      <td>177.0</td>\n",
              "      <td>Pass</td>\n",
              "      <td>59.0</td>\n",
              "    </tr>\n",
              "    <tr>\n",
              "      <th>sera</th>\n",
              "      <td>67.0</td>\n",
              "      <td>45</td>\n",
              "      <td>56</td>\n",
              "      <td>300</td>\n",
              "      <td>168.0</td>\n",
              "      <td>Pass</td>\n",
              "      <td>56.0</td>\n",
              "    </tr>\n",
              "  </tbody>\n",
              "</table>\n",
              "</div>"
            ],
            "text/plain": [
              "        Ai  P1  P3  total marks  marksobt status  percentage\n",
              "lyma  79.0  80  60          300     219.0   Pass        73.0\n",
              "roma  98.0  78  97          300     273.0   Pass        91.0\n",
              "leej  98.5  79  76          300     253.5   Pass        84.5\n",
              "susu  45.0  56  76          300     177.0   Pass        59.0\n",
              "sera  67.0  45  56          300     168.0   Pass        56.0"
            ]
          },
          "metadata": {
            "tags": []
          },
          "execution_count": 96
        }
      ]
    },
    {
      "cell_type": "code",
      "metadata": {
        "id": "5heb4Lc2Ck50",
        "colab_type": "code",
        "outputId": "8a5e68de-a40e-48bc-a0b1-85509a6c72f9",
        "colab": {
          "base_uri": "https://localhost:8080/",
          "height": 106
        }
      },
      "source": [
        "df3.head(2)                                    #returns top 2"
      ],
      "execution_count": 0,
      "outputs": [
        {
          "output_type": "execute_result",
          "data": {
            "text/html": [
              "<div>\n",
              "<style scoped>\n",
              "    .dataframe tbody tr th:only-of-type {\n",
              "        vertical-align: middle;\n",
              "    }\n",
              "\n",
              "    .dataframe tbody tr th {\n",
              "        vertical-align: top;\n",
              "    }\n",
              "\n",
              "    .dataframe thead th {\n",
              "        text-align: right;\n",
              "    }\n",
              "</style>\n",
              "<table border=\"1\" class=\"dataframe\">\n",
              "  <thead>\n",
              "    <tr style=\"text-align: right;\">\n",
              "      <th></th>\n",
              "      <th>Ai</th>\n",
              "      <th>P1</th>\n",
              "      <th>P3</th>\n",
              "      <th>total marks</th>\n",
              "      <th>marksobt</th>\n",
              "      <th>status</th>\n",
              "      <th>percentage</th>\n",
              "    </tr>\n",
              "  </thead>\n",
              "  <tbody>\n",
              "    <tr>\n",
              "      <th>lyma</th>\n",
              "      <td>79.0</td>\n",
              "      <td>80</td>\n",
              "      <td>60</td>\n",
              "      <td>300</td>\n",
              "      <td>219.0</td>\n",
              "      <td>Pass</td>\n",
              "      <td>73.0</td>\n",
              "    </tr>\n",
              "    <tr>\n",
              "      <th>roma</th>\n",
              "      <td>98.0</td>\n",
              "      <td>78</td>\n",
              "      <td>97</td>\n",
              "      <td>300</td>\n",
              "      <td>273.0</td>\n",
              "      <td>Pass</td>\n",
              "      <td>91.0</td>\n",
              "    </tr>\n",
              "  </tbody>\n",
              "</table>\n",
              "</div>"
            ],
            "text/plain": [
              "        Ai  P1  P3  total marks  marksobt status  percentage\n",
              "lyma  79.0  80  60          300     219.0   Pass        73.0\n",
              "roma  98.0  78  97          300     273.0   Pass        91.0"
            ]
          },
          "metadata": {
            "tags": []
          },
          "execution_count": 97
        }
      ]
    },
    {
      "cell_type": "code",
      "metadata": {
        "id": "9tmFqE9NCv9p",
        "colab_type": "code",
        "outputId": "d78f98b0-2267-49f9-b345-c66748bbd82a",
        "colab": {
          "base_uri": "https://localhost:8080/",
          "height": 195
        }
      },
      "source": [
        "df3.tail()                                      #returns bottom 5"
      ],
      "execution_count": 0,
      "outputs": [
        {
          "output_type": "execute_result",
          "data": {
            "text/html": [
              "<div>\n",
              "<style scoped>\n",
              "    .dataframe tbody tr th:only-of-type {\n",
              "        vertical-align: middle;\n",
              "    }\n",
              "\n",
              "    .dataframe tbody tr th {\n",
              "        vertical-align: top;\n",
              "    }\n",
              "\n",
              "    .dataframe thead th {\n",
              "        text-align: right;\n",
              "    }\n",
              "</style>\n",
              "<table border=\"1\" class=\"dataframe\">\n",
              "  <thead>\n",
              "    <tr style=\"text-align: right;\">\n",
              "      <th></th>\n",
              "      <th>Ai</th>\n",
              "      <th>P1</th>\n",
              "      <th>P3</th>\n",
              "      <th>total marks</th>\n",
              "      <th>marksobt</th>\n",
              "      <th>status</th>\n",
              "      <th>percentage</th>\n",
              "    </tr>\n",
              "  </thead>\n",
              "  <tbody>\n",
              "    <tr>\n",
              "      <th>baidar</th>\n",
              "      <td>87.0</td>\n",
              "      <td>35</td>\n",
              "      <td>64</td>\n",
              "      <td>300</td>\n",
              "      <td>186.0</td>\n",
              "      <td>Pass</td>\n",
              "      <td>62.000000</td>\n",
              "    </tr>\n",
              "    <tr>\n",
              "      <th>isha</th>\n",
              "      <td>83.0</td>\n",
              "      <td>25</td>\n",
              "      <td>87</td>\n",
              "      <td>300</td>\n",
              "      <td>195.0</td>\n",
              "      <td>Fail</td>\n",
              "      <td>65.000000</td>\n",
              "    </tr>\n",
              "    <tr>\n",
              "      <th>nemal</th>\n",
              "      <td>82.0</td>\n",
              "      <td>89</td>\n",
              "      <td>85</td>\n",
              "      <td>300</td>\n",
              "      <td>256.0</td>\n",
              "      <td>Pass</td>\n",
              "      <td>85.333333</td>\n",
              "    </tr>\n",
              "    <tr>\n",
              "      <th>tooba</th>\n",
              "      <td>91.0</td>\n",
              "      <td>89</td>\n",
              "      <td>87</td>\n",
              "      <td>300</td>\n",
              "      <td>267.0</td>\n",
              "      <td>Pass</td>\n",
              "      <td>89.000000</td>\n",
              "    </tr>\n",
              "    <tr>\n",
              "      <th>batoota</th>\n",
              "      <td>72.0</td>\n",
              "      <td>43</td>\n",
              "      <td>34</td>\n",
              "      <td>300</td>\n",
              "      <td>149.0</td>\n",
              "      <td>Pass</td>\n",
              "      <td>49.666667</td>\n",
              "    </tr>\n",
              "  </tbody>\n",
              "</table>\n",
              "</div>"
            ],
            "text/plain": [
              "           Ai  P1  P3  total marks  marksobt status  percentage\n",
              "baidar   87.0  35  64          300     186.0   Pass   62.000000\n",
              "isha     83.0  25  87          300     195.0   Fail   65.000000\n",
              "nemal    82.0  89  85          300     256.0   Pass   85.333333\n",
              "tooba    91.0  89  87          300     267.0   Pass   89.000000\n",
              "batoota  72.0  43  34          300     149.0   Pass   49.666667"
            ]
          },
          "metadata": {
            "tags": []
          },
          "execution_count": 98
        }
      ]
    },
    {
      "cell_type": "code",
      "metadata": {
        "id": "x_NaFAEFC6sY",
        "colab_type": "code",
        "outputId": "69ee77ab-67ca-4cb1-eb1a-5c9319219ba0",
        "colab": {
          "base_uri": "https://localhost:8080/",
          "height": 136
        }
      },
      "source": [
        "df3.tail(3)                                       #retruns bototom 3 "
      ],
      "execution_count": 0,
      "outputs": [
        {
          "output_type": "execute_result",
          "data": {
            "text/html": [
              "<div>\n",
              "<style scoped>\n",
              "    .dataframe tbody tr th:only-of-type {\n",
              "        vertical-align: middle;\n",
              "    }\n",
              "\n",
              "    .dataframe tbody tr th {\n",
              "        vertical-align: top;\n",
              "    }\n",
              "\n",
              "    .dataframe thead th {\n",
              "        text-align: right;\n",
              "    }\n",
              "</style>\n",
              "<table border=\"1\" class=\"dataframe\">\n",
              "  <thead>\n",
              "    <tr style=\"text-align: right;\">\n",
              "      <th></th>\n",
              "      <th>Ai</th>\n",
              "      <th>P1</th>\n",
              "      <th>P3</th>\n",
              "      <th>total marks</th>\n",
              "      <th>marksobt</th>\n",
              "      <th>status</th>\n",
              "      <th>percentage</th>\n",
              "    </tr>\n",
              "  </thead>\n",
              "  <tbody>\n",
              "    <tr>\n",
              "      <th>nemal</th>\n",
              "      <td>82.0</td>\n",
              "      <td>89</td>\n",
              "      <td>85</td>\n",
              "      <td>300</td>\n",
              "      <td>256.0</td>\n",
              "      <td>Pass</td>\n",
              "      <td>85.333333</td>\n",
              "    </tr>\n",
              "    <tr>\n",
              "      <th>tooba</th>\n",
              "      <td>91.0</td>\n",
              "      <td>89</td>\n",
              "      <td>87</td>\n",
              "      <td>300</td>\n",
              "      <td>267.0</td>\n",
              "      <td>Pass</td>\n",
              "      <td>89.000000</td>\n",
              "    </tr>\n",
              "    <tr>\n",
              "      <th>batoota</th>\n",
              "      <td>72.0</td>\n",
              "      <td>43</td>\n",
              "      <td>34</td>\n",
              "      <td>300</td>\n",
              "      <td>149.0</td>\n",
              "      <td>Pass</td>\n",
              "      <td>49.666667</td>\n",
              "    </tr>\n",
              "  </tbody>\n",
              "</table>\n",
              "</div>"
            ],
            "text/plain": [
              "           Ai  P1  P3  total marks  marksobt status  percentage\n",
              "nemal    82.0  89  85          300     256.0   Pass   85.333333\n",
              "tooba    91.0  89  87          300     267.0   Pass   89.000000\n",
              "batoota  72.0  43  34          300     149.0   Pass   49.666667"
            ]
          },
          "metadata": {
            "tags": []
          },
          "execution_count": 99
        }
      ]
    },
    {
      "cell_type": "code",
      "metadata": {
        "id": "u0NazG7ODB4a",
        "colab_type": "code",
        "outputId": "b1cfcfb5-881f-46db-d121-7534314c4c72",
        "colab": {
          "base_uri": "https://localhost:8080/",
          "height": 158
        }
      },
      "source": [
        "df3.loc['lyma']                                    #retruns all the values of this index"
      ],
      "execution_count": 0,
      "outputs": [
        {
          "output_type": "execute_result",
          "data": {
            "text/plain": [
              "Ai               79\n",
              "P1               80\n",
              "P3               60\n",
              "total marks     300\n",
              "marksobt        219\n",
              "status         Pass\n",
              "percentage       73\n",
              "Name: lyma, dtype: object"
            ]
          },
          "metadata": {
            "tags": []
          },
          "execution_count": 100
        }
      ]
    },
    {
      "cell_type": "code",
      "metadata": {
        "id": "R96hYKMwDN0o",
        "colab_type": "code",
        "outputId": "3798c9b9-f88a-4efb-9d53-754f7854f3a9",
        "colab": {
          "base_uri": "https://localhost:8080/",
          "height": 158
        }
      },
      "source": [
        "df3.loc['sera']"
      ],
      "execution_count": 0,
      "outputs": [
        {
          "output_type": "execute_result",
          "data": {
            "text/plain": [
              "Ai               67\n",
              "P1               45\n",
              "P3               56\n",
              "total marks     300\n",
              "marksobt        168\n",
              "status         Pass\n",
              "percentage       56\n",
              "Name: sera, dtype: object"
            ]
          },
          "metadata": {
            "tags": []
          },
          "execution_count": 101
        }
      ]
    },
    {
      "cell_type": "markdown",
      "metadata": {
        "id": "JltQxZP7DVWP",
        "colab_type": "text"
      },
      "source": [
        "###slicing with loc and iloc\n",
        "loc includes last index <br>\n",
        "iloc excludes last index"
      ]
    },
    {
      "cell_type": "code",
      "metadata": {
        "id": "9HCj8Id5DarE",
        "colab_type": "code",
        "outputId": "0fadd8b1-8f0d-4f4c-cb9f-7342241c09cf",
        "colab": {
          "base_uri": "https://localhost:8080/",
          "height": 166
        }
      },
      "source": [
        "df3.loc['lyma' : 'susu']                       #returns lyma to susu (includes last index) unlike iloc "
      ],
      "execution_count": 0,
      "outputs": [
        {
          "output_type": "execute_result",
          "data": {
            "text/html": [
              "<div>\n",
              "<style scoped>\n",
              "    .dataframe tbody tr th:only-of-type {\n",
              "        vertical-align: middle;\n",
              "    }\n",
              "\n",
              "    .dataframe tbody tr th {\n",
              "        vertical-align: top;\n",
              "    }\n",
              "\n",
              "    .dataframe thead th {\n",
              "        text-align: right;\n",
              "    }\n",
              "</style>\n",
              "<table border=\"1\" class=\"dataframe\">\n",
              "  <thead>\n",
              "    <tr style=\"text-align: right;\">\n",
              "      <th></th>\n",
              "      <th>Ai</th>\n",
              "      <th>P1</th>\n",
              "      <th>P3</th>\n",
              "      <th>total marks</th>\n",
              "      <th>marksobt</th>\n",
              "      <th>status</th>\n",
              "      <th>percentage</th>\n",
              "    </tr>\n",
              "  </thead>\n",
              "  <tbody>\n",
              "    <tr>\n",
              "      <th>lyma</th>\n",
              "      <td>79.0</td>\n",
              "      <td>80</td>\n",
              "      <td>60</td>\n",
              "      <td>300</td>\n",
              "      <td>219.0</td>\n",
              "      <td>Pass</td>\n",
              "      <td>73.0</td>\n",
              "    </tr>\n",
              "    <tr>\n",
              "      <th>roma</th>\n",
              "      <td>98.0</td>\n",
              "      <td>78</td>\n",
              "      <td>97</td>\n",
              "      <td>300</td>\n",
              "      <td>273.0</td>\n",
              "      <td>Pass</td>\n",
              "      <td>91.0</td>\n",
              "    </tr>\n",
              "    <tr>\n",
              "      <th>leej</th>\n",
              "      <td>98.5</td>\n",
              "      <td>79</td>\n",
              "      <td>76</td>\n",
              "      <td>300</td>\n",
              "      <td>253.5</td>\n",
              "      <td>Pass</td>\n",
              "      <td>84.5</td>\n",
              "    </tr>\n",
              "    <tr>\n",
              "      <th>susu</th>\n",
              "      <td>45.0</td>\n",
              "      <td>56</td>\n",
              "      <td>76</td>\n",
              "      <td>300</td>\n",
              "      <td>177.0</td>\n",
              "      <td>Pass</td>\n",
              "      <td>59.0</td>\n",
              "    </tr>\n",
              "  </tbody>\n",
              "</table>\n",
              "</div>"
            ],
            "text/plain": [
              "        Ai  P1  P3  total marks  marksobt status  percentage\n",
              "lyma  79.0  80  60          300     219.0   Pass        73.0\n",
              "roma  98.0  78  97          300     273.0   Pass        91.0\n",
              "leej  98.5  79  76          300     253.5   Pass        84.5\n",
              "susu  45.0  56  76          300     177.0   Pass        59.0"
            ]
          },
          "metadata": {
            "tags": []
          },
          "execution_count": 104
        }
      ]
    },
    {
      "cell_type": "code",
      "metadata": {
        "id": "Mpd6Wu90DlNU",
        "colab_type": "code",
        "outputId": "58131eaf-eac8-4dde-bd7b-dc4c8332408f",
        "colab": {
          "base_uri": "https://localhost:8080/",
          "height": 136
        }
      },
      "source": [
        "df3.iloc[0:3]                                  #i location doesn't include last index like normal indexing (excludes last index)"
      ],
      "execution_count": 0,
      "outputs": [
        {
          "output_type": "execute_result",
          "data": {
            "text/html": [
              "<div>\n",
              "<style scoped>\n",
              "    .dataframe tbody tr th:only-of-type {\n",
              "        vertical-align: middle;\n",
              "    }\n",
              "\n",
              "    .dataframe tbody tr th {\n",
              "        vertical-align: top;\n",
              "    }\n",
              "\n",
              "    .dataframe thead th {\n",
              "        text-align: right;\n",
              "    }\n",
              "</style>\n",
              "<table border=\"1\" class=\"dataframe\">\n",
              "  <thead>\n",
              "    <tr style=\"text-align: right;\">\n",
              "      <th></th>\n",
              "      <th>Ai</th>\n",
              "      <th>P1</th>\n",
              "      <th>P3</th>\n",
              "      <th>total marks</th>\n",
              "      <th>marksobt</th>\n",
              "      <th>status</th>\n",
              "      <th>percentage</th>\n",
              "    </tr>\n",
              "  </thead>\n",
              "  <tbody>\n",
              "    <tr>\n",
              "      <th>lyma</th>\n",
              "      <td>79.0</td>\n",
              "      <td>80</td>\n",
              "      <td>60</td>\n",
              "      <td>300</td>\n",
              "      <td>219.0</td>\n",
              "      <td>Pass</td>\n",
              "      <td>73.0</td>\n",
              "    </tr>\n",
              "    <tr>\n",
              "      <th>roma</th>\n",
              "      <td>98.0</td>\n",
              "      <td>78</td>\n",
              "      <td>97</td>\n",
              "      <td>300</td>\n",
              "      <td>273.0</td>\n",
              "      <td>Pass</td>\n",
              "      <td>91.0</td>\n",
              "    </tr>\n",
              "    <tr>\n",
              "      <th>leej</th>\n",
              "      <td>98.5</td>\n",
              "      <td>79</td>\n",
              "      <td>76</td>\n",
              "      <td>300</td>\n",
              "      <td>253.5</td>\n",
              "      <td>Pass</td>\n",
              "      <td>84.5</td>\n",
              "    </tr>\n",
              "  </tbody>\n",
              "</table>\n",
              "</div>"
            ],
            "text/plain": [
              "        Ai  P1  P3  total marks  marksobt status  percentage\n",
              "lyma  79.0  80  60          300     219.0   Pass        73.0\n",
              "roma  98.0  78  97          300     273.0   Pass        91.0\n",
              "leej  98.5  79  76          300     253.5   Pass        84.5"
            ]
          },
          "metadata": {
            "tags": []
          },
          "execution_count": 107
        }
      ]
    },
    {
      "cell_type": "markdown",
      "metadata": {
        "id": "tub91xJ-Etov",
        "colab_type": "text"
      },
      "source": [
        "###accessing values "
      ]
    },
    {
      "cell_type": "code",
      "metadata": {
        "id": "s-ognPlrEoGB",
        "colab_type": "code",
        "outputId": "9b4be0fc-9a66-4690-b273-0a079156cf75",
        "colab": {
          "base_uri": "https://localhost:8080/",
          "height": 34
        }
      },
      "source": [
        "df3.loc['lyma']['percentage']      "
      ],
      "execution_count": 0,
      "outputs": [
        {
          "output_type": "execute_result",
          "data": {
            "text/plain": [
              "73.0"
            ]
          },
          "metadata": {
            "tags": []
          },
          "execution_count": 108
        }
      ]
    },
    {
      "cell_type": "code",
      "metadata": {
        "id": "eJxesrRrFSZI",
        "colab_type": "code",
        "outputId": "751343c8-0e6d-45a6-cced-0e9509eccc93",
        "colab": {
          "base_uri": "https://localhost:8080/",
          "height": 343
        }
      },
      "source": [
        "df3.iloc[::-1]\n",
        "df3"
      ],
      "execution_count": 0,
      "outputs": [
        {
          "output_type": "execute_result",
          "data": {
            "text/html": [
              "<div>\n",
              "<style scoped>\n",
              "    .dataframe tbody tr th:only-of-type {\n",
              "        vertical-align: middle;\n",
              "    }\n",
              "\n",
              "    .dataframe tbody tr th {\n",
              "        vertical-align: top;\n",
              "    }\n",
              "\n",
              "    .dataframe thead th {\n",
              "        text-align: right;\n",
              "    }\n",
              "</style>\n",
              "<table border=\"1\" class=\"dataframe\">\n",
              "  <thead>\n",
              "    <tr style=\"text-align: right;\">\n",
              "      <th></th>\n",
              "      <th>Ai</th>\n",
              "      <th>P1</th>\n",
              "      <th>P3</th>\n",
              "      <th>total marks</th>\n",
              "      <th>marksobt</th>\n",
              "      <th>status</th>\n",
              "      <th>percentage</th>\n",
              "    </tr>\n",
              "  </thead>\n",
              "  <tbody>\n",
              "    <tr>\n",
              "      <th>lyma</th>\n",
              "      <td>79.0</td>\n",
              "      <td>80</td>\n",
              "      <td>60</td>\n",
              "      <td>300</td>\n",
              "      <td>219.0</td>\n",
              "      <td>Pass</td>\n",
              "      <td>73.000000</td>\n",
              "    </tr>\n",
              "    <tr>\n",
              "      <th>roma</th>\n",
              "      <td>98.0</td>\n",
              "      <td>78</td>\n",
              "      <td>97</td>\n",
              "      <td>300</td>\n",
              "      <td>273.0</td>\n",
              "      <td>Pass</td>\n",
              "      <td>91.000000</td>\n",
              "    </tr>\n",
              "    <tr>\n",
              "      <th>leej</th>\n",
              "      <td>98.5</td>\n",
              "      <td>79</td>\n",
              "      <td>76</td>\n",
              "      <td>300</td>\n",
              "      <td>253.5</td>\n",
              "      <td>Pass</td>\n",
              "      <td>84.500000</td>\n",
              "    </tr>\n",
              "    <tr>\n",
              "      <th>susu</th>\n",
              "      <td>45.0</td>\n",
              "      <td>56</td>\n",
              "      <td>76</td>\n",
              "      <td>300</td>\n",
              "      <td>177.0</td>\n",
              "      <td>Pass</td>\n",
              "      <td>59.000000</td>\n",
              "    </tr>\n",
              "    <tr>\n",
              "      <th>sera</th>\n",
              "      <td>67.0</td>\n",
              "      <td>45</td>\n",
              "      <td>56</td>\n",
              "      <td>300</td>\n",
              "      <td>168.0</td>\n",
              "      <td>Pass</td>\n",
              "      <td>56.000000</td>\n",
              "    </tr>\n",
              "    <tr>\n",
              "      <th>baidar</th>\n",
              "      <td>87.0</td>\n",
              "      <td>35</td>\n",
              "      <td>64</td>\n",
              "      <td>300</td>\n",
              "      <td>186.0</td>\n",
              "      <td>Pass</td>\n",
              "      <td>62.000000</td>\n",
              "    </tr>\n",
              "    <tr>\n",
              "      <th>isha</th>\n",
              "      <td>83.0</td>\n",
              "      <td>25</td>\n",
              "      <td>87</td>\n",
              "      <td>300</td>\n",
              "      <td>195.0</td>\n",
              "      <td>Fail</td>\n",
              "      <td>65.000000</td>\n",
              "    </tr>\n",
              "    <tr>\n",
              "      <th>nemal</th>\n",
              "      <td>82.0</td>\n",
              "      <td>89</td>\n",
              "      <td>85</td>\n",
              "      <td>300</td>\n",
              "      <td>256.0</td>\n",
              "      <td>Pass</td>\n",
              "      <td>85.333333</td>\n",
              "    </tr>\n",
              "    <tr>\n",
              "      <th>tooba</th>\n",
              "      <td>91.0</td>\n",
              "      <td>89</td>\n",
              "      <td>87</td>\n",
              "      <td>300</td>\n",
              "      <td>267.0</td>\n",
              "      <td>Pass</td>\n",
              "      <td>89.000000</td>\n",
              "    </tr>\n",
              "    <tr>\n",
              "      <th>batoota</th>\n",
              "      <td>72.0</td>\n",
              "      <td>43</td>\n",
              "      <td>34</td>\n",
              "      <td>300</td>\n",
              "      <td>149.0</td>\n",
              "      <td>Pass</td>\n",
              "      <td>49.666667</td>\n",
              "    </tr>\n",
              "  </tbody>\n",
              "</table>\n",
              "</div>"
            ],
            "text/plain": [
              "           Ai  P1  P3  total marks  marksobt status  percentage\n",
              "lyma     79.0  80  60          300     219.0   Pass   73.000000\n",
              "roma     98.0  78  97          300     273.0   Pass   91.000000\n",
              "leej     98.5  79  76          300     253.5   Pass   84.500000\n",
              "susu     45.0  56  76          300     177.0   Pass   59.000000\n",
              "sera     67.0  45  56          300     168.0   Pass   56.000000\n",
              "baidar   87.0  35  64          300     186.0   Pass   62.000000\n",
              "isha     83.0  25  87          300     195.0   Fail   65.000000\n",
              "nemal    82.0  89  85          300     256.0   Pass   85.333333\n",
              "tooba    91.0  89  87          300     267.0   Pass   89.000000\n",
              "batoota  72.0  43  34          300     149.0   Pass   49.666667"
            ]
          },
          "metadata": {
            "tags": []
          },
          "execution_count": 111
        }
      ]
    },
    {
      "cell_type": "markdown",
      "metadata": {
        "id": "yF7WRS6JE3Kq",
        "colab_type": "text"
      },
      "source": [
        "###inserting a record (row)"
      ]
    },
    {
      "cell_type": "code",
      "metadata": {
        "id": "YRIBQMojE5yG",
        "colab_type": "code",
        "outputId": "4988b6d9-0a4d-4633-f4b8-d9372ad4a66a",
        "colab": {
          "base_uri": "https://localhost:8080/",
          "height": 332
        }
      },
      "source": [
        "df3.loc['abc'] = ['a']\n",
        "df3"
      ],
      "execution_count": 0,
      "outputs": [
        {
          "output_type": "error",
          "ename": "ValueError",
          "evalue": "ignored",
          "traceback": [
            "\u001b[0;31m---------------------------------------------------------------------------\u001b[0m",
            "\u001b[0;31mValueError\u001b[0m                                Traceback (most recent call last)",
            "\u001b[0;32m<ipython-input-114-263551f4b620>\u001b[0m in \u001b[0;36m<module>\u001b[0;34m()\u001b[0m\n\u001b[0;32m----> 1\u001b[0;31m \u001b[0mdf3\u001b[0m\u001b[0;34m.\u001b[0m\u001b[0mloc\u001b[0m\u001b[0;34m[\u001b[0m\u001b[0;34m'abc'\u001b[0m\u001b[0;34m]\u001b[0m \u001b[0;34m=\u001b[0m \u001b[0;34m[\u001b[0m\u001b[0;34m'a'\u001b[0m\u001b[0;34m]\u001b[0m\u001b[0;34m\u001b[0m\u001b[0;34m\u001b[0m\u001b[0m\n\u001b[0m\u001b[1;32m      2\u001b[0m \u001b[0mdf3\u001b[0m\u001b[0;34m\u001b[0m\u001b[0;34m\u001b[0m\u001b[0m\n",
            "\u001b[0;32m/usr/local/lib/python3.6/dist-packages/pandas/core/indexing.py\u001b[0m in \u001b[0;36m__setitem__\u001b[0;34m(self, key, value)\u001b[0m\n\u001b[1;32m    188\u001b[0m             \u001b[0mkey\u001b[0m \u001b[0;34m=\u001b[0m \u001b[0mcom\u001b[0m\u001b[0;34m.\u001b[0m\u001b[0mapply_if_callable\u001b[0m\u001b[0;34m(\u001b[0m\u001b[0mkey\u001b[0m\u001b[0;34m,\u001b[0m \u001b[0mself\u001b[0m\u001b[0;34m.\u001b[0m\u001b[0mobj\u001b[0m\u001b[0;34m)\u001b[0m\u001b[0;34m\u001b[0m\u001b[0;34m\u001b[0m\u001b[0m\n\u001b[1;32m    189\u001b[0m         \u001b[0mindexer\u001b[0m \u001b[0;34m=\u001b[0m \u001b[0mself\u001b[0m\u001b[0;34m.\u001b[0m\u001b[0m_get_setitem_indexer\u001b[0m\u001b[0;34m(\u001b[0m\u001b[0mkey\u001b[0m\u001b[0;34m)\u001b[0m\u001b[0;34m\u001b[0m\u001b[0;34m\u001b[0m\u001b[0m\n\u001b[0;32m--> 190\u001b[0;31m         \u001b[0mself\u001b[0m\u001b[0;34m.\u001b[0m\u001b[0m_setitem_with_indexer\u001b[0m\u001b[0;34m(\u001b[0m\u001b[0mindexer\u001b[0m\u001b[0;34m,\u001b[0m \u001b[0mvalue\u001b[0m\u001b[0;34m)\u001b[0m\u001b[0;34m\u001b[0m\u001b[0;34m\u001b[0m\u001b[0m\n\u001b[0m\u001b[1;32m    191\u001b[0m \u001b[0;34m\u001b[0m\u001b[0m\n\u001b[1;32m    192\u001b[0m     \u001b[0;32mdef\u001b[0m \u001b[0m_validate_key\u001b[0m\u001b[0;34m(\u001b[0m\u001b[0mself\u001b[0m\u001b[0;34m,\u001b[0m \u001b[0mkey\u001b[0m\u001b[0;34m,\u001b[0m \u001b[0maxis\u001b[0m\u001b[0;34m)\u001b[0m\u001b[0;34m:\u001b[0m\u001b[0;34m\u001b[0m\u001b[0;34m\u001b[0m\u001b[0m\n",
            "\u001b[0;32m/usr/local/lib/python3.6/dist-packages/pandas/core/indexing.py\u001b[0m in \u001b[0;36m_setitem_with_indexer\u001b[0;34m(self, indexer, value)\u001b[0m\n\u001b[1;32m    609\u001b[0m \u001b[0;34m\u001b[0m\u001b[0m\n\u001b[1;32m    610\u001b[0m                     \u001b[0;32mif\u001b[0m \u001b[0mlen\u001b[0m\u001b[0;34m(\u001b[0m\u001b[0mlabels\u001b[0m\u001b[0;34m)\u001b[0m \u001b[0;34m!=\u001b[0m \u001b[0mlen\u001b[0m\u001b[0;34m(\u001b[0m\u001b[0mvalue\u001b[0m\u001b[0;34m)\u001b[0m\u001b[0;34m:\u001b[0m\u001b[0;34m\u001b[0m\u001b[0;34m\u001b[0m\u001b[0m\n\u001b[0;32m--> 611\u001b[0;31m                         raise ValueError('Must have equal len keys and value '\n\u001b[0m\u001b[1;32m    612\u001b[0m                                          'when setting with an iterable')\n\u001b[1;32m    613\u001b[0m \u001b[0;34m\u001b[0m\u001b[0m\n",
            "\u001b[0;31mValueError\u001b[0m: Must have equal len keys and value when setting with an iterable"
          ]
        }
      ]
    },
    {
      "cell_type": "code",
      "metadata": {
        "id": "i1h_z2lTFJfU",
        "colab_type": "code",
        "outputId": "6a75c069-db41-49a9-d63a-075553e6e27e",
        "colab": {
          "base_uri": "https://localhost:8080/",
          "height": 373
        }
      },
      "source": [
        "df3.loc['abc'] = [1,2,3,4,5,6,7]\n",
        "df3"
      ],
      "execution_count": 0,
      "outputs": [
        {
          "output_type": "execute_result",
          "data": {
            "text/html": [
              "<div>\n",
              "<style scoped>\n",
              "    .dataframe tbody tr th:only-of-type {\n",
              "        vertical-align: middle;\n",
              "    }\n",
              "\n",
              "    .dataframe tbody tr th {\n",
              "        vertical-align: top;\n",
              "    }\n",
              "\n",
              "    .dataframe thead th {\n",
              "        text-align: right;\n",
              "    }\n",
              "</style>\n",
              "<table border=\"1\" class=\"dataframe\">\n",
              "  <thead>\n",
              "    <tr style=\"text-align: right;\">\n",
              "      <th></th>\n",
              "      <th>Ai</th>\n",
              "      <th>P1</th>\n",
              "      <th>P3</th>\n",
              "      <th>total marks</th>\n",
              "      <th>marksobt</th>\n",
              "      <th>status</th>\n",
              "      <th>percentage</th>\n",
              "    </tr>\n",
              "  </thead>\n",
              "  <tbody>\n",
              "    <tr>\n",
              "      <th>lyma</th>\n",
              "      <td>79.0</td>\n",
              "      <td>80</td>\n",
              "      <td>60</td>\n",
              "      <td>300</td>\n",
              "      <td>219.0</td>\n",
              "      <td>Pass</td>\n",
              "      <td>73.000000</td>\n",
              "    </tr>\n",
              "    <tr>\n",
              "      <th>roma</th>\n",
              "      <td>98.0</td>\n",
              "      <td>78</td>\n",
              "      <td>97</td>\n",
              "      <td>300</td>\n",
              "      <td>273.0</td>\n",
              "      <td>Pass</td>\n",
              "      <td>91.000000</td>\n",
              "    </tr>\n",
              "    <tr>\n",
              "      <th>leej</th>\n",
              "      <td>98.5</td>\n",
              "      <td>79</td>\n",
              "      <td>76</td>\n",
              "      <td>300</td>\n",
              "      <td>253.5</td>\n",
              "      <td>Pass</td>\n",
              "      <td>84.500000</td>\n",
              "    </tr>\n",
              "    <tr>\n",
              "      <th>susu</th>\n",
              "      <td>45.0</td>\n",
              "      <td>56</td>\n",
              "      <td>76</td>\n",
              "      <td>300</td>\n",
              "      <td>177.0</td>\n",
              "      <td>Pass</td>\n",
              "      <td>59.000000</td>\n",
              "    </tr>\n",
              "    <tr>\n",
              "      <th>sera</th>\n",
              "      <td>67.0</td>\n",
              "      <td>45</td>\n",
              "      <td>56</td>\n",
              "      <td>300</td>\n",
              "      <td>168.0</td>\n",
              "      <td>Pass</td>\n",
              "      <td>56.000000</td>\n",
              "    </tr>\n",
              "    <tr>\n",
              "      <th>baidar</th>\n",
              "      <td>87.0</td>\n",
              "      <td>35</td>\n",
              "      <td>64</td>\n",
              "      <td>300</td>\n",
              "      <td>186.0</td>\n",
              "      <td>Pass</td>\n",
              "      <td>62.000000</td>\n",
              "    </tr>\n",
              "    <tr>\n",
              "      <th>isha</th>\n",
              "      <td>83.0</td>\n",
              "      <td>25</td>\n",
              "      <td>87</td>\n",
              "      <td>300</td>\n",
              "      <td>195.0</td>\n",
              "      <td>Fail</td>\n",
              "      <td>65.000000</td>\n",
              "    </tr>\n",
              "    <tr>\n",
              "      <th>nemal</th>\n",
              "      <td>82.0</td>\n",
              "      <td>89</td>\n",
              "      <td>85</td>\n",
              "      <td>300</td>\n",
              "      <td>256.0</td>\n",
              "      <td>Pass</td>\n",
              "      <td>85.333333</td>\n",
              "    </tr>\n",
              "    <tr>\n",
              "      <th>tooba</th>\n",
              "      <td>91.0</td>\n",
              "      <td>89</td>\n",
              "      <td>87</td>\n",
              "      <td>300</td>\n",
              "      <td>267.0</td>\n",
              "      <td>Pass</td>\n",
              "      <td>89.000000</td>\n",
              "    </tr>\n",
              "    <tr>\n",
              "      <th>batoota</th>\n",
              "      <td>72.0</td>\n",
              "      <td>43</td>\n",
              "      <td>34</td>\n",
              "      <td>300</td>\n",
              "      <td>149.0</td>\n",
              "      <td>Pass</td>\n",
              "      <td>49.666667</td>\n",
              "    </tr>\n",
              "    <tr>\n",
              "      <th>abc</th>\n",
              "      <td>1.0</td>\n",
              "      <td>2</td>\n",
              "      <td>3</td>\n",
              "      <td>4</td>\n",
              "      <td>5.0</td>\n",
              "      <td>6</td>\n",
              "      <td>7.000000</td>\n",
              "    </tr>\n",
              "  </tbody>\n",
              "</table>\n",
              "</div>"
            ],
            "text/plain": [
              "           Ai  P1  P3  total marks  marksobt status  percentage\n",
              "lyma     79.0  80  60          300     219.0   Pass   73.000000\n",
              "roma     98.0  78  97          300     273.0   Pass   91.000000\n",
              "leej     98.5  79  76          300     253.5   Pass   84.500000\n",
              "susu     45.0  56  76          300     177.0   Pass   59.000000\n",
              "sera     67.0  45  56          300     168.0   Pass   56.000000\n",
              "baidar   87.0  35  64          300     186.0   Pass   62.000000\n",
              "isha     83.0  25  87          300     195.0   Fail   65.000000\n",
              "nemal    82.0  89  85          300     256.0   Pass   85.333333\n",
              "tooba    91.0  89  87          300     267.0   Pass   89.000000\n",
              "batoota  72.0  43  34          300     149.0   Pass   49.666667\n",
              "abc       1.0   2   3            4       5.0      6    7.000000"
            ]
          },
          "metadata": {
            "tags": []
          },
          "execution_count": 113
        }
      ]
    }
  ]
}