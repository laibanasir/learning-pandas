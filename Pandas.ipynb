{
  "nbformat": 4,
  "nbformat_minor": 0,
  "metadata": {
    "colab": {
      "name": "Pandas.ipynb",
      "provenance": [],
      "collapsed_sections": []
    },
    "kernelspec": {
      "name": "python3",
      "display_name": "Python 3"
    }
  },
  "cells": [
    {
      "cell_type": "code",
      "metadata": {
        "id": "qXJnv3Hwa2sw",
        "colab_type": "code",
        "colab": {}
      },
      "source": [
        "import pandas as pd\n",
        "import numpy as np"
      ],
      "execution_count": 0,
      "outputs": []
    },
    {
      "cell_type": "markdown",
      "metadata": {
        "id": "EXJHvL-ZbC5l",
        "colab_type": "text"
      },
      "source": [
        "#Introduction to Pandas"
      ]
    },
    {
      "cell_type": "markdown",
      "metadata": {
        "id": "POxm699ObBJ9",
        "colab_type": "text"
      },
      "source": [
        "###Panda Data Structures , Series & DataFrame\n",
        "Data structure is the arrangement of data <br>\n",
        "Series is a sequence of numbers <br>"
      ]
    },
    {
      "cell_type": "markdown",
      "metadata": {
        "id": "AgclDfJkbmJD",
        "colab_type": "text"
      },
      "source": [
        "###Series\n",
        "pandas provide indexing with the series <br>\n",
        "s1 is called the Pandas Series object <br>\n",
        "0-9 is the default index given by the series object <br>\n"
      ]
    },
    {
      "cell_type": "code",
      "metadata": {
        "id": "P5xfCdLha7K2",
        "colab_type": "code",
        "outputId": "0b4dd579-26d7-407a-8dc7-38ff26fccb4b",
        "colab": {
          "base_uri": "https://localhost:8080/",
          "height": 210
        }
      },
      "source": [
        "s1 = pd.Series([11,22,33,44,55,66,77,88,99,10])\n",
        "s1                        #Pandas Series Object"
      ],
      "execution_count": 0,
      "outputs": [
        {
          "output_type": "execute_result",
          "data": {
            "text/plain": [
              "0    11\n",
              "1    22\n",
              "2    33\n",
              "3    44\n",
              "4    55\n",
              "5    66\n",
              "6    77\n",
              "7    88\n",
              "8    99\n",
              "9    10\n",
              "dtype: int64"
            ]
          },
          "metadata": {
            "tags": []
          },
          "execution_count": 56
        }
      ]
    },
    {
      "cell_type": "markdown",
      "metadata": {
        "id": "CCV5sszgcSay",
        "colab_type": "text"
      },
      "source": [
        "###accessing value by index\n",
        "Series object[index]"
      ]
    },
    {
      "cell_type": "code",
      "metadata": {
        "id": "nrAXQO5wcXOt",
        "colab_type": "code",
        "outputId": "6c03244d-3fff-4ea6-b6d7-42fca8a13cb3",
        "colab": {
          "base_uri": "https://localhost:8080/",
          "height": 34
        }
      },
      "source": [
        "s1[3]             "
      ],
      "execution_count": 0,
      "outputs": [
        {
          "output_type": "execute_result",
          "data": {
            "text/plain": [
              "44"
            ]
          },
          "metadata": {
            "tags": []
          },
          "execution_count": 57
        }
      ]
    },
    {
      "cell_type": "markdown",
      "metadata": {
        "id": "KtoqVH30cj7d",
        "colab_type": "text"
      },
      "source": [
        "###fancy indexing \n",
        "Series object[[list of indexes]]"
      ]
    },
    {
      "cell_type": "code",
      "metadata": {
        "id": "eykFKxBhcmr1",
        "colab_type": "code",
        "outputId": "6cfa515c-4030-435b-b60e-4ada937f34fb",
        "colab": {
          "base_uri": "https://localhost:8080/",
          "height": 122
        }
      },
      "source": [
        "s1[[1,2,4,7,8]]"
      ],
      "execution_count": 0,
      "outputs": [
        {
          "output_type": "execute_result",
          "data": {
            "text/plain": [
              "1    22\n",
              "2    33\n",
              "4    55\n",
              "7    88\n",
              "8    99\n",
              "dtype: int64"
            ]
          },
          "metadata": {
            "tags": []
          },
          "execution_count": 58
        }
      ]
    },
    {
      "cell_type": "markdown",
      "metadata": {
        "id": "5BiT1YDqc6kS",
        "colab_type": "text"
      },
      "source": [
        "###modifying values\n",
        "Series object[index] = new value"
      ]
    },
    {
      "cell_type": "code",
      "metadata": {
        "id": "1dfqxgiqc8qi",
        "colab_type": "code",
        "outputId": "78ee5372-359d-4cca-e6af-a9e69a6fa735",
        "colab": {
          "base_uri": "https://localhost:8080/",
          "height": 210
        }
      },
      "source": [
        "s1[5] = 23          #modifying values in series\n",
        "s1"
      ],
      "execution_count": 0,
      "outputs": [
        {
          "output_type": "execute_result",
          "data": {
            "text/plain": [
              "0    11\n",
              "1    22\n",
              "2    33\n",
              "3    44\n",
              "4    55\n",
              "5    23\n",
              "6    77\n",
              "7    88\n",
              "8    99\n",
              "9    10\n",
              "dtype: int64"
            ]
          },
          "metadata": {
            "tags": []
          },
          "execution_count": 59
        }
      ]
    },
    {
      "cell_type": "markdown",
      "metadata": {
        "id": "QLCxTMuHdmRV",
        "colab_type": "text"
      },
      "source": [
        "####modifying multiple values\n",
        "series object[[list of indexes]] = [new values]"
      ]
    },
    {
      "cell_type": "code",
      "metadata": {
        "id": "3dSzCJBpdrV4",
        "colab_type": "code",
        "outputId": "7268206d-2041-49c4-ac52-5378dcbe5cff",
        "colab": {
          "base_uri": "https://localhost:8080/",
          "height": 210
        }
      },
      "source": [
        "s1[[2,3,4,6]] = [222,333,444,555]\n",
        "s1"
      ],
      "execution_count": 0,
      "outputs": [
        {
          "output_type": "execute_result",
          "data": {
            "text/plain": [
              "0     11\n",
              "1     22\n",
              "2    222\n",
              "3    333\n",
              "4    444\n",
              "5     23\n",
              "6    555\n",
              "7     88\n",
              "8     99\n",
              "9     10\n",
              "dtype: int64"
            ]
          },
          "metadata": {
            "tags": []
          },
          "execution_count": 60
        }
      ]
    },
    {
      "cell_type": "markdown",
      "metadata": {
        "id": "dHA3-rjydH2N",
        "colab_type": "text"
      },
      "source": [
        "###deleting values\n",
        "del series object[index]"
      ]
    },
    {
      "cell_type": "code",
      "metadata": {
        "id": "2eC1svZddKJs",
        "colab_type": "code",
        "outputId": "b0bc7a05-c6f3-4f49-9381-32e76351c918",
        "colab": {
          "base_uri": "https://localhost:8080/",
          "height": 193
        }
      },
      "source": [
        "del s1[5]         #deleting a value \n",
        "s1"
      ],
      "execution_count": 0,
      "outputs": [
        {
          "output_type": "execute_result",
          "data": {
            "text/plain": [
              "0     11\n",
              "1     22\n",
              "2    222\n",
              "3    333\n",
              "4    444\n",
              "6    555\n",
              "7     88\n",
              "8     99\n",
              "9     10\n",
              "dtype: int64"
            ]
          },
          "metadata": {
            "tags": []
          },
          "execution_count": 61
        }
      ]
    },
    {
      "cell_type": "markdown",
      "metadata": {
        "id": "tQCYOiLsdaXv",
        "colab_type": "text"
      },
      "source": [
        "###inserting values\n",
        "series object[new index] = value\n"
      ]
    },
    {
      "cell_type": "code",
      "metadata": {
        "id": "1csO6mUceKR9",
        "colab_type": "code",
        "outputId": "510ee105-bdbd-4bdd-8a39-32164f47b21c",
        "colab": {
          "base_uri": "https://localhost:8080/",
          "height": 210
        }
      },
      "source": [
        "s1[20] = 33\n",
        "s1"
      ],
      "execution_count": 0,
      "outputs": [
        {
          "output_type": "execute_result",
          "data": {
            "text/plain": [
              "0      11\n",
              "1      22\n",
              "2     222\n",
              "3     333\n",
              "4     444\n",
              "6     555\n",
              "7      88\n",
              "8      99\n",
              "9      10\n",
              "20     33\n",
              "dtype: int64"
            ]
          },
          "metadata": {
            "tags": []
          },
          "execution_count": 62
        }
      ]
    },
    {
      "cell_type": "markdown",
      "metadata": {
        "id": "j7S08yI2fR4T",
        "colab_type": "text"
      },
      "source": [
        "###custom indexs"
      ]
    },
    {
      "cell_type": "code",
      "metadata": {
        "id": "JtwvighUgvso",
        "colab_type": "code",
        "outputId": "87ff3557-cf67-4749-eb3b-9894448a2398",
        "colab": {
          "base_uri": "https://localhost:8080/",
          "height": 140
        }
      },
      "source": [
        "s2 = pd.Series([1,11,111,111], index = ['oranges', 'apples', 'mangoes', 'watermelons'])\n",
        "print(s2.index)\n",
        "print(s2.values)\n",
        "print(s2)"
      ],
      "execution_count": 0,
      "outputs": [
        {
          "output_type": "stream",
          "text": [
            "Index(['oranges', 'apples', 'mangoes', 'watermelons'], dtype='object')\n",
            "[  1  11 111 111]\n",
            "oranges          1\n",
            "apples          11\n",
            "mangoes        111\n",
            "watermelons    111\n",
            "dtype: int64\n"
          ],
          "name": "stdout"
        }
      ]
    },
    {
      "cell_type": "code",
      "metadata": {
        "id": "7_gLRChphutd",
        "colab_type": "code",
        "outputId": "28b6684d-ade8-486e-fa7a-6f013761ea3d",
        "colab": {
          "base_uri": "https://localhost:8080/",
          "height": 105
        }
      },
      "source": [
        "ourIndex = ['oranges', 'apples', 'mangoes', 'watermelons']\n",
        "s2 = pd.Series([1,11,111,111], index = ourIndex)\n",
        "s2"
      ],
      "execution_count": 0,
      "outputs": [
        {
          "output_type": "execute_result",
          "data": {
            "text/plain": [
              "oranges          1\n",
              "apples          11\n",
              "mangoes        111\n",
              "watermelons    111\n",
              "dtype: int64"
            ]
          },
          "metadata": {
            "tags": []
          },
          "execution_count": 64
        }
      ]
    },
    {
      "cell_type": "markdown",
      "metadata": {
        "id": "XUbH8W5AhUOF",
        "colab_type": "text"
      },
      "source": [
        "###Conditional operators"
      ]
    },
    {
      "cell_type": "code",
      "metadata": {
        "id": "ydnE2QeVhUZ6",
        "colab_type": "code",
        "outputId": "75b67867-9940-4014-e838-5818937ea396",
        "colab": {
          "base_uri": "https://localhost:8080/",
          "height": 105
        }
      },
      "source": [
        "s2>30"
      ],
      "execution_count": 0,
      "outputs": [
        {
          "output_type": "execute_result",
          "data": {
            "text/plain": [
              "oranges        False\n",
              "apples         False\n",
              "mangoes         True\n",
              "watermelons     True\n",
              "dtype: bool"
            ]
          },
          "metadata": {
            "tags": []
          },
          "execution_count": 65
        }
      ]
    },
    {
      "cell_type": "code",
      "metadata": {
        "id": "_F3voUp4jQ_P",
        "colab_type": "code",
        "outputId": "90f1c1d2-7f41-478b-80ec-465a3af8b3e5",
        "colab": {
          "base_uri": "https://localhost:8080/",
          "height": 70
        }
      },
      "source": [
        "s2[s2>30]"
      ],
      "execution_count": 0,
      "outputs": [
        {
          "output_type": "execute_result",
          "data": {
            "text/plain": [
              "mangoes        111\n",
              "watermelons    111\n",
              "dtype: int64"
            ]
          },
          "metadata": {
            "tags": []
          },
          "execution_count": 66
        }
      ]
    },
    {
      "cell_type": "code",
      "metadata": {
        "id": "L31UeVg4jh-M",
        "colab_type": "code",
        "outputId": "9d1de166-6d0d-4038-d0a1-a3281b2895ad",
        "colab": {
          "base_uri": "https://localhost:8080/",
          "height": 105
        }
      },
      "source": [
        "s2<30"
      ],
      "execution_count": 0,
      "outputs": [
        {
          "output_type": "execute_result",
          "data": {
            "text/plain": [
              "oranges         True\n",
              "apples          True\n",
              "mangoes        False\n",
              "watermelons    False\n",
              "dtype: bool"
            ]
          },
          "metadata": {
            "tags": []
          },
          "execution_count": 67
        }
      ]
    },
    {
      "cell_type": "code",
      "metadata": {
        "id": "PVXAzOOhjUfk",
        "colab_type": "code",
        "outputId": "8ec95bd0-c21c-4799-c463-21f728a69ab5",
        "colab": {
          "base_uri": "https://localhost:8080/",
          "height": 70
        }
      },
      "source": [
        "s2[s2<30]"
      ],
      "execution_count": 0,
      "outputs": [
        {
          "output_type": "execute_result",
          "data": {
            "text/plain": [
              "oranges     1\n",
              "apples     11\n",
              "dtype: int64"
            ]
          },
          "metadata": {
            "tags": []
          },
          "execution_count": 68
        }
      ]
    },
    {
      "cell_type": "code",
      "metadata": {
        "id": "gh6aXxgHkJiR",
        "colab_type": "code",
        "outputId": "574920cc-7650-4cb3-fd00-50aeaa4d4e60",
        "colab": {
          "base_uri": "https://localhost:8080/",
          "height": 34
        }
      },
      "source": [
        "'oranges' in s2"
      ],
      "execution_count": 0,
      "outputs": [
        {
          "output_type": "execute_result",
          "data": {
            "text/plain": [
              "True"
            ]
          },
          "metadata": {
            "tags": []
          },
          "execution_count": 69
        }
      ]
    },
    {
      "cell_type": "code",
      "metadata": {
        "id": "3gz_W699kkKA",
        "colab_type": "code",
        "outputId": "a9263819-e8ea-4c67-a7b2-f2566c62d38e",
        "colab": {
          "base_uri": "https://localhost:8080/",
          "height": 34
        }
      },
      "source": [
        "'peaches' in s2"
      ],
      "execution_count": 0,
      "outputs": [
        {
          "output_type": "execute_result",
          "data": {
            "text/plain": [
              "False"
            ]
          },
          "metadata": {
            "tags": []
          },
          "execution_count": 70
        }
      ]
    },
    {
      "cell_type": "markdown",
      "metadata": {
        "id": "NWgPenbDknTL",
        "colab_type": "text"
      },
      "source": [
        "###creating a series using dictionary  "
      ]
    },
    {
      "cell_type": "code",
      "metadata": {
        "id": "p0OqdoxdktoR",
        "colab_type": "code",
        "outputId": "754f8028-66fb-445d-8d12-aec21a4b4035",
        "colab": {
          "base_uri": "https://localhost:8080/",
          "height": 105
        }
      },
      "source": [
        "sdata = {'roma' : 1000, \"lyma\" : 2000, \"leej\" : 3000, \"sera\" : 4000}\n",
        "data = pd.Series(sdata)\n",
        "data"
      ],
      "execution_count": 0,
      "outputs": [
        {
          "output_type": "execute_result",
          "data": {
            "text/plain": [
              "roma    1000\n",
              "lyma    2000\n",
              "leej    3000\n",
              "sera    4000\n",
              "dtype: int64"
            ]
          },
          "metadata": {
            "tags": []
          },
          "execution_count": 71
        }
      ]
    },
    {
      "cell_type": "code",
      "metadata": {
        "id": "HH4wvbUnl6lW",
        "colab_type": "code",
        "outputId": "cc1d734b-a5ba-4112-b94b-b3d426e726f6",
        "colab": {
          "base_uri": "https://localhost:8080/",
          "height": 140
        }
      },
      "source": [
        "names = ['lyma','leej','sera','roma','susu','baidar']\n",
        "data1 = pd.Series(sdata, index = names)\n",
        "data1"
      ],
      "execution_count": 0,
      "outputs": [
        {
          "output_type": "execute_result",
          "data": {
            "text/plain": [
              "lyma      2000.0\n",
              "leej      3000.0\n",
              "sera      4000.0\n",
              "roma      1000.0\n",
              "susu         NaN\n",
              "baidar       NaN\n",
              "dtype: float64"
            ]
          },
          "metadata": {
            "tags": []
          },
          "execution_count": 72
        }
      ]
    },
    {
      "cell_type": "code",
      "metadata": {
        "id": "metACyvbmVi1",
        "colab_type": "code",
        "outputId": "a83ed547-9560-4e62-b214-a0fd013758f1",
        "colab": {
          "base_uri": "https://localhost:8080/",
          "height": 140
        }
      },
      "source": [
        "data1['susu'] = 5000\n",
        "data1"
      ],
      "execution_count": 0,
      "outputs": [
        {
          "output_type": "execute_result",
          "data": {
            "text/plain": [
              "lyma      2000.0\n",
              "leej      3000.0\n",
              "sera      4000.0\n",
              "roma      1000.0\n",
              "susu      5000.0\n",
              "baidar       NaN\n",
              "dtype: float64"
            ]
          },
          "metadata": {
            "tags": []
          },
          "execution_count": 73
        }
      ]
    },
    {
      "cell_type": "markdown",
      "metadata": {
        "id": "7sYN-DGwnuS5",
        "colab_type": "text"
      },
      "source": [
        "###isnull "
      ]
    },
    {
      "cell_type": "code",
      "metadata": {
        "id": "R6RP8_wSnn6g",
        "colab_type": "code",
        "outputId": "2a804cec-60a7-4b6d-f62d-634f65586d54",
        "colab": {
          "base_uri": "https://localhost:8080/",
          "height": 140
        }
      },
      "source": [
        "data1.isnull()"
      ],
      "execution_count": 0,
      "outputs": [
        {
          "output_type": "execute_result",
          "data": {
            "text/plain": [
              "lyma      False\n",
              "leej      False\n",
              "sera      False\n",
              "roma      False\n",
              "susu      False\n",
              "baidar     True\n",
              "dtype: bool"
            ]
          },
          "metadata": {
            "tags": []
          },
          "execution_count": 74
        }
      ]
    },
    {
      "cell_type": "code",
      "metadata": {
        "id": "wwwq0EvlnxiF",
        "colab_type": "code",
        "outputId": "1b7821d4-d469-450c-db60-b16bf8a0e56f",
        "colab": {
          "base_uri": "https://localhost:8080/",
          "height": 140
        }
      },
      "source": [
        "data1.notnull()"
      ],
      "execution_count": 0,
      "outputs": [
        {
          "output_type": "execute_result",
          "data": {
            "text/plain": [
              "lyma       True\n",
              "leej       True\n",
              "sera       True\n",
              "roma       True\n",
              "susu       True\n",
              "baidar    False\n",
              "dtype: bool"
            ]
          },
          "metadata": {
            "tags": []
          },
          "execution_count": 75
        }
      ]
    },
    {
      "cell_type": "markdown",
      "metadata": {
        "id": "czWP_m7Jn_xb",
        "colab_type": "text"
      },
      "source": [
        "##DataFrame\n",
        "represents a rectangular table of data & contains an ordered collections of columns, each of which can be a different value type (numeric, string, boolean, etc)"
      ]
    },
    {
      "cell_type": "code",
      "metadata": {
        "id": "jY_JAz3boENi",
        "colab_type": "code",
        "outputId": "f68d8220-6b1d-43d8-d42a-c23a87872c90",
        "colab": {
          "base_uri": "https://localhost:8080/",
          "height": 166
        }
      },
      "source": [
        "data = {'city' : ['toronto','dc','dammam','new york'],\n",
        "       'year' : [2000, 2001, 2002, 2003],\n",
        "       'pop' : [1.5, 1.7, 1.9, 2.0]}\n",
        "df1 = pd.DataFrame(data)\n",
        "df1"
      ],
      "execution_count": 0,
      "outputs": [
        {
          "output_type": "execute_result",
          "data": {
            "text/html": [
              "<div>\n",
              "<style scoped>\n",
              "    .dataframe tbody tr th:only-of-type {\n",
              "        vertical-align: middle;\n",
              "    }\n",
              "\n",
              "    .dataframe tbody tr th {\n",
              "        vertical-align: top;\n",
              "    }\n",
              "\n",
              "    .dataframe thead th {\n",
              "        text-align: right;\n",
              "    }\n",
              "</style>\n",
              "<table border=\"1\" class=\"dataframe\">\n",
              "  <thead>\n",
              "    <tr style=\"text-align: right;\">\n",
              "      <th></th>\n",
              "      <th>city</th>\n",
              "      <th>year</th>\n",
              "      <th>pop</th>\n",
              "    </tr>\n",
              "  </thead>\n",
              "  <tbody>\n",
              "    <tr>\n",
              "      <th>0</th>\n",
              "      <td>toronto</td>\n",
              "      <td>2000</td>\n",
              "      <td>1.5</td>\n",
              "    </tr>\n",
              "    <tr>\n",
              "      <th>1</th>\n",
              "      <td>dc</td>\n",
              "      <td>2001</td>\n",
              "      <td>1.7</td>\n",
              "    </tr>\n",
              "    <tr>\n",
              "      <th>2</th>\n",
              "      <td>dammam</td>\n",
              "      <td>2002</td>\n",
              "      <td>1.9</td>\n",
              "    </tr>\n",
              "    <tr>\n",
              "      <th>3</th>\n",
              "      <td>new york</td>\n",
              "      <td>2003</td>\n",
              "      <td>2.0</td>\n",
              "    </tr>\n",
              "  </tbody>\n",
              "</table>\n",
              "</div>"
            ],
            "text/plain": [
              "       city  year  pop\n",
              "0   toronto  2000  1.5\n",
              "1        dc  2001  1.7\n",
              "2    dammam  2002  1.9\n",
              "3  new york  2003  2.0"
            ]
          },
          "metadata": {
            "tags": []
          },
          "execution_count": 76
        }
      ]
    },
    {
      "cell_type": "code",
      "metadata": {
        "id": "hSbi6rffs0XO",
        "colab_type": "code",
        "outputId": "5ce723ef-0dcf-4f6e-9f4f-91861e458ba1",
        "colab": {
          "base_uri": "https://localhost:8080/",
          "height": 254
        }
      },
      "source": [
        "data1 = {'blood group' : ['O', 'A', 'B', 'A+', 'A-', 'B+','B-'],\n",
        "        '# of donators': [56, 70, 12, 3, 10, 23, 89],\n",
        "        '# required' : [67, 89, 12, 2, 5, 78, 12]}\n",
        "df2 = pd.DataFrame(data1, index = ['one', 'two', 'three', 'four', 'five', 'six', 'seven'])\n",
        "df2"
      ],
      "execution_count": 0,
      "outputs": [
        {
          "output_type": "execute_result",
          "data": {
            "text/html": [
              "<div>\n",
              "<style scoped>\n",
              "    .dataframe tbody tr th:only-of-type {\n",
              "        vertical-align: middle;\n",
              "    }\n",
              "\n",
              "    .dataframe tbody tr th {\n",
              "        vertical-align: top;\n",
              "    }\n",
              "\n",
              "    .dataframe thead th {\n",
              "        text-align: right;\n",
              "    }\n",
              "</style>\n",
              "<table border=\"1\" class=\"dataframe\">\n",
              "  <thead>\n",
              "    <tr style=\"text-align: right;\">\n",
              "      <th></th>\n",
              "      <th>blood group</th>\n",
              "      <th># of donators</th>\n",
              "      <th># required</th>\n",
              "    </tr>\n",
              "  </thead>\n",
              "  <tbody>\n",
              "    <tr>\n",
              "      <th>one</th>\n",
              "      <td>O</td>\n",
              "      <td>56</td>\n",
              "      <td>67</td>\n",
              "    </tr>\n",
              "    <tr>\n",
              "      <th>two</th>\n",
              "      <td>A</td>\n",
              "      <td>70</td>\n",
              "      <td>89</td>\n",
              "    </tr>\n",
              "    <tr>\n",
              "      <th>three</th>\n",
              "      <td>B</td>\n",
              "      <td>12</td>\n",
              "      <td>12</td>\n",
              "    </tr>\n",
              "    <tr>\n",
              "      <th>four</th>\n",
              "      <td>A+</td>\n",
              "      <td>3</td>\n",
              "      <td>2</td>\n",
              "    </tr>\n",
              "    <tr>\n",
              "      <th>five</th>\n",
              "      <td>A-</td>\n",
              "      <td>10</td>\n",
              "      <td>5</td>\n",
              "    </tr>\n",
              "    <tr>\n",
              "      <th>six</th>\n",
              "      <td>B+</td>\n",
              "      <td>23</td>\n",
              "      <td>78</td>\n",
              "    </tr>\n",
              "    <tr>\n",
              "      <th>seven</th>\n",
              "      <td>B-</td>\n",
              "      <td>89</td>\n",
              "      <td>12</td>\n",
              "    </tr>\n",
              "  </tbody>\n",
              "</table>\n",
              "</div>"
            ],
            "text/plain": [
              "      blood group  # of donators  # required\n",
              "one             O             56          67\n",
              "two             A             70          89\n",
              "three           B             12          12\n",
              "four           A+              3           2\n",
              "five           A-             10           5\n",
              "six            B+             23          78\n",
              "seven          B-             89          12"
            ]
          },
          "metadata": {
            "tags": []
          },
          "execution_count": 77
        }
      ]
    },
    {
      "cell_type": "code",
      "metadata": {
        "id": "SCE_NqmDuFXw",
        "colab_type": "code",
        "outputId": "48a19ba3-db5b-4fc7-9673-a73313863292",
        "colab": {
          "base_uri": "https://localhost:8080/",
          "height": 34
        }
      },
      "source": [
        "type(df2)"
      ],
      "execution_count": 0,
      "outputs": [
        {
          "output_type": "execute_result",
          "data": {
            "text/plain": [
              "pandas.core.frame.DataFrame"
            ]
          },
          "metadata": {
            "tags": []
          },
          "execution_count": 78
        }
      ]
    },
    {
      "cell_type": "code",
      "metadata": {
        "id": "3osZQFkauMGb",
        "colab_type": "code",
        "outputId": "844c4d06-7211-48eb-fced-ade05e563a22",
        "colab": {
          "base_uri": "https://localhost:8080/",
          "height": 34
        }
      },
      "source": [
        "df2.shape"
      ],
      "execution_count": 0,
      "outputs": [
        {
          "output_type": "execute_result",
          "data": {
            "text/plain": [
              "(7, 3)"
            ]
          },
          "metadata": {
            "tags": []
          },
          "execution_count": 79
        }
      ]
    },
    {
      "cell_type": "markdown",
      "metadata": {
        "id": "6QAhlm3dui4x",
        "colab_type": "text"
      },
      "source": [
        "##DataFrame slicing and indexing"
      ]
    },
    {
      "cell_type": "code",
      "metadata": {
        "id": "wOpR3TC0upHL",
        "colab_type": "code",
        "outputId": "23c274b4-363b-4633-932e-b446f9df4de5",
        "colab": {
          "base_uri": "https://localhost:8080/",
          "height": 158
        }
      },
      "source": [
        "df2['blood group']                                  #selecting single column by column header"
      ],
      "execution_count": 0,
      "outputs": [
        {
          "output_type": "execute_result",
          "data": {
            "text/plain": [
              "one       O\n",
              "two       A\n",
              "three     B\n",
              "four     A+\n",
              "five     A-\n",
              "six      B+\n",
              "seven    B-\n",
              "Name: blood group, dtype: object"
            ]
          },
          "metadata": {
            "tags": []
          },
          "execution_count": 80
        }
      ]
    },
    {
      "cell_type": "code",
      "metadata": {
        "id": "HxChyzUhu3JN",
        "colab_type": "code",
        "outputId": "16a77243-8f75-4b4e-c316-ebbbdcedaa37",
        "colab": {
          "base_uri": "https://localhost:8080/",
          "height": 254
        }
      },
      "source": [
        "df2[['blood group', '# of donators']]               #selecting multiple columns by column headers"
      ],
      "execution_count": 0,
      "outputs": [
        {
          "output_type": "execute_result",
          "data": {
            "text/html": [
              "<div>\n",
              "<style scoped>\n",
              "    .dataframe tbody tr th:only-of-type {\n",
              "        vertical-align: middle;\n",
              "    }\n",
              "\n",
              "    .dataframe tbody tr th {\n",
              "        vertical-align: top;\n",
              "    }\n",
              "\n",
              "    .dataframe thead th {\n",
              "        text-align: right;\n",
              "    }\n",
              "</style>\n",
              "<table border=\"1\" class=\"dataframe\">\n",
              "  <thead>\n",
              "    <tr style=\"text-align: right;\">\n",
              "      <th></th>\n",
              "      <th>blood group</th>\n",
              "      <th># of donators</th>\n",
              "    </tr>\n",
              "  </thead>\n",
              "  <tbody>\n",
              "    <tr>\n",
              "      <th>one</th>\n",
              "      <td>O</td>\n",
              "      <td>56</td>\n",
              "    </tr>\n",
              "    <tr>\n",
              "      <th>two</th>\n",
              "      <td>A</td>\n",
              "      <td>70</td>\n",
              "    </tr>\n",
              "    <tr>\n",
              "      <th>three</th>\n",
              "      <td>B</td>\n",
              "      <td>12</td>\n",
              "    </tr>\n",
              "    <tr>\n",
              "      <th>four</th>\n",
              "      <td>A+</td>\n",
              "      <td>3</td>\n",
              "    </tr>\n",
              "    <tr>\n",
              "      <th>five</th>\n",
              "      <td>A-</td>\n",
              "      <td>10</td>\n",
              "    </tr>\n",
              "    <tr>\n",
              "      <th>six</th>\n",
              "      <td>B+</td>\n",
              "      <td>23</td>\n",
              "    </tr>\n",
              "    <tr>\n",
              "      <th>seven</th>\n",
              "      <td>B-</td>\n",
              "      <td>89</td>\n",
              "    </tr>\n",
              "  </tbody>\n",
              "</table>\n",
              "</div>"
            ],
            "text/plain": [
              "      blood group  # of donators\n",
              "one             O             56\n",
              "two             A             70\n",
              "three           B             12\n",
              "four           A+              3\n",
              "five           A-             10\n",
              "six            B+             23\n",
              "seven          B-             89"
            ]
          },
          "metadata": {
            "tags": []
          },
          "execution_count": 81
        }
      ]
    },
    {
      "cell_type": "markdown",
      "metadata": {
        "id": "TzuNpig3vsBB",
        "colab_type": "text"
      },
      "source": [
        "###deleting column"
      ]
    },
    {
      "cell_type": "code",
      "metadata": {
        "id": "oy3y7zDZvrJ1",
        "colab_type": "code",
        "outputId": "3e87c70a-403e-4820-d998-cfb53fbd704b",
        "colab": {
          "base_uri": "https://localhost:8080/",
          "height": 254
        }
      },
      "source": [
        "del df2['blood group']\n",
        "df2"
      ],
      "execution_count": 0,
      "outputs": [
        {
          "output_type": "execute_result",
          "data": {
            "text/html": [
              "<div>\n",
              "<style scoped>\n",
              "    .dataframe tbody tr th:only-of-type {\n",
              "        vertical-align: middle;\n",
              "    }\n",
              "\n",
              "    .dataframe tbody tr th {\n",
              "        vertical-align: top;\n",
              "    }\n",
              "\n",
              "    .dataframe thead th {\n",
              "        text-align: right;\n",
              "    }\n",
              "</style>\n",
              "<table border=\"1\" class=\"dataframe\">\n",
              "  <thead>\n",
              "    <tr style=\"text-align: right;\">\n",
              "      <th></th>\n",
              "      <th># of donators</th>\n",
              "      <th># required</th>\n",
              "    </tr>\n",
              "  </thead>\n",
              "  <tbody>\n",
              "    <tr>\n",
              "      <th>one</th>\n",
              "      <td>56</td>\n",
              "      <td>67</td>\n",
              "    </tr>\n",
              "    <tr>\n",
              "      <th>two</th>\n",
              "      <td>70</td>\n",
              "      <td>89</td>\n",
              "    </tr>\n",
              "    <tr>\n",
              "      <th>three</th>\n",
              "      <td>12</td>\n",
              "      <td>12</td>\n",
              "    </tr>\n",
              "    <tr>\n",
              "      <th>four</th>\n",
              "      <td>3</td>\n",
              "      <td>2</td>\n",
              "    </tr>\n",
              "    <tr>\n",
              "      <th>five</th>\n",
              "      <td>10</td>\n",
              "      <td>5</td>\n",
              "    </tr>\n",
              "    <tr>\n",
              "      <th>six</th>\n",
              "      <td>23</td>\n",
              "      <td>78</td>\n",
              "    </tr>\n",
              "    <tr>\n",
              "      <th>seven</th>\n",
              "      <td>89</td>\n",
              "      <td>12</td>\n",
              "    </tr>\n",
              "  </tbody>\n",
              "</table>\n",
              "</div>"
            ],
            "text/plain": [
              "       # of donators  # required\n",
              "one               56          67\n",
              "two               70          89\n",
              "three             12          12\n",
              "four               3           2\n",
              "five              10           5\n",
              "six               23          78\n",
              "seven             89          12"
            ]
          },
          "metadata": {
            "tags": []
          },
          "execution_count": 82
        }
      ]
    },
    {
      "cell_type": "markdown",
      "metadata": {
        "id": "P-D8_Kjev4-a",
        "colab_type": "text"
      },
      "source": [
        "###inserting column"
      ]
    },
    {
      "cell_type": "code",
      "metadata": {
        "id": "bc8L3zrdv8LZ",
        "colab_type": "code",
        "outputId": "8b54c6df-847a-48aa-8f79-ba166a9b4ccd",
        "colab": {
          "base_uri": "https://localhost:8080/",
          "height": 254
        }
      },
      "source": [
        "df2['blood group'] = ['A', 'O', 'B', 'A+', 'A-', 'B+', 'B-']\n",
        "df2"
      ],
      "execution_count": 0,
      "outputs": [
        {
          "output_type": "execute_result",
          "data": {
            "text/html": [
              "<div>\n",
              "<style scoped>\n",
              "    .dataframe tbody tr th:only-of-type {\n",
              "        vertical-align: middle;\n",
              "    }\n",
              "\n",
              "    .dataframe tbody tr th {\n",
              "        vertical-align: top;\n",
              "    }\n",
              "\n",
              "    .dataframe thead th {\n",
              "        text-align: right;\n",
              "    }\n",
              "</style>\n",
              "<table border=\"1\" class=\"dataframe\">\n",
              "  <thead>\n",
              "    <tr style=\"text-align: right;\">\n",
              "      <th></th>\n",
              "      <th># of donators</th>\n",
              "      <th># required</th>\n",
              "      <th>blood group</th>\n",
              "    </tr>\n",
              "  </thead>\n",
              "  <tbody>\n",
              "    <tr>\n",
              "      <th>one</th>\n",
              "      <td>56</td>\n",
              "      <td>67</td>\n",
              "      <td>A</td>\n",
              "    </tr>\n",
              "    <tr>\n",
              "      <th>two</th>\n",
              "      <td>70</td>\n",
              "      <td>89</td>\n",
              "      <td>O</td>\n",
              "    </tr>\n",
              "    <tr>\n",
              "      <th>three</th>\n",
              "      <td>12</td>\n",
              "      <td>12</td>\n",
              "      <td>B</td>\n",
              "    </tr>\n",
              "    <tr>\n",
              "      <th>four</th>\n",
              "      <td>3</td>\n",
              "      <td>2</td>\n",
              "      <td>A+</td>\n",
              "    </tr>\n",
              "    <tr>\n",
              "      <th>five</th>\n",
              "      <td>10</td>\n",
              "      <td>5</td>\n",
              "      <td>A-</td>\n",
              "    </tr>\n",
              "    <tr>\n",
              "      <th>six</th>\n",
              "      <td>23</td>\n",
              "      <td>78</td>\n",
              "      <td>B+</td>\n",
              "    </tr>\n",
              "    <tr>\n",
              "      <th>seven</th>\n",
              "      <td>89</td>\n",
              "      <td>12</td>\n",
              "      <td>B-</td>\n",
              "    </tr>\n",
              "  </tbody>\n",
              "</table>\n",
              "</div>"
            ],
            "text/plain": [
              "       # of donators  # required blood group\n",
              "one               56          67           A\n",
              "two               70          89           O\n",
              "three             12          12           B\n",
              "four               3           2          A+\n",
              "five              10           5          A-\n",
              "six               23          78          B+\n",
              "seven             89          12          B-"
            ]
          },
          "metadata": {
            "tags": []
          },
          "execution_count": 83
        }
      ]
    },
    {
      "cell_type": "code",
      "metadata": {
        "id": "u8ciDjg_wLED",
        "colab_type": "code",
        "outputId": "e1bdd8a8-8026-4e1c-ff81-31122660a917",
        "colab": {
          "base_uri": "https://localhost:8080/",
          "height": 254
        }
      },
      "source": [
        "df2['litres'] = 100\n",
        "df2"
      ],
      "execution_count": 0,
      "outputs": [
        {
          "output_type": "execute_result",
          "data": {
            "text/html": [
              "<div>\n",
              "<style scoped>\n",
              "    .dataframe tbody tr th:only-of-type {\n",
              "        vertical-align: middle;\n",
              "    }\n",
              "\n",
              "    .dataframe tbody tr th {\n",
              "        vertical-align: top;\n",
              "    }\n",
              "\n",
              "    .dataframe thead th {\n",
              "        text-align: right;\n",
              "    }\n",
              "</style>\n",
              "<table border=\"1\" class=\"dataframe\">\n",
              "  <thead>\n",
              "    <tr style=\"text-align: right;\">\n",
              "      <th></th>\n",
              "      <th># of donators</th>\n",
              "      <th># required</th>\n",
              "      <th>blood group</th>\n",
              "      <th>litres</th>\n",
              "    </tr>\n",
              "  </thead>\n",
              "  <tbody>\n",
              "    <tr>\n",
              "      <th>one</th>\n",
              "      <td>56</td>\n",
              "      <td>67</td>\n",
              "      <td>A</td>\n",
              "      <td>100</td>\n",
              "    </tr>\n",
              "    <tr>\n",
              "      <th>two</th>\n",
              "      <td>70</td>\n",
              "      <td>89</td>\n",
              "      <td>O</td>\n",
              "      <td>100</td>\n",
              "    </tr>\n",
              "    <tr>\n",
              "      <th>three</th>\n",
              "      <td>12</td>\n",
              "      <td>12</td>\n",
              "      <td>B</td>\n",
              "      <td>100</td>\n",
              "    </tr>\n",
              "    <tr>\n",
              "      <th>four</th>\n",
              "      <td>3</td>\n",
              "      <td>2</td>\n",
              "      <td>A+</td>\n",
              "      <td>100</td>\n",
              "    </tr>\n",
              "    <tr>\n",
              "      <th>five</th>\n",
              "      <td>10</td>\n",
              "      <td>5</td>\n",
              "      <td>A-</td>\n",
              "      <td>100</td>\n",
              "    </tr>\n",
              "    <tr>\n",
              "      <th>six</th>\n",
              "      <td>23</td>\n",
              "      <td>78</td>\n",
              "      <td>B+</td>\n",
              "      <td>100</td>\n",
              "    </tr>\n",
              "    <tr>\n",
              "      <th>seven</th>\n",
              "      <td>89</td>\n",
              "      <td>12</td>\n",
              "      <td>B-</td>\n",
              "      <td>100</td>\n",
              "    </tr>\n",
              "  </tbody>\n",
              "</table>\n",
              "</div>"
            ],
            "text/plain": [
              "       # of donators  # required blood group  litres\n",
              "one               56          67           A     100\n",
              "two               70          89           O     100\n",
              "three             12          12           B     100\n",
              "four               3           2          A+     100\n",
              "five              10           5          A-     100\n",
              "six               23          78          B+     100\n",
              "seven             89          12          B-     100"
            ]
          },
          "metadata": {
            "tags": []
          },
          "execution_count": 84
        }
      ]
    },
    {
      "cell_type": "markdown",
      "metadata": {
        "id": "qoxrUwmvwQVq",
        "colab_type": "text"
      },
      "source": [
        "###modifying column"
      ]
    },
    {
      "cell_type": "code",
      "metadata": {
        "id": "WiQU1U-qwTfH",
        "colab_type": "code",
        "outputId": "800cf1a6-b44e-43aa-d193-efca6f468584",
        "colab": {
          "base_uri": "https://localhost:8080/",
          "height": 254
        }
      },
      "source": [
        "df2['litres'] = [100,200,300,5,21,43,21]\n",
        "df2"
      ],
      "execution_count": 0,
      "outputs": [
        {
          "output_type": "execute_result",
          "data": {
            "text/html": [
              "<div>\n",
              "<style scoped>\n",
              "    .dataframe tbody tr th:only-of-type {\n",
              "        vertical-align: middle;\n",
              "    }\n",
              "\n",
              "    .dataframe tbody tr th {\n",
              "        vertical-align: top;\n",
              "    }\n",
              "\n",
              "    .dataframe thead th {\n",
              "        text-align: right;\n",
              "    }\n",
              "</style>\n",
              "<table border=\"1\" class=\"dataframe\">\n",
              "  <thead>\n",
              "    <tr style=\"text-align: right;\">\n",
              "      <th></th>\n",
              "      <th># of donators</th>\n",
              "      <th># required</th>\n",
              "      <th>blood group</th>\n",
              "      <th>litres</th>\n",
              "    </tr>\n",
              "  </thead>\n",
              "  <tbody>\n",
              "    <tr>\n",
              "      <th>one</th>\n",
              "      <td>56</td>\n",
              "      <td>67</td>\n",
              "      <td>A</td>\n",
              "      <td>100</td>\n",
              "    </tr>\n",
              "    <tr>\n",
              "      <th>two</th>\n",
              "      <td>70</td>\n",
              "      <td>89</td>\n",
              "      <td>O</td>\n",
              "      <td>200</td>\n",
              "    </tr>\n",
              "    <tr>\n",
              "      <th>three</th>\n",
              "      <td>12</td>\n",
              "      <td>12</td>\n",
              "      <td>B</td>\n",
              "      <td>300</td>\n",
              "    </tr>\n",
              "    <tr>\n",
              "      <th>four</th>\n",
              "      <td>3</td>\n",
              "      <td>2</td>\n",
              "      <td>A+</td>\n",
              "      <td>5</td>\n",
              "    </tr>\n",
              "    <tr>\n",
              "      <th>five</th>\n",
              "      <td>10</td>\n",
              "      <td>5</td>\n",
              "      <td>A-</td>\n",
              "      <td>21</td>\n",
              "    </tr>\n",
              "    <tr>\n",
              "      <th>six</th>\n",
              "      <td>23</td>\n",
              "      <td>78</td>\n",
              "      <td>B+</td>\n",
              "      <td>43</td>\n",
              "    </tr>\n",
              "    <tr>\n",
              "      <th>seven</th>\n",
              "      <td>89</td>\n",
              "      <td>12</td>\n",
              "      <td>B-</td>\n",
              "      <td>21</td>\n",
              "    </tr>\n",
              "  </tbody>\n",
              "</table>\n",
              "</div>"
            ],
            "text/plain": [
              "       # of donators  # required blood group  litres\n",
              "one               56          67           A     100\n",
              "two               70          89           O     200\n",
              "three             12          12           B     300\n",
              "four               3           2          A+       5\n",
              "five              10           5          A-      21\n",
              "six               23          78          B+      43\n",
              "seven             89          12          B-      21"
            ]
          },
          "metadata": {
            "tags": []
          },
          "execution_count": 85
        }
      ]
    },
    {
      "cell_type": "code",
      "metadata": {
        "id": "xdf_WcpAwf5b",
        "colab_type": "code",
        "outputId": "131c5d77-9bbe-4cd4-f7db-89a9a4bee398",
        "colab": {
          "base_uri": "https://localhost:8080/",
          "height": 254
        }
      },
      "source": [
        "df2['stock'] = range(7)\n",
        "df2"
      ],
      "execution_count": 0,
      "outputs": [
        {
          "output_type": "execute_result",
          "data": {
            "text/html": [
              "<div>\n",
              "<style scoped>\n",
              "    .dataframe tbody tr th:only-of-type {\n",
              "        vertical-align: middle;\n",
              "    }\n",
              "\n",
              "    .dataframe tbody tr th {\n",
              "        vertical-align: top;\n",
              "    }\n",
              "\n",
              "    .dataframe thead th {\n",
              "        text-align: right;\n",
              "    }\n",
              "</style>\n",
              "<table border=\"1\" class=\"dataframe\">\n",
              "  <thead>\n",
              "    <tr style=\"text-align: right;\">\n",
              "      <th></th>\n",
              "      <th># of donators</th>\n",
              "      <th># required</th>\n",
              "      <th>blood group</th>\n",
              "      <th>litres</th>\n",
              "      <th>stock</th>\n",
              "    </tr>\n",
              "  </thead>\n",
              "  <tbody>\n",
              "    <tr>\n",
              "      <th>one</th>\n",
              "      <td>56</td>\n",
              "      <td>67</td>\n",
              "      <td>A</td>\n",
              "      <td>100</td>\n",
              "      <td>0</td>\n",
              "    </tr>\n",
              "    <tr>\n",
              "      <th>two</th>\n",
              "      <td>70</td>\n",
              "      <td>89</td>\n",
              "      <td>O</td>\n",
              "      <td>200</td>\n",
              "      <td>1</td>\n",
              "    </tr>\n",
              "    <tr>\n",
              "      <th>three</th>\n",
              "      <td>12</td>\n",
              "      <td>12</td>\n",
              "      <td>B</td>\n",
              "      <td>300</td>\n",
              "      <td>2</td>\n",
              "    </tr>\n",
              "    <tr>\n",
              "      <th>four</th>\n",
              "      <td>3</td>\n",
              "      <td>2</td>\n",
              "      <td>A+</td>\n",
              "      <td>5</td>\n",
              "      <td>3</td>\n",
              "    </tr>\n",
              "    <tr>\n",
              "      <th>five</th>\n",
              "      <td>10</td>\n",
              "      <td>5</td>\n",
              "      <td>A-</td>\n",
              "      <td>21</td>\n",
              "      <td>4</td>\n",
              "    </tr>\n",
              "    <tr>\n",
              "      <th>six</th>\n",
              "      <td>23</td>\n",
              "      <td>78</td>\n",
              "      <td>B+</td>\n",
              "      <td>43</td>\n",
              "      <td>5</td>\n",
              "    </tr>\n",
              "    <tr>\n",
              "      <th>seven</th>\n",
              "      <td>89</td>\n",
              "      <td>12</td>\n",
              "      <td>B-</td>\n",
              "      <td>21</td>\n",
              "      <td>6</td>\n",
              "    </tr>\n",
              "  </tbody>\n",
              "</table>\n",
              "</div>"
            ],
            "text/plain": [
              "       # of donators  # required blood group  litres  stock\n",
              "one               56          67           A     100      0\n",
              "two               70          89           O     200      1\n",
              "three             12          12           B     300      2\n",
              "four               3           2          A+       5      3\n",
              "five              10           5          A-      21      4\n",
              "six               23          78          B+      43      5\n",
              "seven             89          12          B-      21      6"
            ]
          },
          "metadata": {
            "tags": []
          },
          "execution_count": 86
        }
      ]
    },
    {
      "cell_type": "code",
      "metadata": {
        "id": "VrZv5zLyw83O",
        "colab_type": "code",
        "outputId": "cb076fa7-5d0d-482c-c1a2-aad1e9621156",
        "colab": {
          "base_uri": "https://localhost:8080/",
          "height": 254
        }
      },
      "source": [
        "df2['stock'] = df1['pop']\n",
        "df2"
      ],
      "execution_count": 0,
      "outputs": [
        {
          "output_type": "execute_result",
          "data": {
            "text/html": [
              "<div>\n",
              "<style scoped>\n",
              "    .dataframe tbody tr th:only-of-type {\n",
              "        vertical-align: middle;\n",
              "    }\n",
              "\n",
              "    .dataframe tbody tr th {\n",
              "        vertical-align: top;\n",
              "    }\n",
              "\n",
              "    .dataframe thead th {\n",
              "        text-align: right;\n",
              "    }\n",
              "</style>\n",
              "<table border=\"1\" class=\"dataframe\">\n",
              "  <thead>\n",
              "    <tr style=\"text-align: right;\">\n",
              "      <th></th>\n",
              "      <th># of donators</th>\n",
              "      <th># required</th>\n",
              "      <th>blood group</th>\n",
              "      <th>litres</th>\n",
              "      <th>stock</th>\n",
              "    </tr>\n",
              "  </thead>\n",
              "  <tbody>\n",
              "    <tr>\n",
              "      <th>one</th>\n",
              "      <td>56</td>\n",
              "      <td>67</td>\n",
              "      <td>A</td>\n",
              "      <td>100</td>\n",
              "      <td>NaN</td>\n",
              "    </tr>\n",
              "    <tr>\n",
              "      <th>two</th>\n",
              "      <td>70</td>\n",
              "      <td>89</td>\n",
              "      <td>O</td>\n",
              "      <td>200</td>\n",
              "      <td>NaN</td>\n",
              "    </tr>\n",
              "    <tr>\n",
              "      <th>three</th>\n",
              "      <td>12</td>\n",
              "      <td>12</td>\n",
              "      <td>B</td>\n",
              "      <td>300</td>\n",
              "      <td>NaN</td>\n",
              "    </tr>\n",
              "    <tr>\n",
              "      <th>four</th>\n",
              "      <td>3</td>\n",
              "      <td>2</td>\n",
              "      <td>A+</td>\n",
              "      <td>5</td>\n",
              "      <td>NaN</td>\n",
              "    </tr>\n",
              "    <tr>\n",
              "      <th>five</th>\n",
              "      <td>10</td>\n",
              "      <td>5</td>\n",
              "      <td>A-</td>\n",
              "      <td>21</td>\n",
              "      <td>NaN</td>\n",
              "    </tr>\n",
              "    <tr>\n",
              "      <th>six</th>\n",
              "      <td>23</td>\n",
              "      <td>78</td>\n",
              "      <td>B+</td>\n",
              "      <td>43</td>\n",
              "      <td>NaN</td>\n",
              "    </tr>\n",
              "    <tr>\n",
              "      <th>seven</th>\n",
              "      <td>89</td>\n",
              "      <td>12</td>\n",
              "      <td>B-</td>\n",
              "      <td>21</td>\n",
              "      <td>NaN</td>\n",
              "    </tr>\n",
              "  </tbody>\n",
              "</table>\n",
              "</div>"
            ],
            "text/plain": [
              "       # of donators  # required blood group  litres  stock\n",
              "one               56          67           A     100    NaN\n",
              "two               70          89           O     200    NaN\n",
              "three             12          12           B     300    NaN\n",
              "four               3           2          A+       5    NaN\n",
              "five              10           5          A-      21    NaN\n",
              "six               23          78          B+      43    NaN\n",
              "seven             89          12          B-      21    NaN"
            ]
          },
          "metadata": {
            "tags": []
          },
          "execution_count": 87
        }
      ]
    },
    {
      "cell_type": "code",
      "metadata": {
        "id": "2LcA3i78xulR",
        "colab_type": "code",
        "outputId": "03e77a81-a016-4d2f-8a5a-6d2b8704d3e8",
        "colab": {
          "base_uri": "https://localhost:8080/",
          "height": 343
        }
      },
      "source": [
        "data3 = {'Ai' : [79, 98, 98.5, 45, 67, 87, 83, 82, 91, 72],\n",
        "      'P1' : [80, 78, 79, 56, 45, 35, 25, 89, 89, 43],\n",
        "      'P3' : [60, 97, 76, 76, 56, 64, 87, 85, 87, 34]}\n",
        "df3 = pd.DataFrame(data3, index = ['lyma', 'roma', 'leej', 'susu', 'sera', 'baidar', 'isha', 'nemal', 'tooba', 'batoota'])\n",
        "df3"
      ],
      "execution_count": 0,
      "outputs": [
        {
          "output_type": "execute_result",
          "data": {
            "text/html": [
              "<div>\n",
              "<style scoped>\n",
              "    .dataframe tbody tr th:only-of-type {\n",
              "        vertical-align: middle;\n",
              "    }\n",
              "\n",
              "    .dataframe tbody tr th {\n",
              "        vertical-align: top;\n",
              "    }\n",
              "\n",
              "    .dataframe thead th {\n",
              "        text-align: right;\n",
              "    }\n",
              "</style>\n",
              "<table border=\"1\" class=\"dataframe\">\n",
              "  <thead>\n",
              "    <tr style=\"text-align: right;\">\n",
              "      <th></th>\n",
              "      <th>Ai</th>\n",
              "      <th>P1</th>\n",
              "      <th>P3</th>\n",
              "    </tr>\n",
              "  </thead>\n",
              "  <tbody>\n",
              "    <tr>\n",
              "      <th>lyma</th>\n",
              "      <td>79.0</td>\n",
              "      <td>80</td>\n",
              "      <td>60</td>\n",
              "    </tr>\n",
              "    <tr>\n",
              "      <th>roma</th>\n",
              "      <td>98.0</td>\n",
              "      <td>78</td>\n",
              "      <td>97</td>\n",
              "    </tr>\n",
              "    <tr>\n",
              "      <th>leej</th>\n",
              "      <td>98.5</td>\n",
              "      <td>79</td>\n",
              "      <td>76</td>\n",
              "    </tr>\n",
              "    <tr>\n",
              "      <th>susu</th>\n",
              "      <td>45.0</td>\n",
              "      <td>56</td>\n",
              "      <td>76</td>\n",
              "    </tr>\n",
              "    <tr>\n",
              "      <th>sera</th>\n",
              "      <td>67.0</td>\n",
              "      <td>45</td>\n",
              "      <td>56</td>\n",
              "    </tr>\n",
              "    <tr>\n",
              "      <th>baidar</th>\n",
              "      <td>87.0</td>\n",
              "      <td>35</td>\n",
              "      <td>64</td>\n",
              "    </tr>\n",
              "    <tr>\n",
              "      <th>isha</th>\n",
              "      <td>83.0</td>\n",
              "      <td>25</td>\n",
              "      <td>87</td>\n",
              "    </tr>\n",
              "    <tr>\n",
              "      <th>nemal</th>\n",
              "      <td>82.0</td>\n",
              "      <td>89</td>\n",
              "      <td>85</td>\n",
              "    </tr>\n",
              "    <tr>\n",
              "      <th>tooba</th>\n",
              "      <td>91.0</td>\n",
              "      <td>89</td>\n",
              "      <td>87</td>\n",
              "    </tr>\n",
              "    <tr>\n",
              "      <th>batoota</th>\n",
              "      <td>72.0</td>\n",
              "      <td>43</td>\n",
              "      <td>34</td>\n",
              "    </tr>\n",
              "  </tbody>\n",
              "</table>\n",
              "</div>"
            ],
            "text/plain": [
              "           Ai  P1  P3\n",
              "lyma     79.0  80  60\n",
              "roma     98.0  78  97\n",
              "leej     98.5  79  76\n",
              "susu     45.0  56  76\n",
              "sera     67.0  45  56\n",
              "baidar   87.0  35  64\n",
              "isha     83.0  25  87\n",
              "nemal    82.0  89  85\n",
              "tooba    91.0  89  87\n",
              "batoota  72.0  43  34"
            ]
          },
          "metadata": {
            "tags": []
          },
          "execution_count": 118
        }
      ]
    },
    {
      "cell_type": "code",
      "metadata": {
        "id": "gEUSs6_MzvtU",
        "colab_type": "code",
        "outputId": "f3ca109f-dd4f-42b6-f668-3337a44bd011",
        "colab": {
          "base_uri": "https://localhost:8080/",
          "height": 343
        }
      },
      "source": [
        "df3['total marks'] = 300\n",
        "df3\n",
        "df3['marksobt'] = df3['Ai'] + df3['P1'] + df3['P3']\n",
        "df3                           "
      ],
      "execution_count": 0,
      "outputs": [
        {
          "output_type": "execute_result",
          "data": {
            "text/html": [
              "<div>\n",
              "<style scoped>\n",
              "    .dataframe tbody tr th:only-of-type {\n",
              "        vertical-align: middle;\n",
              "    }\n",
              "\n",
              "    .dataframe tbody tr th {\n",
              "        vertical-align: top;\n",
              "    }\n",
              "\n",
              "    .dataframe thead th {\n",
              "        text-align: right;\n",
              "    }\n",
              "</style>\n",
              "<table border=\"1\" class=\"dataframe\">\n",
              "  <thead>\n",
              "    <tr style=\"text-align: right;\">\n",
              "      <th></th>\n",
              "      <th>Ai</th>\n",
              "      <th>P1</th>\n",
              "      <th>P3</th>\n",
              "      <th>total marks</th>\n",
              "      <th>marksobt</th>\n",
              "    </tr>\n",
              "  </thead>\n",
              "  <tbody>\n",
              "    <tr>\n",
              "      <th>lyma</th>\n",
              "      <td>79.0</td>\n",
              "      <td>80</td>\n",
              "      <td>60</td>\n",
              "      <td>300</td>\n",
              "      <td>219.0</td>\n",
              "    </tr>\n",
              "    <tr>\n",
              "      <th>roma</th>\n",
              "      <td>98.0</td>\n",
              "      <td>78</td>\n",
              "      <td>97</td>\n",
              "      <td>300</td>\n",
              "      <td>273.0</td>\n",
              "    </tr>\n",
              "    <tr>\n",
              "      <th>leej</th>\n",
              "      <td>98.5</td>\n",
              "      <td>79</td>\n",
              "      <td>76</td>\n",
              "      <td>300</td>\n",
              "      <td>253.5</td>\n",
              "    </tr>\n",
              "    <tr>\n",
              "      <th>susu</th>\n",
              "      <td>45.0</td>\n",
              "      <td>56</td>\n",
              "      <td>76</td>\n",
              "      <td>300</td>\n",
              "      <td>177.0</td>\n",
              "    </tr>\n",
              "    <tr>\n",
              "      <th>sera</th>\n",
              "      <td>67.0</td>\n",
              "      <td>45</td>\n",
              "      <td>56</td>\n",
              "      <td>300</td>\n",
              "      <td>168.0</td>\n",
              "    </tr>\n",
              "    <tr>\n",
              "      <th>baidar</th>\n",
              "      <td>87.0</td>\n",
              "      <td>35</td>\n",
              "      <td>64</td>\n",
              "      <td>300</td>\n",
              "      <td>186.0</td>\n",
              "    </tr>\n",
              "    <tr>\n",
              "      <th>isha</th>\n",
              "      <td>83.0</td>\n",
              "      <td>25</td>\n",
              "      <td>87</td>\n",
              "      <td>300</td>\n",
              "      <td>195.0</td>\n",
              "    </tr>\n",
              "    <tr>\n",
              "      <th>nemal</th>\n",
              "      <td>82.0</td>\n",
              "      <td>89</td>\n",
              "      <td>85</td>\n",
              "      <td>300</td>\n",
              "      <td>256.0</td>\n",
              "    </tr>\n",
              "    <tr>\n",
              "      <th>tooba</th>\n",
              "      <td>91.0</td>\n",
              "      <td>89</td>\n",
              "      <td>87</td>\n",
              "      <td>300</td>\n",
              "      <td>267.0</td>\n",
              "    </tr>\n",
              "    <tr>\n",
              "      <th>batoota</th>\n",
              "      <td>72.0</td>\n",
              "      <td>43</td>\n",
              "      <td>34</td>\n",
              "      <td>300</td>\n",
              "      <td>149.0</td>\n",
              "    </tr>\n",
              "  </tbody>\n",
              "</table>\n",
              "</div>"
            ],
            "text/plain": [
              "           Ai  P1  P3  total marks  marksobt\n",
              "lyma     79.0  80  60          300     219.0\n",
              "roma     98.0  78  97          300     273.0\n",
              "leej     98.5  79  76          300     253.5\n",
              "susu     45.0  56  76          300     177.0\n",
              "sera     67.0  45  56          300     168.0\n",
              "baidar   87.0  35  64          300     186.0\n",
              "isha     83.0  25  87          300     195.0\n",
              "nemal    82.0  89  85          300     256.0\n",
              "tooba    91.0  89  87          300     267.0\n",
              "batoota  72.0  43  34          300     149.0"
            ]
          },
          "metadata": {
            "tags": []
          },
          "execution_count": 89
        }
      ]
    },
    {
      "cell_type": "code",
      "metadata": {
        "id": "ohxbu3Fn3SqO",
        "colab_type": "code",
        "outputId": "9594ec24-f716-4421-b546-b7c4309b2071",
        "colab": {
          "base_uri": "https://localhost:8080/",
          "height": 343
        }
      },
      "source": [
        "df3['status'] = df3['marksobt'] > 200\n",
        "df3"
      ],
      "execution_count": 0,
      "outputs": [
        {
          "output_type": "execute_result",
          "data": {
            "text/html": [
              "<div>\n",
              "<style scoped>\n",
              "    .dataframe tbody tr th:only-of-type {\n",
              "        vertical-align: middle;\n",
              "    }\n",
              "\n",
              "    .dataframe tbody tr th {\n",
              "        vertical-align: top;\n",
              "    }\n",
              "\n",
              "    .dataframe thead th {\n",
              "        text-align: right;\n",
              "    }\n",
              "</style>\n",
              "<table border=\"1\" class=\"dataframe\">\n",
              "  <thead>\n",
              "    <tr style=\"text-align: right;\">\n",
              "      <th></th>\n",
              "      <th>Ai</th>\n",
              "      <th>P1</th>\n",
              "      <th>P3</th>\n",
              "      <th>total marks</th>\n",
              "      <th>marksobt</th>\n",
              "      <th>status</th>\n",
              "    </tr>\n",
              "  </thead>\n",
              "  <tbody>\n",
              "    <tr>\n",
              "      <th>lyma</th>\n",
              "      <td>79.0</td>\n",
              "      <td>80</td>\n",
              "      <td>60</td>\n",
              "      <td>300</td>\n",
              "      <td>219.0</td>\n",
              "      <td>True</td>\n",
              "    </tr>\n",
              "    <tr>\n",
              "      <th>roma</th>\n",
              "      <td>98.0</td>\n",
              "      <td>78</td>\n",
              "      <td>97</td>\n",
              "      <td>300</td>\n",
              "      <td>273.0</td>\n",
              "      <td>True</td>\n",
              "    </tr>\n",
              "    <tr>\n",
              "      <th>leej</th>\n",
              "      <td>98.5</td>\n",
              "      <td>79</td>\n",
              "      <td>76</td>\n",
              "      <td>300</td>\n",
              "      <td>253.5</td>\n",
              "      <td>True</td>\n",
              "    </tr>\n",
              "    <tr>\n",
              "      <th>susu</th>\n",
              "      <td>45.0</td>\n",
              "      <td>56</td>\n",
              "      <td>76</td>\n",
              "      <td>300</td>\n",
              "      <td>177.0</td>\n",
              "      <td>False</td>\n",
              "    </tr>\n",
              "    <tr>\n",
              "      <th>sera</th>\n",
              "      <td>67.0</td>\n",
              "      <td>45</td>\n",
              "      <td>56</td>\n",
              "      <td>300</td>\n",
              "      <td>168.0</td>\n",
              "      <td>False</td>\n",
              "    </tr>\n",
              "    <tr>\n",
              "      <th>baidar</th>\n",
              "      <td>87.0</td>\n",
              "      <td>35</td>\n",
              "      <td>64</td>\n",
              "      <td>300</td>\n",
              "      <td>186.0</td>\n",
              "      <td>False</td>\n",
              "    </tr>\n",
              "    <tr>\n",
              "      <th>isha</th>\n",
              "      <td>83.0</td>\n",
              "      <td>25</td>\n",
              "      <td>87</td>\n",
              "      <td>300</td>\n",
              "      <td>195.0</td>\n",
              "      <td>False</td>\n",
              "    </tr>\n",
              "    <tr>\n",
              "      <th>nemal</th>\n",
              "      <td>82.0</td>\n",
              "      <td>89</td>\n",
              "      <td>85</td>\n",
              "      <td>300</td>\n",
              "      <td>256.0</td>\n",
              "      <td>True</td>\n",
              "    </tr>\n",
              "    <tr>\n",
              "      <th>tooba</th>\n",
              "      <td>91.0</td>\n",
              "      <td>89</td>\n",
              "      <td>87</td>\n",
              "      <td>300</td>\n",
              "      <td>267.0</td>\n",
              "      <td>True</td>\n",
              "    </tr>\n",
              "    <tr>\n",
              "      <th>batoota</th>\n",
              "      <td>72.0</td>\n",
              "      <td>43</td>\n",
              "      <td>34</td>\n",
              "      <td>300</td>\n",
              "      <td>149.0</td>\n",
              "      <td>False</td>\n",
              "    </tr>\n",
              "  </tbody>\n",
              "</table>\n",
              "</div>"
            ],
            "text/plain": [
              "           Ai  P1  P3  total marks  marksobt  status\n",
              "lyma     79.0  80  60          300     219.0    True\n",
              "roma     98.0  78  97          300     273.0    True\n",
              "leej     98.5  79  76          300     253.5    True\n",
              "susu     45.0  56  76          300     177.0   False\n",
              "sera     67.0  45  56          300     168.0   False\n",
              "baidar   87.0  35  64          300     186.0   False\n",
              "isha     83.0  25  87          300     195.0   False\n",
              "nemal    82.0  89  85          300     256.0    True\n",
              "tooba    91.0  89  87          300     267.0    True\n",
              "batoota  72.0  43  34          300     149.0   False"
            ]
          },
          "metadata": {
            "tags": []
          },
          "execution_count": 90
        }
      ]
    },
    {
      "cell_type": "code",
      "metadata": {
        "id": "e5EISF4V52Ma",
        "colab_type": "code",
        "outputId": "38155ef7-8cf3-4079-9735-3967cddb140d",
        "colab": {
          "base_uri": "https://localhost:8080/",
          "height": 343
        }
      },
      "source": [
        "df3['status'] = ['Pass' if marks >= 200 else 'Fail' for marks in df3.marksobt]\n",
        "df3"
      ],
      "execution_count": 0,
      "outputs": [
        {
          "output_type": "execute_result",
          "data": {
            "text/html": [
              "<div>\n",
              "<style scoped>\n",
              "    .dataframe tbody tr th:only-of-type {\n",
              "        vertical-align: middle;\n",
              "    }\n",
              "\n",
              "    .dataframe tbody tr th {\n",
              "        vertical-align: top;\n",
              "    }\n",
              "\n",
              "    .dataframe thead th {\n",
              "        text-align: right;\n",
              "    }\n",
              "</style>\n",
              "<table border=\"1\" class=\"dataframe\">\n",
              "  <thead>\n",
              "    <tr style=\"text-align: right;\">\n",
              "      <th></th>\n",
              "      <th>Ai</th>\n",
              "      <th>P1</th>\n",
              "      <th>P3</th>\n",
              "      <th>total marks</th>\n",
              "      <th>marksobt</th>\n",
              "      <th>status</th>\n",
              "    </tr>\n",
              "  </thead>\n",
              "  <tbody>\n",
              "    <tr>\n",
              "      <th>lyma</th>\n",
              "      <td>79.0</td>\n",
              "      <td>80</td>\n",
              "      <td>60</td>\n",
              "      <td>300</td>\n",
              "      <td>219.0</td>\n",
              "      <td>Pass</td>\n",
              "    </tr>\n",
              "    <tr>\n",
              "      <th>roma</th>\n",
              "      <td>98.0</td>\n",
              "      <td>78</td>\n",
              "      <td>97</td>\n",
              "      <td>300</td>\n",
              "      <td>273.0</td>\n",
              "      <td>Pass</td>\n",
              "    </tr>\n",
              "    <tr>\n",
              "      <th>leej</th>\n",
              "      <td>98.5</td>\n",
              "      <td>79</td>\n",
              "      <td>76</td>\n",
              "      <td>300</td>\n",
              "      <td>253.5</td>\n",
              "      <td>Pass</td>\n",
              "    </tr>\n",
              "    <tr>\n",
              "      <th>susu</th>\n",
              "      <td>45.0</td>\n",
              "      <td>56</td>\n",
              "      <td>76</td>\n",
              "      <td>300</td>\n",
              "      <td>177.0</td>\n",
              "      <td>Fail</td>\n",
              "    </tr>\n",
              "    <tr>\n",
              "      <th>sera</th>\n",
              "      <td>67.0</td>\n",
              "      <td>45</td>\n",
              "      <td>56</td>\n",
              "      <td>300</td>\n",
              "      <td>168.0</td>\n",
              "      <td>Fail</td>\n",
              "    </tr>\n",
              "    <tr>\n",
              "      <th>baidar</th>\n",
              "      <td>87.0</td>\n",
              "      <td>35</td>\n",
              "      <td>64</td>\n",
              "      <td>300</td>\n",
              "      <td>186.0</td>\n",
              "      <td>Fail</td>\n",
              "    </tr>\n",
              "    <tr>\n",
              "      <th>isha</th>\n",
              "      <td>83.0</td>\n",
              "      <td>25</td>\n",
              "      <td>87</td>\n",
              "      <td>300</td>\n",
              "      <td>195.0</td>\n",
              "      <td>Fail</td>\n",
              "    </tr>\n",
              "    <tr>\n",
              "      <th>nemal</th>\n",
              "      <td>82.0</td>\n",
              "      <td>89</td>\n",
              "      <td>85</td>\n",
              "      <td>300</td>\n",
              "      <td>256.0</td>\n",
              "      <td>Pass</td>\n",
              "    </tr>\n",
              "    <tr>\n",
              "      <th>tooba</th>\n",
              "      <td>91.0</td>\n",
              "      <td>89</td>\n",
              "      <td>87</td>\n",
              "      <td>300</td>\n",
              "      <td>267.0</td>\n",
              "      <td>Pass</td>\n",
              "    </tr>\n",
              "    <tr>\n",
              "      <th>batoota</th>\n",
              "      <td>72.0</td>\n",
              "      <td>43</td>\n",
              "      <td>34</td>\n",
              "      <td>300</td>\n",
              "      <td>149.0</td>\n",
              "      <td>Fail</td>\n",
              "    </tr>\n",
              "  </tbody>\n",
              "</table>\n",
              "</div>"
            ],
            "text/plain": [
              "           Ai  P1  P3  total marks  marksobt status\n",
              "lyma     79.0  80  60          300     219.0   Pass\n",
              "roma     98.0  78  97          300     273.0   Pass\n",
              "leej     98.5  79  76          300     253.5   Pass\n",
              "susu     45.0  56  76          300     177.0   Fail\n",
              "sera     67.0  45  56          300     168.0   Fail\n",
              "baidar   87.0  35  64          300     186.0   Fail\n",
              "isha     83.0  25  87          300     195.0   Fail\n",
              "nemal    82.0  89  85          300     256.0   Pass\n",
              "tooba    91.0  89  87          300     267.0   Pass\n",
              "batoota  72.0  43  34          300     149.0   Fail"
            ]
          },
          "metadata": {
            "tags": []
          },
          "execution_count": 91
        }
      ]
    },
    {
      "cell_type": "code",
      "metadata": {
        "id": "58yOWHQx8hEe",
        "colab_type": "code",
        "outputId": "79bf2b10-e20f-47f1-c41e-874aa1242835",
        "colab": {
          "base_uri": "https://localhost:8080/",
          "height": 343
        }
      },
      "source": [
        "df3['percentage'] = df3['marksobt'] / df3['total marks'] * 100\n",
        "df3"
      ],
      "execution_count": 0,
      "outputs": [
        {
          "output_type": "execute_result",
          "data": {
            "text/html": [
              "<div>\n",
              "<style scoped>\n",
              "    .dataframe tbody tr th:only-of-type {\n",
              "        vertical-align: middle;\n",
              "    }\n",
              "\n",
              "    .dataframe tbody tr th {\n",
              "        vertical-align: top;\n",
              "    }\n",
              "\n",
              "    .dataframe thead th {\n",
              "        text-align: right;\n",
              "    }\n",
              "</style>\n",
              "<table border=\"1\" class=\"dataframe\">\n",
              "  <thead>\n",
              "    <tr style=\"text-align: right;\">\n",
              "      <th></th>\n",
              "      <th>Ai</th>\n",
              "      <th>P1</th>\n",
              "      <th>P3</th>\n",
              "      <th>total marks</th>\n",
              "      <th>marksobt</th>\n",
              "      <th>status</th>\n",
              "      <th>percentage</th>\n",
              "    </tr>\n",
              "  </thead>\n",
              "  <tbody>\n",
              "    <tr>\n",
              "      <th>lyma</th>\n",
              "      <td>79.0</td>\n",
              "      <td>80</td>\n",
              "      <td>60</td>\n",
              "      <td>300</td>\n",
              "      <td>219.0</td>\n",
              "      <td>Pass</td>\n",
              "      <td>73.000000</td>\n",
              "    </tr>\n",
              "    <tr>\n",
              "      <th>roma</th>\n",
              "      <td>98.0</td>\n",
              "      <td>78</td>\n",
              "      <td>97</td>\n",
              "      <td>300</td>\n",
              "      <td>273.0</td>\n",
              "      <td>Pass</td>\n",
              "      <td>91.000000</td>\n",
              "    </tr>\n",
              "    <tr>\n",
              "      <th>leej</th>\n",
              "      <td>98.5</td>\n",
              "      <td>79</td>\n",
              "      <td>76</td>\n",
              "      <td>300</td>\n",
              "      <td>253.5</td>\n",
              "      <td>Pass</td>\n",
              "      <td>84.500000</td>\n",
              "    </tr>\n",
              "    <tr>\n",
              "      <th>susu</th>\n",
              "      <td>45.0</td>\n",
              "      <td>56</td>\n",
              "      <td>76</td>\n",
              "      <td>300</td>\n",
              "      <td>177.0</td>\n",
              "      <td>Fail</td>\n",
              "      <td>59.000000</td>\n",
              "    </tr>\n",
              "    <tr>\n",
              "      <th>sera</th>\n",
              "      <td>67.0</td>\n",
              "      <td>45</td>\n",
              "      <td>56</td>\n",
              "      <td>300</td>\n",
              "      <td>168.0</td>\n",
              "      <td>Fail</td>\n",
              "      <td>56.000000</td>\n",
              "    </tr>\n",
              "    <tr>\n",
              "      <th>baidar</th>\n",
              "      <td>87.0</td>\n",
              "      <td>35</td>\n",
              "      <td>64</td>\n",
              "      <td>300</td>\n",
              "      <td>186.0</td>\n",
              "      <td>Fail</td>\n",
              "      <td>62.000000</td>\n",
              "    </tr>\n",
              "    <tr>\n",
              "      <th>isha</th>\n",
              "      <td>83.0</td>\n",
              "      <td>25</td>\n",
              "      <td>87</td>\n",
              "      <td>300</td>\n",
              "      <td>195.0</td>\n",
              "      <td>Fail</td>\n",
              "      <td>65.000000</td>\n",
              "    </tr>\n",
              "    <tr>\n",
              "      <th>nemal</th>\n",
              "      <td>82.0</td>\n",
              "      <td>89</td>\n",
              "      <td>85</td>\n",
              "      <td>300</td>\n",
              "      <td>256.0</td>\n",
              "      <td>Pass</td>\n",
              "      <td>85.333333</td>\n",
              "    </tr>\n",
              "    <tr>\n",
              "      <th>tooba</th>\n",
              "      <td>91.0</td>\n",
              "      <td>89</td>\n",
              "      <td>87</td>\n",
              "      <td>300</td>\n",
              "      <td>267.0</td>\n",
              "      <td>Pass</td>\n",
              "      <td>89.000000</td>\n",
              "    </tr>\n",
              "    <tr>\n",
              "      <th>batoota</th>\n",
              "      <td>72.0</td>\n",
              "      <td>43</td>\n",
              "      <td>34</td>\n",
              "      <td>300</td>\n",
              "      <td>149.0</td>\n",
              "      <td>Fail</td>\n",
              "      <td>49.666667</td>\n",
              "    </tr>\n",
              "  </tbody>\n",
              "</table>\n",
              "</div>"
            ],
            "text/plain": [
              "           Ai  P1  P3  total marks  marksobt status  percentage\n",
              "lyma     79.0  80  60          300     219.0   Pass   73.000000\n",
              "roma     98.0  78  97          300     273.0   Pass   91.000000\n",
              "leej     98.5  79  76          300     253.5   Pass   84.500000\n",
              "susu     45.0  56  76          300     177.0   Fail   59.000000\n",
              "sera     67.0  45  56          300     168.0   Fail   56.000000\n",
              "baidar   87.0  35  64          300     186.0   Fail   62.000000\n",
              "isha     83.0  25  87          300     195.0   Fail   65.000000\n",
              "nemal    82.0  89  85          300     256.0   Pass   85.333333\n",
              "tooba    91.0  89  87          300     267.0   Pass   89.000000\n",
              "batoota  72.0  43  34          300     149.0   Fail   49.666667"
            ]
          },
          "metadata": {
            "tags": []
          },
          "execution_count": 92
        }
      ]
    },
    {
      "cell_type": "code",
      "metadata": {
        "id": "7meoAg0I99OX",
        "colab_type": "code",
        "outputId": "6f748a6e-4a42-488e-a242-67459d1e2449",
        "colab": {
          "base_uri": "https://localhost:8080/",
          "height": 343
        }
      },
      "source": [
        "df3['status'] = ['Pass' if Ai > 33 and P1 > 33 and P2 > 33 else 'Fail' for Ai,P1,P2 in zip(df3.Ai, df3['P1'], df3['P3'])]\n",
        "df3\n",
        "#df3.Ai is same as df3['Ai'] . cannot be used with spaced names"
      ],
      "execution_count": 0,
      "outputs": [
        {
          "output_type": "execute_result",
          "data": {
            "text/html": [
              "<div>\n",
              "<style scoped>\n",
              "    .dataframe tbody tr th:only-of-type {\n",
              "        vertical-align: middle;\n",
              "    }\n",
              "\n",
              "    .dataframe tbody tr th {\n",
              "        vertical-align: top;\n",
              "    }\n",
              "\n",
              "    .dataframe thead th {\n",
              "        text-align: right;\n",
              "    }\n",
              "</style>\n",
              "<table border=\"1\" class=\"dataframe\">\n",
              "  <thead>\n",
              "    <tr style=\"text-align: right;\">\n",
              "      <th></th>\n",
              "      <th>Ai</th>\n",
              "      <th>P1</th>\n",
              "      <th>P3</th>\n",
              "      <th>total marks</th>\n",
              "      <th>marksobt</th>\n",
              "      <th>status</th>\n",
              "      <th>percentage</th>\n",
              "    </tr>\n",
              "  </thead>\n",
              "  <tbody>\n",
              "    <tr>\n",
              "      <th>lyma</th>\n",
              "      <td>79.0</td>\n",
              "      <td>80</td>\n",
              "      <td>60</td>\n",
              "      <td>300</td>\n",
              "      <td>219.0</td>\n",
              "      <td>Pass</td>\n",
              "      <td>73.000000</td>\n",
              "    </tr>\n",
              "    <tr>\n",
              "      <th>roma</th>\n",
              "      <td>98.0</td>\n",
              "      <td>78</td>\n",
              "      <td>97</td>\n",
              "      <td>300</td>\n",
              "      <td>273.0</td>\n",
              "      <td>Pass</td>\n",
              "      <td>91.000000</td>\n",
              "    </tr>\n",
              "    <tr>\n",
              "      <th>leej</th>\n",
              "      <td>98.5</td>\n",
              "      <td>79</td>\n",
              "      <td>76</td>\n",
              "      <td>300</td>\n",
              "      <td>253.5</td>\n",
              "      <td>Pass</td>\n",
              "      <td>84.500000</td>\n",
              "    </tr>\n",
              "    <tr>\n",
              "      <th>susu</th>\n",
              "      <td>45.0</td>\n",
              "      <td>56</td>\n",
              "      <td>76</td>\n",
              "      <td>300</td>\n",
              "      <td>177.0</td>\n",
              "      <td>Pass</td>\n",
              "      <td>59.000000</td>\n",
              "    </tr>\n",
              "    <tr>\n",
              "      <th>sera</th>\n",
              "      <td>67.0</td>\n",
              "      <td>45</td>\n",
              "      <td>56</td>\n",
              "      <td>300</td>\n",
              "      <td>168.0</td>\n",
              "      <td>Pass</td>\n",
              "      <td>56.000000</td>\n",
              "    </tr>\n",
              "    <tr>\n",
              "      <th>baidar</th>\n",
              "      <td>87.0</td>\n",
              "      <td>35</td>\n",
              "      <td>64</td>\n",
              "      <td>300</td>\n",
              "      <td>186.0</td>\n",
              "      <td>Pass</td>\n",
              "      <td>62.000000</td>\n",
              "    </tr>\n",
              "    <tr>\n",
              "      <th>isha</th>\n",
              "      <td>83.0</td>\n",
              "      <td>25</td>\n",
              "      <td>87</td>\n",
              "      <td>300</td>\n",
              "      <td>195.0</td>\n",
              "      <td>Fail</td>\n",
              "      <td>65.000000</td>\n",
              "    </tr>\n",
              "    <tr>\n",
              "      <th>nemal</th>\n",
              "      <td>82.0</td>\n",
              "      <td>89</td>\n",
              "      <td>85</td>\n",
              "      <td>300</td>\n",
              "      <td>256.0</td>\n",
              "      <td>Pass</td>\n",
              "      <td>85.333333</td>\n",
              "    </tr>\n",
              "    <tr>\n",
              "      <th>tooba</th>\n",
              "      <td>91.0</td>\n",
              "      <td>89</td>\n",
              "      <td>87</td>\n",
              "      <td>300</td>\n",
              "      <td>267.0</td>\n",
              "      <td>Pass</td>\n",
              "      <td>89.000000</td>\n",
              "    </tr>\n",
              "    <tr>\n",
              "      <th>batoota</th>\n",
              "      <td>72.0</td>\n",
              "      <td>43</td>\n",
              "      <td>34</td>\n",
              "      <td>300</td>\n",
              "      <td>149.0</td>\n",
              "      <td>Pass</td>\n",
              "      <td>49.666667</td>\n",
              "    </tr>\n",
              "  </tbody>\n",
              "</table>\n",
              "</div>"
            ],
            "text/plain": [
              "           Ai  P1  P3  total marks  marksobt status  percentage\n",
              "lyma     79.0  80  60          300     219.0   Pass   73.000000\n",
              "roma     98.0  78  97          300     273.0   Pass   91.000000\n",
              "leej     98.5  79  76          300     253.5   Pass   84.500000\n",
              "susu     45.0  56  76          300     177.0   Pass   59.000000\n",
              "sera     67.0  45  56          300     168.0   Pass   56.000000\n",
              "baidar   87.0  35  64          300     186.0   Pass   62.000000\n",
              "isha     83.0  25  87          300     195.0   Fail   65.000000\n",
              "nemal    82.0  89  85          300     256.0   Pass   85.333333\n",
              "tooba    91.0  89  87          300     267.0   Pass   89.000000\n",
              "batoota  72.0  43  34          300     149.0   Pass   49.666667"
            ]
          },
          "metadata": {
            "tags": []
          },
          "execution_count": 93
        }
      ]
    },
    {
      "cell_type": "markdown",
      "metadata": {
        "id": "siEJkaUZdAXz",
        "colab_type": "text"
      },
      "source": [
        "###np.where"
      ]
    },
    {
      "cell_type": "code",
      "metadata": {
        "id": "tMyI_jXccMcH",
        "colab_type": "code",
        "outputId": "15b4577b-42fe-48f6-b0e5-fe4d5a6203a8",
        "colab": {
          "base_uri": "https://localhost:8080/",
          "height": 373
        }
      },
      "source": [
        "df3['status2'] = np.where(((df3.Ai>50) & (df3['P1']>50) & (df3['P3']>50)),\"Pass\",\"Fail\")\n",
        "df3"
      ],
      "execution_count": 0,
      "outputs": [
        {
          "output_type": "execute_result",
          "data": {
            "text/html": [
              "<div>\n",
              "<style scoped>\n",
              "    .dataframe tbody tr th:only-of-type {\n",
              "        vertical-align: middle;\n",
              "    }\n",
              "\n",
              "    .dataframe tbody tr th {\n",
              "        vertical-align: top;\n",
              "    }\n",
              "\n",
              "    .dataframe thead th {\n",
              "        text-align: right;\n",
              "    }\n",
              "</style>\n",
              "<table border=\"1\" class=\"dataframe\">\n",
              "  <thead>\n",
              "    <tr style=\"text-align: right;\">\n",
              "      <th></th>\n",
              "      <th>Ai</th>\n",
              "      <th>P1</th>\n",
              "      <th>P3</th>\n",
              "      <th>total marks</th>\n",
              "      <th>marksobt</th>\n",
              "      <th>status</th>\n",
              "      <th>percentage</th>\n",
              "      <th>status2</th>\n",
              "    </tr>\n",
              "  </thead>\n",
              "  <tbody>\n",
              "    <tr>\n",
              "      <th>lyma</th>\n",
              "      <td>79.0</td>\n",
              "      <td>80</td>\n",
              "      <td>60</td>\n",
              "      <td>300</td>\n",
              "      <td>219.0</td>\n",
              "      <td>Pass</td>\n",
              "      <td>73.000000</td>\n",
              "      <td>Pass</td>\n",
              "    </tr>\n",
              "    <tr>\n",
              "      <th>roma</th>\n",
              "      <td>98.0</td>\n",
              "      <td>78</td>\n",
              "      <td>97</td>\n",
              "      <td>300</td>\n",
              "      <td>273.0</td>\n",
              "      <td>Pass</td>\n",
              "      <td>91.000000</td>\n",
              "      <td>Pass</td>\n",
              "    </tr>\n",
              "    <tr>\n",
              "      <th>leej</th>\n",
              "      <td>98.5</td>\n",
              "      <td>79</td>\n",
              "      <td>76</td>\n",
              "      <td>300</td>\n",
              "      <td>253.5</td>\n",
              "      <td>Pass</td>\n",
              "      <td>84.500000</td>\n",
              "      <td>Pass</td>\n",
              "    </tr>\n",
              "    <tr>\n",
              "      <th>susu</th>\n",
              "      <td>45.0</td>\n",
              "      <td>56</td>\n",
              "      <td>76</td>\n",
              "      <td>300</td>\n",
              "      <td>177.0</td>\n",
              "      <td>Pass</td>\n",
              "      <td>59.000000</td>\n",
              "      <td>Fail</td>\n",
              "    </tr>\n",
              "    <tr>\n",
              "      <th>sera</th>\n",
              "      <td>67.0</td>\n",
              "      <td>45</td>\n",
              "      <td>56</td>\n",
              "      <td>300</td>\n",
              "      <td>168.0</td>\n",
              "      <td>Pass</td>\n",
              "      <td>56.000000</td>\n",
              "      <td>Fail</td>\n",
              "    </tr>\n",
              "    <tr>\n",
              "      <th>baidar</th>\n",
              "      <td>87.0</td>\n",
              "      <td>35</td>\n",
              "      <td>64</td>\n",
              "      <td>300</td>\n",
              "      <td>186.0</td>\n",
              "      <td>Pass</td>\n",
              "      <td>62.000000</td>\n",
              "      <td>Fail</td>\n",
              "    </tr>\n",
              "    <tr>\n",
              "      <th>isha</th>\n",
              "      <td>83.0</td>\n",
              "      <td>25</td>\n",
              "      <td>87</td>\n",
              "      <td>300</td>\n",
              "      <td>195.0</td>\n",
              "      <td>Fail</td>\n",
              "      <td>65.000000</td>\n",
              "      <td>Fail</td>\n",
              "    </tr>\n",
              "    <tr>\n",
              "      <th>nemal</th>\n",
              "      <td>82.0</td>\n",
              "      <td>89</td>\n",
              "      <td>85</td>\n",
              "      <td>300</td>\n",
              "      <td>256.0</td>\n",
              "      <td>Pass</td>\n",
              "      <td>85.333333</td>\n",
              "      <td>Pass</td>\n",
              "    </tr>\n",
              "    <tr>\n",
              "      <th>tooba</th>\n",
              "      <td>91.0</td>\n",
              "      <td>89</td>\n",
              "      <td>87</td>\n",
              "      <td>300</td>\n",
              "      <td>267.0</td>\n",
              "      <td>Pass</td>\n",
              "      <td>89.000000</td>\n",
              "      <td>Pass</td>\n",
              "    </tr>\n",
              "    <tr>\n",
              "      <th>batoota</th>\n",
              "      <td>72.0</td>\n",
              "      <td>43</td>\n",
              "      <td>34</td>\n",
              "      <td>300</td>\n",
              "      <td>149.0</td>\n",
              "      <td>Pass</td>\n",
              "      <td>49.666667</td>\n",
              "      <td>Fail</td>\n",
              "    </tr>\n",
              "    <tr>\n",
              "      <th>abc</th>\n",
              "      <td>1.0</td>\n",
              "      <td>2</td>\n",
              "      <td>3</td>\n",
              "      <td>4</td>\n",
              "      <td>5.0</td>\n",
              "      <td>6</td>\n",
              "      <td>7.000000</td>\n",
              "      <td>Fail</td>\n",
              "    </tr>\n",
              "  </tbody>\n",
              "</table>\n",
              "</div>"
            ],
            "text/plain": [
              "           Ai  P1  P3  total marks  marksobt status  percentage status2\n",
              "lyma     79.0  80  60          300     219.0   Pass   73.000000    Pass\n",
              "roma     98.0  78  97          300     273.0   Pass   91.000000    Pass\n",
              "leej     98.5  79  76          300     253.5   Pass   84.500000    Pass\n",
              "susu     45.0  56  76          300     177.0   Pass   59.000000    Fail\n",
              "sera     67.0  45  56          300     168.0   Pass   56.000000    Fail\n",
              "baidar   87.0  35  64          300     186.0   Pass   62.000000    Fail\n",
              "isha     83.0  25  87          300     195.0   Fail   65.000000    Fail\n",
              "nemal    82.0  89  85          300     256.0   Pass   85.333333    Pass\n",
              "tooba    91.0  89  87          300     267.0   Pass   89.000000    Pass\n",
              "batoota  72.0  43  34          300     149.0   Pass   49.666667    Fail\n",
              "abc       1.0   2   3            4       5.0      6    7.000000    Fail"
            ]
          },
          "metadata": {
            "tags": []
          },
          "execution_count": 113
        }
      ]
    },
    {
      "cell_type": "code",
      "metadata": {
        "id": "t4DvCuYIB1GD",
        "colab_type": "code",
        "outputId": "4aa627e6-4876-47ff-acce-a0f649afb1ac",
        "colab": {
          "base_uri": "https://localhost:8080/",
          "height": 70
        }
      },
      "source": [
        "df3.index"
      ],
      "execution_count": 0,
      "outputs": [
        {
          "output_type": "execute_result",
          "data": {
            "text/plain": [
              "Index(['lyma', 'roma', 'leej', 'susu', 'sera', 'baidar', 'isha', 'nemal',\n",
              "       'tooba', 'batoota'],\n",
              "      dtype='object')"
            ]
          },
          "metadata": {
            "tags": []
          },
          "execution_count": 94
        }
      ]
    },
    {
      "cell_type": "code",
      "metadata": {
        "id": "gz6yQakYB2ED",
        "colab_type": "code",
        "outputId": "d6ac6cda-b38f-42ea-d452-da285b98a108",
        "colab": {
          "base_uri": "https://localhost:8080/",
          "height": 195
        }
      },
      "source": [
        "df3.head()                                     #returns first 5 by default"
      ],
      "execution_count": 0,
      "outputs": [
        {
          "output_type": "execute_result",
          "data": {
            "text/html": [
              "<div>\n",
              "<style scoped>\n",
              "    .dataframe tbody tr th:only-of-type {\n",
              "        vertical-align: middle;\n",
              "    }\n",
              "\n",
              "    .dataframe tbody tr th {\n",
              "        vertical-align: top;\n",
              "    }\n",
              "\n",
              "    .dataframe thead th {\n",
              "        text-align: right;\n",
              "    }\n",
              "</style>\n",
              "<table border=\"1\" class=\"dataframe\">\n",
              "  <thead>\n",
              "    <tr style=\"text-align: right;\">\n",
              "      <th></th>\n",
              "      <th>Ai</th>\n",
              "      <th>P1</th>\n",
              "      <th>P3</th>\n",
              "      <th>total marks</th>\n",
              "      <th>marksobt</th>\n",
              "      <th>status</th>\n",
              "      <th>percentage</th>\n",
              "    </tr>\n",
              "  </thead>\n",
              "  <tbody>\n",
              "    <tr>\n",
              "      <th>lyma</th>\n",
              "      <td>79.0</td>\n",
              "      <td>80</td>\n",
              "      <td>60</td>\n",
              "      <td>300</td>\n",
              "      <td>219.0</td>\n",
              "      <td>Pass</td>\n",
              "      <td>73.0</td>\n",
              "    </tr>\n",
              "    <tr>\n",
              "      <th>roma</th>\n",
              "      <td>98.0</td>\n",
              "      <td>78</td>\n",
              "      <td>97</td>\n",
              "      <td>300</td>\n",
              "      <td>273.0</td>\n",
              "      <td>Pass</td>\n",
              "      <td>91.0</td>\n",
              "    </tr>\n",
              "    <tr>\n",
              "      <th>leej</th>\n",
              "      <td>98.5</td>\n",
              "      <td>79</td>\n",
              "      <td>76</td>\n",
              "      <td>300</td>\n",
              "      <td>253.5</td>\n",
              "      <td>Pass</td>\n",
              "      <td>84.5</td>\n",
              "    </tr>\n",
              "    <tr>\n",
              "      <th>susu</th>\n",
              "      <td>45.0</td>\n",
              "      <td>56</td>\n",
              "      <td>76</td>\n",
              "      <td>300</td>\n",
              "      <td>177.0</td>\n",
              "      <td>Pass</td>\n",
              "      <td>59.0</td>\n",
              "    </tr>\n",
              "    <tr>\n",
              "      <th>sera</th>\n",
              "      <td>67.0</td>\n",
              "      <td>45</td>\n",
              "      <td>56</td>\n",
              "      <td>300</td>\n",
              "      <td>168.0</td>\n",
              "      <td>Pass</td>\n",
              "      <td>56.0</td>\n",
              "    </tr>\n",
              "  </tbody>\n",
              "</table>\n",
              "</div>"
            ],
            "text/plain": [
              "        Ai  P1  P3  total marks  marksobt status  percentage\n",
              "lyma  79.0  80  60          300     219.0   Pass        73.0\n",
              "roma  98.0  78  97          300     273.0   Pass        91.0\n",
              "leej  98.5  79  76          300     253.5   Pass        84.5\n",
              "susu  45.0  56  76          300     177.0   Pass        59.0\n",
              "sera  67.0  45  56          300     168.0   Pass        56.0"
            ]
          },
          "metadata": {
            "tags": []
          },
          "execution_count": 95
        }
      ]
    },
    {
      "cell_type": "code",
      "metadata": {
        "id": "5heb4Lc2Ck50",
        "colab_type": "code",
        "outputId": "f5a35063-17ee-4fb6-8096-755bbb8c774d",
        "colab": {
          "base_uri": "https://localhost:8080/",
          "height": 106
        }
      },
      "source": [
        "df3.head(2)                                    #returns top 2"
      ],
      "execution_count": 0,
      "outputs": [
        {
          "output_type": "execute_result",
          "data": {
            "text/html": [
              "<div>\n",
              "<style scoped>\n",
              "    .dataframe tbody tr th:only-of-type {\n",
              "        vertical-align: middle;\n",
              "    }\n",
              "\n",
              "    .dataframe tbody tr th {\n",
              "        vertical-align: top;\n",
              "    }\n",
              "\n",
              "    .dataframe thead th {\n",
              "        text-align: right;\n",
              "    }\n",
              "</style>\n",
              "<table border=\"1\" class=\"dataframe\">\n",
              "  <thead>\n",
              "    <tr style=\"text-align: right;\">\n",
              "      <th></th>\n",
              "      <th>Ai</th>\n",
              "      <th>P1</th>\n",
              "      <th>P3</th>\n",
              "      <th>total marks</th>\n",
              "      <th>marksobt</th>\n",
              "      <th>status</th>\n",
              "      <th>percentage</th>\n",
              "    </tr>\n",
              "  </thead>\n",
              "  <tbody>\n",
              "    <tr>\n",
              "      <th>lyma</th>\n",
              "      <td>79.0</td>\n",
              "      <td>80</td>\n",
              "      <td>60</td>\n",
              "      <td>300</td>\n",
              "      <td>219.0</td>\n",
              "      <td>Pass</td>\n",
              "      <td>73.0</td>\n",
              "    </tr>\n",
              "    <tr>\n",
              "      <th>roma</th>\n",
              "      <td>98.0</td>\n",
              "      <td>78</td>\n",
              "      <td>97</td>\n",
              "      <td>300</td>\n",
              "      <td>273.0</td>\n",
              "      <td>Pass</td>\n",
              "      <td>91.0</td>\n",
              "    </tr>\n",
              "  </tbody>\n",
              "</table>\n",
              "</div>"
            ],
            "text/plain": [
              "        Ai  P1  P3  total marks  marksobt status  percentage\n",
              "lyma  79.0  80  60          300     219.0   Pass        73.0\n",
              "roma  98.0  78  97          300     273.0   Pass        91.0"
            ]
          },
          "metadata": {
            "tags": []
          },
          "execution_count": 96
        }
      ]
    },
    {
      "cell_type": "code",
      "metadata": {
        "id": "9tmFqE9NCv9p",
        "colab_type": "code",
        "outputId": "ecaca498-bb75-47d7-be3a-2df2bb4bb276",
        "colab": {
          "base_uri": "https://localhost:8080/",
          "height": 195
        }
      },
      "source": [
        "df3.tail()                                      #returns bottom 5"
      ],
      "execution_count": 0,
      "outputs": [
        {
          "output_type": "execute_result",
          "data": {
            "text/html": [
              "<div>\n",
              "<style scoped>\n",
              "    .dataframe tbody tr th:only-of-type {\n",
              "        vertical-align: middle;\n",
              "    }\n",
              "\n",
              "    .dataframe tbody tr th {\n",
              "        vertical-align: top;\n",
              "    }\n",
              "\n",
              "    .dataframe thead th {\n",
              "        text-align: right;\n",
              "    }\n",
              "</style>\n",
              "<table border=\"1\" class=\"dataframe\">\n",
              "  <thead>\n",
              "    <tr style=\"text-align: right;\">\n",
              "      <th></th>\n",
              "      <th>Ai</th>\n",
              "      <th>P1</th>\n",
              "      <th>P3</th>\n",
              "      <th>total marks</th>\n",
              "      <th>marksobt</th>\n",
              "      <th>status</th>\n",
              "      <th>percentage</th>\n",
              "    </tr>\n",
              "  </thead>\n",
              "  <tbody>\n",
              "    <tr>\n",
              "      <th>baidar</th>\n",
              "      <td>87.0</td>\n",
              "      <td>35</td>\n",
              "      <td>64</td>\n",
              "      <td>300</td>\n",
              "      <td>186.0</td>\n",
              "      <td>Pass</td>\n",
              "      <td>62.000000</td>\n",
              "    </tr>\n",
              "    <tr>\n",
              "      <th>isha</th>\n",
              "      <td>83.0</td>\n",
              "      <td>25</td>\n",
              "      <td>87</td>\n",
              "      <td>300</td>\n",
              "      <td>195.0</td>\n",
              "      <td>Fail</td>\n",
              "      <td>65.000000</td>\n",
              "    </tr>\n",
              "    <tr>\n",
              "      <th>nemal</th>\n",
              "      <td>82.0</td>\n",
              "      <td>89</td>\n",
              "      <td>85</td>\n",
              "      <td>300</td>\n",
              "      <td>256.0</td>\n",
              "      <td>Pass</td>\n",
              "      <td>85.333333</td>\n",
              "    </tr>\n",
              "    <tr>\n",
              "      <th>tooba</th>\n",
              "      <td>91.0</td>\n",
              "      <td>89</td>\n",
              "      <td>87</td>\n",
              "      <td>300</td>\n",
              "      <td>267.0</td>\n",
              "      <td>Pass</td>\n",
              "      <td>89.000000</td>\n",
              "    </tr>\n",
              "    <tr>\n",
              "      <th>batoota</th>\n",
              "      <td>72.0</td>\n",
              "      <td>43</td>\n",
              "      <td>34</td>\n",
              "      <td>300</td>\n",
              "      <td>149.0</td>\n",
              "      <td>Pass</td>\n",
              "      <td>49.666667</td>\n",
              "    </tr>\n",
              "  </tbody>\n",
              "</table>\n",
              "</div>"
            ],
            "text/plain": [
              "           Ai  P1  P3  total marks  marksobt status  percentage\n",
              "baidar   87.0  35  64          300     186.0   Pass   62.000000\n",
              "isha     83.0  25  87          300     195.0   Fail   65.000000\n",
              "nemal    82.0  89  85          300     256.0   Pass   85.333333\n",
              "tooba    91.0  89  87          300     267.0   Pass   89.000000\n",
              "batoota  72.0  43  34          300     149.0   Pass   49.666667"
            ]
          },
          "metadata": {
            "tags": []
          },
          "execution_count": 97
        }
      ]
    },
    {
      "cell_type": "code",
      "metadata": {
        "id": "x_NaFAEFC6sY",
        "colab_type": "code",
        "outputId": "d03640b2-e37a-4368-8773-12e280541fd6",
        "colab": {
          "base_uri": "https://localhost:8080/",
          "height": 136
        }
      },
      "source": [
        "df3.tail(3)                                       #retruns bototom 3 "
      ],
      "execution_count": 0,
      "outputs": [
        {
          "output_type": "execute_result",
          "data": {
            "text/html": [
              "<div>\n",
              "<style scoped>\n",
              "    .dataframe tbody tr th:only-of-type {\n",
              "        vertical-align: middle;\n",
              "    }\n",
              "\n",
              "    .dataframe tbody tr th {\n",
              "        vertical-align: top;\n",
              "    }\n",
              "\n",
              "    .dataframe thead th {\n",
              "        text-align: right;\n",
              "    }\n",
              "</style>\n",
              "<table border=\"1\" class=\"dataframe\">\n",
              "  <thead>\n",
              "    <tr style=\"text-align: right;\">\n",
              "      <th></th>\n",
              "      <th>Ai</th>\n",
              "      <th>P1</th>\n",
              "      <th>P3</th>\n",
              "      <th>total marks</th>\n",
              "      <th>marksobt</th>\n",
              "      <th>status</th>\n",
              "      <th>percentage</th>\n",
              "    </tr>\n",
              "  </thead>\n",
              "  <tbody>\n",
              "    <tr>\n",
              "      <th>nemal</th>\n",
              "      <td>82.0</td>\n",
              "      <td>89</td>\n",
              "      <td>85</td>\n",
              "      <td>300</td>\n",
              "      <td>256.0</td>\n",
              "      <td>Pass</td>\n",
              "      <td>85.333333</td>\n",
              "    </tr>\n",
              "    <tr>\n",
              "      <th>tooba</th>\n",
              "      <td>91.0</td>\n",
              "      <td>89</td>\n",
              "      <td>87</td>\n",
              "      <td>300</td>\n",
              "      <td>267.0</td>\n",
              "      <td>Pass</td>\n",
              "      <td>89.000000</td>\n",
              "    </tr>\n",
              "    <tr>\n",
              "      <th>batoota</th>\n",
              "      <td>72.0</td>\n",
              "      <td>43</td>\n",
              "      <td>34</td>\n",
              "      <td>300</td>\n",
              "      <td>149.0</td>\n",
              "      <td>Pass</td>\n",
              "      <td>49.666667</td>\n",
              "    </tr>\n",
              "  </tbody>\n",
              "</table>\n",
              "</div>"
            ],
            "text/plain": [
              "           Ai  P1  P3  total marks  marksobt status  percentage\n",
              "nemal    82.0  89  85          300     256.0   Pass   85.333333\n",
              "tooba    91.0  89  87          300     267.0   Pass   89.000000\n",
              "batoota  72.0  43  34          300     149.0   Pass   49.666667"
            ]
          },
          "metadata": {
            "tags": []
          },
          "execution_count": 98
        }
      ]
    },
    {
      "cell_type": "code",
      "metadata": {
        "id": "u0NazG7ODB4a",
        "colab_type": "code",
        "outputId": "0438f151-4d84-4523-85a6-656e4570c194",
        "colab": {
          "base_uri": "https://localhost:8080/",
          "height": 158
        }
      },
      "source": [
        "df3.loc['lyma']                                    #retruns all the values of this index"
      ],
      "execution_count": 0,
      "outputs": [
        {
          "output_type": "execute_result",
          "data": {
            "text/plain": [
              "Ai               79\n",
              "P1               80\n",
              "P3               60\n",
              "total marks     300\n",
              "marksobt        219\n",
              "status         Pass\n",
              "percentage       73\n",
              "Name: lyma, dtype: object"
            ]
          },
          "metadata": {
            "tags": []
          },
          "execution_count": 99
        }
      ]
    },
    {
      "cell_type": "code",
      "metadata": {
        "id": "R96hYKMwDN0o",
        "colab_type": "code",
        "outputId": "d72e2286-2293-47c8-e4c2-61f305faf32d",
        "colab": {
          "base_uri": "https://localhost:8080/",
          "height": 158
        }
      },
      "source": [
        "df3.loc['sera']"
      ],
      "execution_count": 0,
      "outputs": [
        {
          "output_type": "execute_result",
          "data": {
            "text/plain": [
              "Ai               67\n",
              "P1               45\n",
              "P3               56\n",
              "total marks     300\n",
              "marksobt        168\n",
              "status         Pass\n",
              "percentage       56\n",
              "Name: sera, dtype: object"
            ]
          },
          "metadata": {
            "tags": []
          },
          "execution_count": 100
        }
      ]
    },
    {
      "cell_type": "markdown",
      "metadata": {
        "id": "JltQxZP7DVWP",
        "colab_type": "text"
      },
      "source": [
        "###slicing with loc and iloc\n",
        "loc includes last index <br>\n",
        "iloc excludes last index"
      ]
    },
    {
      "cell_type": "code",
      "metadata": {
        "id": "9HCj8Id5DarE",
        "colab_type": "code",
        "outputId": "6b7f5300-f058-4147-98e7-699af9a865ab",
        "colab": {
          "base_uri": "https://localhost:8080/",
          "height": 166
        }
      },
      "source": [
        "df3.loc['lyma' : 'susu']                       #returns lyma to susu (includes last index) unlike iloc "
      ],
      "execution_count": 0,
      "outputs": [
        {
          "output_type": "execute_result",
          "data": {
            "text/html": [
              "<div>\n",
              "<style scoped>\n",
              "    .dataframe tbody tr th:only-of-type {\n",
              "        vertical-align: middle;\n",
              "    }\n",
              "\n",
              "    .dataframe tbody tr th {\n",
              "        vertical-align: top;\n",
              "    }\n",
              "\n",
              "    .dataframe thead th {\n",
              "        text-align: right;\n",
              "    }\n",
              "</style>\n",
              "<table border=\"1\" class=\"dataframe\">\n",
              "  <thead>\n",
              "    <tr style=\"text-align: right;\">\n",
              "      <th></th>\n",
              "      <th>Ai</th>\n",
              "      <th>P1</th>\n",
              "      <th>P3</th>\n",
              "      <th>total marks</th>\n",
              "      <th>marksobt</th>\n",
              "      <th>status</th>\n",
              "      <th>percentage</th>\n",
              "    </tr>\n",
              "  </thead>\n",
              "  <tbody>\n",
              "    <tr>\n",
              "      <th>lyma</th>\n",
              "      <td>79.0</td>\n",
              "      <td>80</td>\n",
              "      <td>60</td>\n",
              "      <td>300</td>\n",
              "      <td>219.0</td>\n",
              "      <td>Pass</td>\n",
              "      <td>73.0</td>\n",
              "    </tr>\n",
              "    <tr>\n",
              "      <th>roma</th>\n",
              "      <td>98.0</td>\n",
              "      <td>78</td>\n",
              "      <td>97</td>\n",
              "      <td>300</td>\n",
              "      <td>273.0</td>\n",
              "      <td>Pass</td>\n",
              "      <td>91.0</td>\n",
              "    </tr>\n",
              "    <tr>\n",
              "      <th>leej</th>\n",
              "      <td>98.5</td>\n",
              "      <td>79</td>\n",
              "      <td>76</td>\n",
              "      <td>300</td>\n",
              "      <td>253.5</td>\n",
              "      <td>Pass</td>\n",
              "      <td>84.5</td>\n",
              "    </tr>\n",
              "    <tr>\n",
              "      <th>susu</th>\n",
              "      <td>45.0</td>\n",
              "      <td>56</td>\n",
              "      <td>76</td>\n",
              "      <td>300</td>\n",
              "      <td>177.0</td>\n",
              "      <td>Pass</td>\n",
              "      <td>59.0</td>\n",
              "    </tr>\n",
              "  </tbody>\n",
              "</table>\n",
              "</div>"
            ],
            "text/plain": [
              "        Ai  P1  P3  total marks  marksobt status  percentage\n",
              "lyma  79.0  80  60          300     219.0   Pass        73.0\n",
              "roma  98.0  78  97          300     273.0   Pass        91.0\n",
              "leej  98.5  79  76          300     253.5   Pass        84.5\n",
              "susu  45.0  56  76          300     177.0   Pass        59.0"
            ]
          },
          "metadata": {
            "tags": []
          },
          "execution_count": 101
        }
      ]
    },
    {
      "cell_type": "code",
      "metadata": {
        "id": "Mpd6Wu90DlNU",
        "colab_type": "code",
        "outputId": "da76ce6b-93fc-49c2-a9eb-2bedeccadc53",
        "colab": {
          "base_uri": "https://localhost:8080/",
          "height": 136
        }
      },
      "source": [
        "df3.iloc[0:3]                                  #i location doesn't include last index like normal indexing (excludes last index)"
      ],
      "execution_count": 0,
      "outputs": [
        {
          "output_type": "execute_result",
          "data": {
            "text/html": [
              "<div>\n",
              "<style scoped>\n",
              "    .dataframe tbody tr th:only-of-type {\n",
              "        vertical-align: middle;\n",
              "    }\n",
              "\n",
              "    .dataframe tbody tr th {\n",
              "        vertical-align: top;\n",
              "    }\n",
              "\n",
              "    .dataframe thead th {\n",
              "        text-align: right;\n",
              "    }\n",
              "</style>\n",
              "<table border=\"1\" class=\"dataframe\">\n",
              "  <thead>\n",
              "    <tr style=\"text-align: right;\">\n",
              "      <th></th>\n",
              "      <th>Ai</th>\n",
              "      <th>P1</th>\n",
              "      <th>P3</th>\n",
              "      <th>total marks</th>\n",
              "      <th>marksobt</th>\n",
              "      <th>status</th>\n",
              "      <th>percentage</th>\n",
              "    </tr>\n",
              "  </thead>\n",
              "  <tbody>\n",
              "    <tr>\n",
              "      <th>lyma</th>\n",
              "      <td>79.0</td>\n",
              "      <td>80</td>\n",
              "      <td>60</td>\n",
              "      <td>300</td>\n",
              "      <td>219.0</td>\n",
              "      <td>Pass</td>\n",
              "      <td>73.0</td>\n",
              "    </tr>\n",
              "    <tr>\n",
              "      <th>roma</th>\n",
              "      <td>98.0</td>\n",
              "      <td>78</td>\n",
              "      <td>97</td>\n",
              "      <td>300</td>\n",
              "      <td>273.0</td>\n",
              "      <td>Pass</td>\n",
              "      <td>91.0</td>\n",
              "    </tr>\n",
              "    <tr>\n",
              "      <th>leej</th>\n",
              "      <td>98.5</td>\n",
              "      <td>79</td>\n",
              "      <td>76</td>\n",
              "      <td>300</td>\n",
              "      <td>253.5</td>\n",
              "      <td>Pass</td>\n",
              "      <td>84.5</td>\n",
              "    </tr>\n",
              "  </tbody>\n",
              "</table>\n",
              "</div>"
            ],
            "text/plain": [
              "        Ai  P1  P3  total marks  marksobt status  percentage\n",
              "lyma  79.0  80  60          300     219.0   Pass        73.0\n",
              "roma  98.0  78  97          300     273.0   Pass        91.0\n",
              "leej  98.5  79  76          300     253.5   Pass        84.5"
            ]
          },
          "metadata": {
            "tags": []
          },
          "execution_count": 102
        }
      ]
    },
    {
      "cell_type": "markdown",
      "metadata": {
        "id": "tub91xJ-Etov",
        "colab_type": "text"
      },
      "source": [
        "###accessing values "
      ]
    },
    {
      "cell_type": "code",
      "metadata": {
        "id": "s-ognPlrEoGB",
        "colab_type": "code",
        "outputId": "186c20f7-228f-4077-db4a-fcd98baf1b69",
        "colab": {
          "base_uri": "https://localhost:8080/",
          "height": 34
        }
      },
      "source": [
        "df3.loc['lyma']['percentage']      "
      ],
      "execution_count": 0,
      "outputs": [
        {
          "output_type": "execute_result",
          "data": {
            "text/plain": [
              "73.0"
            ]
          },
          "metadata": {
            "tags": []
          },
          "execution_count": 103
        }
      ]
    },
    {
      "cell_type": "code",
      "metadata": {
        "id": "eJxesrRrFSZI",
        "colab_type": "code",
        "outputId": "e37bd084-1ab0-42c2-da82-f5fa528c11aa",
        "colab": {
          "base_uri": "https://localhost:8080/",
          "height": 343
        }
      },
      "source": [
        "df3.iloc[::-1]"
      ],
      "execution_count": 0,
      "outputs": [
        {
          "output_type": "execute_result",
          "data": {
            "text/html": [
              "<div>\n",
              "<style scoped>\n",
              "    .dataframe tbody tr th:only-of-type {\n",
              "        vertical-align: middle;\n",
              "    }\n",
              "\n",
              "    .dataframe tbody tr th {\n",
              "        vertical-align: top;\n",
              "    }\n",
              "\n",
              "    .dataframe thead th {\n",
              "        text-align: right;\n",
              "    }\n",
              "</style>\n",
              "<table border=\"1\" class=\"dataframe\">\n",
              "  <thead>\n",
              "    <tr style=\"text-align: right;\">\n",
              "      <th></th>\n",
              "      <th>Ai</th>\n",
              "      <th>P1</th>\n",
              "      <th>P3</th>\n",
              "      <th>total marks</th>\n",
              "      <th>marksobt</th>\n",
              "      <th>status</th>\n",
              "      <th>percentage</th>\n",
              "    </tr>\n",
              "  </thead>\n",
              "  <tbody>\n",
              "    <tr>\n",
              "      <th>batoota</th>\n",
              "      <td>72.0</td>\n",
              "      <td>43</td>\n",
              "      <td>34</td>\n",
              "      <td>300</td>\n",
              "      <td>149.0</td>\n",
              "      <td>Pass</td>\n",
              "      <td>49.666667</td>\n",
              "    </tr>\n",
              "    <tr>\n",
              "      <th>tooba</th>\n",
              "      <td>91.0</td>\n",
              "      <td>89</td>\n",
              "      <td>87</td>\n",
              "      <td>300</td>\n",
              "      <td>267.0</td>\n",
              "      <td>Pass</td>\n",
              "      <td>89.000000</td>\n",
              "    </tr>\n",
              "    <tr>\n",
              "      <th>nemal</th>\n",
              "      <td>82.0</td>\n",
              "      <td>89</td>\n",
              "      <td>85</td>\n",
              "      <td>300</td>\n",
              "      <td>256.0</td>\n",
              "      <td>Pass</td>\n",
              "      <td>85.333333</td>\n",
              "    </tr>\n",
              "    <tr>\n",
              "      <th>isha</th>\n",
              "      <td>83.0</td>\n",
              "      <td>25</td>\n",
              "      <td>87</td>\n",
              "      <td>300</td>\n",
              "      <td>195.0</td>\n",
              "      <td>Fail</td>\n",
              "      <td>65.000000</td>\n",
              "    </tr>\n",
              "    <tr>\n",
              "      <th>baidar</th>\n",
              "      <td>87.0</td>\n",
              "      <td>35</td>\n",
              "      <td>64</td>\n",
              "      <td>300</td>\n",
              "      <td>186.0</td>\n",
              "      <td>Pass</td>\n",
              "      <td>62.000000</td>\n",
              "    </tr>\n",
              "    <tr>\n",
              "      <th>sera</th>\n",
              "      <td>67.0</td>\n",
              "      <td>45</td>\n",
              "      <td>56</td>\n",
              "      <td>300</td>\n",
              "      <td>168.0</td>\n",
              "      <td>Pass</td>\n",
              "      <td>56.000000</td>\n",
              "    </tr>\n",
              "    <tr>\n",
              "      <th>susu</th>\n",
              "      <td>45.0</td>\n",
              "      <td>56</td>\n",
              "      <td>76</td>\n",
              "      <td>300</td>\n",
              "      <td>177.0</td>\n",
              "      <td>Pass</td>\n",
              "      <td>59.000000</td>\n",
              "    </tr>\n",
              "    <tr>\n",
              "      <th>leej</th>\n",
              "      <td>98.5</td>\n",
              "      <td>79</td>\n",
              "      <td>76</td>\n",
              "      <td>300</td>\n",
              "      <td>253.5</td>\n",
              "      <td>Pass</td>\n",
              "      <td>84.500000</td>\n",
              "    </tr>\n",
              "    <tr>\n",
              "      <th>roma</th>\n",
              "      <td>98.0</td>\n",
              "      <td>78</td>\n",
              "      <td>97</td>\n",
              "      <td>300</td>\n",
              "      <td>273.0</td>\n",
              "      <td>Pass</td>\n",
              "      <td>91.000000</td>\n",
              "    </tr>\n",
              "    <tr>\n",
              "      <th>lyma</th>\n",
              "      <td>79.0</td>\n",
              "      <td>80</td>\n",
              "      <td>60</td>\n",
              "      <td>300</td>\n",
              "      <td>219.0</td>\n",
              "      <td>Pass</td>\n",
              "      <td>73.000000</td>\n",
              "    </tr>\n",
              "  </tbody>\n",
              "</table>\n",
              "</div>"
            ],
            "text/plain": [
              "           Ai  P1  P3  total marks  marksobt status  percentage\n",
              "batoota  72.0  43  34          300     149.0   Pass   49.666667\n",
              "tooba    91.0  89  87          300     267.0   Pass   89.000000\n",
              "nemal    82.0  89  85          300     256.0   Pass   85.333333\n",
              "isha     83.0  25  87          300     195.0   Fail   65.000000\n",
              "baidar   87.0  35  64          300     186.0   Pass   62.000000\n",
              "sera     67.0  45  56          300     168.0   Pass   56.000000\n",
              "susu     45.0  56  76          300     177.0   Pass   59.000000\n",
              "leej     98.5  79  76          300     253.5   Pass   84.500000\n",
              "roma     98.0  78  97          300     273.0   Pass   91.000000\n",
              "lyma     79.0  80  60          300     219.0   Pass   73.000000"
            ]
          },
          "metadata": {
            "tags": []
          },
          "execution_count": 104
        }
      ]
    },
    {
      "cell_type": "markdown",
      "metadata": {
        "id": "yF7WRS6JE3Kq",
        "colab_type": "text"
      },
      "source": [
        "###inserting a record (row)"
      ]
    },
    {
      "cell_type": "code",
      "metadata": {
        "id": "YRIBQMojE5yG",
        "colab_type": "code",
        "outputId": "40e6f68a-4af7-4fa5-86bd-d72f6d474901",
        "colab": {
          "base_uri": "https://localhost:8080/",
          "height": 332
        }
      },
      "source": [
        "df3.loc['abc'] = ['a']\n",
        "df3"
      ],
      "execution_count": 0,
      "outputs": [
        {
          "output_type": "error",
          "ename": "ValueError",
          "evalue": "ignored",
          "traceback": [
            "\u001b[0;31m---------------------------------------------------------------------------\u001b[0m",
            "\u001b[0;31mValueError\u001b[0m                                Traceback (most recent call last)",
            "\u001b[0;32m<ipython-input-105-263551f4b620>\u001b[0m in \u001b[0;36m<module>\u001b[0;34m()\u001b[0m\n\u001b[0;32m----> 1\u001b[0;31m \u001b[0mdf3\u001b[0m\u001b[0;34m.\u001b[0m\u001b[0mloc\u001b[0m\u001b[0;34m[\u001b[0m\u001b[0;34m'abc'\u001b[0m\u001b[0;34m]\u001b[0m \u001b[0;34m=\u001b[0m \u001b[0;34m[\u001b[0m\u001b[0;34m'a'\u001b[0m\u001b[0;34m]\u001b[0m\u001b[0;34m\u001b[0m\u001b[0;34m\u001b[0m\u001b[0m\n\u001b[0m\u001b[1;32m      2\u001b[0m \u001b[0mdf3\u001b[0m\u001b[0;34m\u001b[0m\u001b[0;34m\u001b[0m\u001b[0m\n",
            "\u001b[0;32m/usr/local/lib/python3.6/dist-packages/pandas/core/indexing.py\u001b[0m in \u001b[0;36m__setitem__\u001b[0;34m(self, key, value)\u001b[0m\n\u001b[1;32m    188\u001b[0m             \u001b[0mkey\u001b[0m \u001b[0;34m=\u001b[0m \u001b[0mcom\u001b[0m\u001b[0;34m.\u001b[0m\u001b[0mapply_if_callable\u001b[0m\u001b[0;34m(\u001b[0m\u001b[0mkey\u001b[0m\u001b[0;34m,\u001b[0m \u001b[0mself\u001b[0m\u001b[0;34m.\u001b[0m\u001b[0mobj\u001b[0m\u001b[0;34m)\u001b[0m\u001b[0;34m\u001b[0m\u001b[0;34m\u001b[0m\u001b[0m\n\u001b[1;32m    189\u001b[0m         \u001b[0mindexer\u001b[0m \u001b[0;34m=\u001b[0m \u001b[0mself\u001b[0m\u001b[0;34m.\u001b[0m\u001b[0m_get_setitem_indexer\u001b[0m\u001b[0;34m(\u001b[0m\u001b[0mkey\u001b[0m\u001b[0;34m)\u001b[0m\u001b[0;34m\u001b[0m\u001b[0;34m\u001b[0m\u001b[0m\n\u001b[0;32m--> 190\u001b[0;31m         \u001b[0mself\u001b[0m\u001b[0;34m.\u001b[0m\u001b[0m_setitem_with_indexer\u001b[0m\u001b[0;34m(\u001b[0m\u001b[0mindexer\u001b[0m\u001b[0;34m,\u001b[0m \u001b[0mvalue\u001b[0m\u001b[0;34m)\u001b[0m\u001b[0;34m\u001b[0m\u001b[0;34m\u001b[0m\u001b[0m\n\u001b[0m\u001b[1;32m    191\u001b[0m \u001b[0;34m\u001b[0m\u001b[0m\n\u001b[1;32m    192\u001b[0m     \u001b[0;32mdef\u001b[0m \u001b[0m_validate_key\u001b[0m\u001b[0;34m(\u001b[0m\u001b[0mself\u001b[0m\u001b[0;34m,\u001b[0m \u001b[0mkey\u001b[0m\u001b[0;34m,\u001b[0m \u001b[0maxis\u001b[0m\u001b[0;34m)\u001b[0m\u001b[0;34m:\u001b[0m\u001b[0;34m\u001b[0m\u001b[0;34m\u001b[0m\u001b[0m\n",
            "\u001b[0;32m/usr/local/lib/python3.6/dist-packages/pandas/core/indexing.py\u001b[0m in \u001b[0;36m_setitem_with_indexer\u001b[0;34m(self, indexer, value)\u001b[0m\n\u001b[1;32m    443\u001b[0m                         \u001b[0;32mif\u001b[0m \u001b[0mis_list_like_indexer\u001b[0m\u001b[0;34m(\u001b[0m\u001b[0mvalue\u001b[0m\u001b[0;34m)\u001b[0m\u001b[0;34m:\u001b[0m\u001b[0;34m\u001b[0m\u001b[0;34m\u001b[0m\u001b[0m\n\u001b[1;32m    444\u001b[0m                             \u001b[0;32mif\u001b[0m \u001b[0mlen\u001b[0m\u001b[0;34m(\u001b[0m\u001b[0mvalue\u001b[0m\u001b[0;34m)\u001b[0m \u001b[0;34m!=\u001b[0m \u001b[0mlen\u001b[0m\u001b[0;34m(\u001b[0m\u001b[0mself\u001b[0m\u001b[0;34m.\u001b[0m\u001b[0mobj\u001b[0m\u001b[0;34m.\u001b[0m\u001b[0mcolumns\u001b[0m\u001b[0;34m)\u001b[0m\u001b[0;34m:\u001b[0m\u001b[0;34m\u001b[0m\u001b[0;34m\u001b[0m\u001b[0m\n\u001b[0;32m--> 445\u001b[0;31m                                 raise ValueError(\"cannot set a row with \"\n\u001b[0m\u001b[1;32m    446\u001b[0m                                                  \"mismatched columns\")\n\u001b[1;32m    447\u001b[0m \u001b[0;34m\u001b[0m\u001b[0m\n",
            "\u001b[0;31mValueError\u001b[0m: cannot set a row with mismatched columns"
          ]
        }
      ]
    },
    {
      "cell_type": "code",
      "metadata": {
        "id": "i1h_z2lTFJfU",
        "colab_type": "code",
        "outputId": "a8a8b945-4011-48c3-f107-660f30e8576b",
        "colab": {
          "base_uri": "https://localhost:8080/",
          "height": 373
        }
      },
      "source": [
        "df3.loc['abc'] = [1,2,3,4,5,6,7]\n",
        "df3"
      ],
      "execution_count": 0,
      "outputs": [
        {
          "output_type": "execute_result",
          "data": {
            "text/html": [
              "<div>\n",
              "<style scoped>\n",
              "    .dataframe tbody tr th:only-of-type {\n",
              "        vertical-align: middle;\n",
              "    }\n",
              "\n",
              "    .dataframe tbody tr th {\n",
              "        vertical-align: top;\n",
              "    }\n",
              "\n",
              "    .dataframe thead th {\n",
              "        text-align: right;\n",
              "    }\n",
              "</style>\n",
              "<table border=\"1\" class=\"dataframe\">\n",
              "  <thead>\n",
              "    <tr style=\"text-align: right;\">\n",
              "      <th></th>\n",
              "      <th>Ai</th>\n",
              "      <th>P1</th>\n",
              "      <th>P3</th>\n",
              "      <th>total marks</th>\n",
              "      <th>marksobt</th>\n",
              "      <th>status</th>\n",
              "      <th>percentage</th>\n",
              "    </tr>\n",
              "  </thead>\n",
              "  <tbody>\n",
              "    <tr>\n",
              "      <th>lyma</th>\n",
              "      <td>79.0</td>\n",
              "      <td>80</td>\n",
              "      <td>60</td>\n",
              "      <td>300</td>\n",
              "      <td>219.0</td>\n",
              "      <td>Pass</td>\n",
              "      <td>73.000000</td>\n",
              "    </tr>\n",
              "    <tr>\n",
              "      <th>roma</th>\n",
              "      <td>98.0</td>\n",
              "      <td>78</td>\n",
              "      <td>97</td>\n",
              "      <td>300</td>\n",
              "      <td>273.0</td>\n",
              "      <td>Pass</td>\n",
              "      <td>91.000000</td>\n",
              "    </tr>\n",
              "    <tr>\n",
              "      <th>leej</th>\n",
              "      <td>98.5</td>\n",
              "      <td>79</td>\n",
              "      <td>76</td>\n",
              "      <td>300</td>\n",
              "      <td>253.5</td>\n",
              "      <td>Pass</td>\n",
              "      <td>84.500000</td>\n",
              "    </tr>\n",
              "    <tr>\n",
              "      <th>susu</th>\n",
              "      <td>45.0</td>\n",
              "      <td>56</td>\n",
              "      <td>76</td>\n",
              "      <td>300</td>\n",
              "      <td>177.0</td>\n",
              "      <td>Pass</td>\n",
              "      <td>59.000000</td>\n",
              "    </tr>\n",
              "    <tr>\n",
              "      <th>sera</th>\n",
              "      <td>67.0</td>\n",
              "      <td>45</td>\n",
              "      <td>56</td>\n",
              "      <td>300</td>\n",
              "      <td>168.0</td>\n",
              "      <td>Pass</td>\n",
              "      <td>56.000000</td>\n",
              "    </tr>\n",
              "    <tr>\n",
              "      <th>baidar</th>\n",
              "      <td>87.0</td>\n",
              "      <td>35</td>\n",
              "      <td>64</td>\n",
              "      <td>300</td>\n",
              "      <td>186.0</td>\n",
              "      <td>Pass</td>\n",
              "      <td>62.000000</td>\n",
              "    </tr>\n",
              "    <tr>\n",
              "      <th>isha</th>\n",
              "      <td>83.0</td>\n",
              "      <td>25</td>\n",
              "      <td>87</td>\n",
              "      <td>300</td>\n",
              "      <td>195.0</td>\n",
              "      <td>Fail</td>\n",
              "      <td>65.000000</td>\n",
              "    </tr>\n",
              "    <tr>\n",
              "      <th>nemal</th>\n",
              "      <td>82.0</td>\n",
              "      <td>89</td>\n",
              "      <td>85</td>\n",
              "      <td>300</td>\n",
              "      <td>256.0</td>\n",
              "      <td>Pass</td>\n",
              "      <td>85.333333</td>\n",
              "    </tr>\n",
              "    <tr>\n",
              "      <th>tooba</th>\n",
              "      <td>91.0</td>\n",
              "      <td>89</td>\n",
              "      <td>87</td>\n",
              "      <td>300</td>\n",
              "      <td>267.0</td>\n",
              "      <td>Pass</td>\n",
              "      <td>89.000000</td>\n",
              "    </tr>\n",
              "    <tr>\n",
              "      <th>batoota</th>\n",
              "      <td>72.0</td>\n",
              "      <td>43</td>\n",
              "      <td>34</td>\n",
              "      <td>300</td>\n",
              "      <td>149.0</td>\n",
              "      <td>Pass</td>\n",
              "      <td>49.666667</td>\n",
              "    </tr>\n",
              "    <tr>\n",
              "      <th>abc</th>\n",
              "      <td>1.0</td>\n",
              "      <td>2</td>\n",
              "      <td>3</td>\n",
              "      <td>4</td>\n",
              "      <td>5.0</td>\n",
              "      <td>6</td>\n",
              "      <td>7.000000</td>\n",
              "    </tr>\n",
              "  </tbody>\n",
              "</table>\n",
              "</div>"
            ],
            "text/plain": [
              "           Ai  P1  P3  total marks  marksobt status  percentage\n",
              "lyma     79.0  80  60          300     219.0   Pass   73.000000\n",
              "roma     98.0  78  97          300     273.0   Pass   91.000000\n",
              "leej     98.5  79  76          300     253.5   Pass   84.500000\n",
              "susu     45.0  56  76          300     177.0   Pass   59.000000\n",
              "sera     67.0  45  56          300     168.0   Pass   56.000000\n",
              "baidar   87.0  35  64          300     186.0   Pass   62.000000\n",
              "isha     83.0  25  87          300     195.0   Fail   65.000000\n",
              "nemal    82.0  89  85          300     256.0   Pass   85.333333\n",
              "tooba    91.0  89  87          300     267.0   Pass   89.000000\n",
              "batoota  72.0  43  34          300     149.0   Pass   49.666667\n",
              "abc       1.0   2   3            4       5.0      6    7.000000"
            ]
          },
          "metadata": {
            "tags": []
          },
          "execution_count": 106
        }
      ]
    },
    {
      "cell_type": "markdown",
      "metadata": {
        "id": "m86_aDXAbxMq",
        "colab_type": "text"
      },
      "source": [
        "#Day 2 "
      ]
    },
    {
      "cell_type": "code",
      "metadata": {
        "id": "c0WPwDcLeZau",
        "colab_type": "code",
        "outputId": "50e83751-fa9f-46f1-96fb-79e8d9ddfb49",
        "colab": {
          "base_uri": "https://localhost:8080/",
          "height": 47
        }
      },
      "source": [
        "data3 = {'Ai' : [79, 98, 98.5, 45, 67, 87, 83, 82, 91, 72],\n",
        "      'P1' : [80, 78, 79, 56, 45, 35, 25, 89, 89, 43],\n",
        "      'P3' : [60, 97, 76, 76, 56, 64, 87, 85, 87, 34]}\n",
        "df4 = pd.DataFrame(data3, columns = ['ai','p1','p3'])\n",
        "df4"
      ],
      "execution_count": 0,
      "outputs": [
        {
          "output_type": "execute_result",
          "data": {
            "text/html": [
              "<div>\n",
              "<style scoped>\n",
              "    .dataframe tbody tr th:only-of-type {\n",
              "        vertical-align: middle;\n",
              "    }\n",
              "\n",
              "    .dataframe tbody tr th {\n",
              "        vertical-align: top;\n",
              "    }\n",
              "\n",
              "    .dataframe thead th {\n",
              "        text-align: right;\n",
              "    }\n",
              "</style>\n",
              "<table border=\"1\" class=\"dataframe\">\n",
              "  <thead>\n",
              "    <tr style=\"text-align: right;\">\n",
              "      <th></th>\n",
              "      <th>ai</th>\n",
              "      <th>p1</th>\n",
              "      <th>p3</th>\n",
              "    </tr>\n",
              "  </thead>\n",
              "  <tbody>\n",
              "  </tbody>\n",
              "</table>\n",
              "</div>"
            ],
            "text/plain": [
              "Empty DataFrame\n",
              "Columns: [ai, p1, p3]\n",
              "Index: []"
            ]
          },
          "metadata": {
            "tags": []
          },
          "execution_count": 120
        }
      ]
    },
    {
      "cell_type": "code",
      "metadata": {
        "id": "sHpnkhGbe3CQ",
        "colab_type": "code",
        "outputId": "2090e959-b05b-4a02-e9e6-3e0dcbf4f9cf",
        "colab": {
          "base_uri": "https://localhost:8080/",
          "height": 225
        }
      },
      "source": [
        "data = {'state' : ['Ohio','Ottowa','Toronto','Ohio','Neveda','Missiusaga'],\n",
        "       'year' : [2000, 2001, 2001, 1990, 1200, 1999],\n",
        "       'pop' : [1.2, 1.2, 1.7, 1.8, 1.9, 2.2]}\n",
        "frame = pd.DataFrame(data, columns = ['year','state','pop','extra'], index = ['one','two','three','four','five','six'])\n",
        "frame\n",
        "#NaN stands for Not A Number"
      ],
      "execution_count": 0,
      "outputs": [
        {
          "output_type": "execute_result",
          "data": {
            "text/html": [
              "<div>\n",
              "<style scoped>\n",
              "    .dataframe tbody tr th:only-of-type {\n",
              "        vertical-align: middle;\n",
              "    }\n",
              "\n",
              "    .dataframe tbody tr th {\n",
              "        vertical-align: top;\n",
              "    }\n",
              "\n",
              "    .dataframe thead th {\n",
              "        text-align: right;\n",
              "    }\n",
              "</style>\n",
              "<table border=\"1\" class=\"dataframe\">\n",
              "  <thead>\n",
              "    <tr style=\"text-align: right;\">\n",
              "      <th></th>\n",
              "      <th>year</th>\n",
              "      <th>state</th>\n",
              "      <th>pop</th>\n",
              "      <th>extra</th>\n",
              "    </tr>\n",
              "  </thead>\n",
              "  <tbody>\n",
              "    <tr>\n",
              "      <th>one</th>\n",
              "      <td>2000</td>\n",
              "      <td>Ohio</td>\n",
              "      <td>1.2</td>\n",
              "      <td>NaN</td>\n",
              "    </tr>\n",
              "    <tr>\n",
              "      <th>two</th>\n",
              "      <td>2001</td>\n",
              "      <td>Ottowa</td>\n",
              "      <td>1.2</td>\n",
              "      <td>NaN</td>\n",
              "    </tr>\n",
              "    <tr>\n",
              "      <th>three</th>\n",
              "      <td>2001</td>\n",
              "      <td>Toronto</td>\n",
              "      <td>1.7</td>\n",
              "      <td>NaN</td>\n",
              "    </tr>\n",
              "    <tr>\n",
              "      <th>four</th>\n",
              "      <td>1990</td>\n",
              "      <td>Ohio</td>\n",
              "      <td>1.8</td>\n",
              "      <td>NaN</td>\n",
              "    </tr>\n",
              "    <tr>\n",
              "      <th>five</th>\n",
              "      <td>1200</td>\n",
              "      <td>Neveda</td>\n",
              "      <td>1.9</td>\n",
              "      <td>NaN</td>\n",
              "    </tr>\n",
              "    <tr>\n",
              "      <th>six</th>\n",
              "      <td>1999</td>\n",
              "      <td>Missiusaga</td>\n",
              "      <td>2.2</td>\n",
              "      <td>NaN</td>\n",
              "    </tr>\n",
              "  </tbody>\n",
              "</table>\n",
              "</div>"
            ],
            "text/plain": [
              "       year       state  pop extra\n",
              "one    2000        Ohio  1.2   NaN\n",
              "two    2001      Ottowa  1.2   NaN\n",
              "three  2001     Toronto  1.7   NaN\n",
              "four   1990        Ohio  1.8   NaN\n",
              "five   1200      Neveda  1.9   NaN\n",
              "six    1999  Missiusaga  2.2   NaN"
            ]
          },
          "metadata": {
            "tags": []
          },
          "execution_count": 124
        }
      ]
    },
    {
      "cell_type": "markdown",
      "metadata": {
        "id": "mMW7ZWAwhujo",
        "colab_type": "text"
      },
      "source": [
        "### .columns"
      ]
    },
    {
      "cell_type": "code",
      "metadata": {
        "id": "9pHMvqTchn3Z",
        "colab_type": "code",
        "outputId": "a188ff12-d3e1-47f8-a42d-75566f1dbdab",
        "colab": {
          "base_uri": "https://localhost:8080/",
          "height": 34
        }
      },
      "source": [
        "frame.columns"
      ],
      "execution_count": 0,
      "outputs": [
        {
          "output_type": "execute_result",
          "data": {
            "text/plain": [
              "Index(['year', 'state', 'pop', 'extra'], dtype='object')"
            ]
          },
          "metadata": {
            "tags": []
          },
          "execution_count": 125
        }
      ]
    },
    {
      "cell_type": "markdown",
      "metadata": {
        "id": "iduPjW8rh2n-",
        "colab_type": "text"
      },
      "source": [
        "### .index"
      ]
    },
    {
      "cell_type": "code",
      "metadata": {
        "id": "ATs-ZaNWhyz8",
        "colab_type": "code",
        "outputId": "180cf011-0cb2-4418-da29-584b8ca360d7",
        "colab": {
          "base_uri": "https://localhost:8080/",
          "height": 34
        }
      },
      "source": [
        "frame.index"
      ],
      "execution_count": 0,
      "outputs": [
        {
          "output_type": "execute_result",
          "data": {
            "text/plain": [
              "Index(['one', 'two', 'three', 'four', 'five', 'six'], dtype='object')"
            ]
          },
          "metadata": {
            "tags": []
          },
          "execution_count": 126
        }
      ]
    },
    {
      "cell_type": "markdown",
      "metadata": {
        "id": "LbgJSFBZh5-m",
        "colab_type": "text"
      },
      "source": [
        "### printing single column"
      ]
    },
    {
      "cell_type": "code",
      "metadata": {
        "id": "goHe7h4Th9Wv",
        "colab_type": "code",
        "outputId": "ea5d518c-20fe-4450-c5c3-c8876fa87b23",
        "colab": {
          "base_uri": "https://localhost:8080/",
          "height": 140
        }
      },
      "source": [
        "frame['year']"
      ],
      "execution_count": 0,
      "outputs": [
        {
          "output_type": "execute_result",
          "data": {
            "text/plain": [
              "one      2000\n",
              "two      2001\n",
              "three    2001\n",
              "four     1990\n",
              "five     1200\n",
              "six      1999\n",
              "Name: year, dtype: int64"
            ]
          },
          "metadata": {
            "tags": []
          },
          "execution_count": 127
        }
      ]
    },
    {
      "cell_type": "code",
      "metadata": {
        "id": "q3JmgKXuiAQE",
        "colab_type": "code",
        "outputId": "80b47f4d-ebbf-42bf-c7d1-f3f3a4c92133",
        "colab": {
          "base_uri": "https://localhost:8080/",
          "height": 140
        }
      },
      "source": [
        "frame.year"
      ],
      "execution_count": 0,
      "outputs": [
        {
          "output_type": "execute_result",
          "data": {
            "text/plain": [
              "one      2000\n",
              "two      2001\n",
              "three    2001\n",
              "four     1990\n",
              "five     1200\n",
              "six      1999\n",
              "Name: year, dtype: int64"
            ]
          },
          "metadata": {
            "tags": []
          },
          "execution_count": 128
        }
      ]
    },
    {
      "cell_type": "markdown",
      "metadata": {
        "id": "phkbeH_giDQg",
        "colab_type": "text"
      },
      "source": [
        "### printing a single record"
      ]
    },
    {
      "cell_type": "code",
      "metadata": {
        "id": "SecAwv5piIWm",
        "colab_type": "code",
        "outputId": "c3d97bbf-3eba-4e7d-f01b-fc0ca3c00a3c",
        "colab": {
          "base_uri": "https://localhost:8080/",
          "height": 105
        }
      },
      "source": [
        "frame.loc['one']"
      ],
      "execution_count": 0,
      "outputs": [
        {
          "output_type": "execute_result",
          "data": {
            "text/plain": [
              "year     2000\n",
              "state    Ohio\n",
              "pop       1.2\n",
              "extra     NaN\n",
              "Name: one, dtype: object"
            ]
          },
          "metadata": {
            "tags": []
          },
          "execution_count": 129
        }
      ]
    },
    {
      "cell_type": "markdown",
      "metadata": {
        "id": "VE8f-j2biPho",
        "colab_type": "text"
      },
      "source": [
        ""
      ]
    },
    {
      "cell_type": "code",
      "metadata": {
        "id": "TKWEMFbPiRZi",
        "colab_type": "code",
        "outputId": "5b79919a-e037-456f-f57d-2a7e5cfb3ec5",
        "colab": {
          "base_uri": "https://localhost:8080/",
          "height": 225
        }
      },
      "source": [
        "frame"
      ],
      "execution_count": 0,
      "outputs": [
        {
          "output_type": "execute_result",
          "data": {
            "text/html": [
              "<div>\n",
              "<style scoped>\n",
              "    .dataframe tbody tr th:only-of-type {\n",
              "        vertical-align: middle;\n",
              "    }\n",
              "\n",
              "    .dataframe tbody tr th {\n",
              "        vertical-align: top;\n",
              "    }\n",
              "\n",
              "    .dataframe thead th {\n",
              "        text-align: right;\n",
              "    }\n",
              "</style>\n",
              "<table border=\"1\" class=\"dataframe\">\n",
              "  <thead>\n",
              "    <tr style=\"text-align: right;\">\n",
              "      <th></th>\n",
              "      <th>year</th>\n",
              "      <th>state</th>\n",
              "      <th>pop</th>\n",
              "      <th>extra</th>\n",
              "    </tr>\n",
              "  </thead>\n",
              "  <tbody>\n",
              "    <tr>\n",
              "      <th>one</th>\n",
              "      <td>2000</td>\n",
              "      <td>Ohio</td>\n",
              "      <td>1.2</td>\n",
              "      <td>NaN</td>\n",
              "    </tr>\n",
              "    <tr>\n",
              "      <th>two</th>\n",
              "      <td>2001</td>\n",
              "      <td>Ottowa</td>\n",
              "      <td>1.2</td>\n",
              "      <td>NaN</td>\n",
              "    </tr>\n",
              "    <tr>\n",
              "      <th>three</th>\n",
              "      <td>2001</td>\n",
              "      <td>Toronto</td>\n",
              "      <td>1.7</td>\n",
              "      <td>NaN</td>\n",
              "    </tr>\n",
              "    <tr>\n",
              "      <th>four</th>\n",
              "      <td>1990</td>\n",
              "      <td>Ohio</td>\n",
              "      <td>1.8</td>\n",
              "      <td>NaN</td>\n",
              "    </tr>\n",
              "    <tr>\n",
              "      <th>five</th>\n",
              "      <td>1200</td>\n",
              "      <td>Neveda</td>\n",
              "      <td>1.9</td>\n",
              "      <td>NaN</td>\n",
              "    </tr>\n",
              "    <tr>\n",
              "      <th>six</th>\n",
              "      <td>1999</td>\n",
              "      <td>Missiusaga</td>\n",
              "      <td>2.2</td>\n",
              "      <td>NaN</td>\n",
              "    </tr>\n",
              "  </tbody>\n",
              "</table>\n",
              "</div>"
            ],
            "text/plain": [
              "       year       state  pop extra\n",
              "one    2000        Ohio  1.2   NaN\n",
              "two    2001      Ottowa  1.2   NaN\n",
              "three  2001     Toronto  1.7   NaN\n",
              "four   1990        Ohio  1.8   NaN\n",
              "five   1200      Neveda  1.9   NaN\n",
              "six    1999  Missiusaga  2.2   NaN"
            ]
          },
          "metadata": {
            "tags": []
          },
          "execution_count": 130
        }
      ]
    },
    {
      "cell_type": "code",
      "metadata": {
        "id": "eYaBUAI6iUdZ",
        "colab_type": "code",
        "outputId": "06e7d77e-6c9f-4649-e05b-c706795b0bc3",
        "colab": {
          "base_uri": "https://localhost:8080/",
          "height": 87
        }
      },
      "source": [
        "val = pd.Series([-1.2,-1.3,-1.4], index = ['two','four','five'])\n",
        "val"
      ],
      "execution_count": 0,
      "outputs": [
        {
          "output_type": "execute_result",
          "data": {
            "text/plain": [
              "two    -1.2\n",
              "four   -1.3\n",
              "five   -1.4\n",
              "dtype: float64"
            ]
          },
          "metadata": {
            "tags": []
          },
          "execution_count": 131
        }
      ]
    },
    {
      "cell_type": "code",
      "metadata": {
        "id": "ErqUnsQLihdC",
        "colab_type": "code",
        "outputId": "a0845316-b201-4766-fe9e-210de3173a2d",
        "colab": {
          "base_uri": "https://localhost:8080/",
          "height": 225
        }
      },
      "source": [
        "frame.extra = val\n",
        "frame"
      ],
      "execution_count": 0,
      "outputs": [
        {
          "output_type": "execute_result",
          "data": {
            "text/html": [
              "<div>\n",
              "<style scoped>\n",
              "    .dataframe tbody tr th:only-of-type {\n",
              "        vertical-align: middle;\n",
              "    }\n",
              "\n",
              "    .dataframe tbody tr th {\n",
              "        vertical-align: top;\n",
              "    }\n",
              "\n",
              "    .dataframe thead th {\n",
              "        text-align: right;\n",
              "    }\n",
              "</style>\n",
              "<table border=\"1\" class=\"dataframe\">\n",
              "  <thead>\n",
              "    <tr style=\"text-align: right;\">\n",
              "      <th></th>\n",
              "      <th>year</th>\n",
              "      <th>state</th>\n",
              "      <th>pop</th>\n",
              "      <th>extra</th>\n",
              "    </tr>\n",
              "  </thead>\n",
              "  <tbody>\n",
              "    <tr>\n",
              "      <th>one</th>\n",
              "      <td>2000</td>\n",
              "      <td>Ohio</td>\n",
              "      <td>1.2</td>\n",
              "      <td>NaN</td>\n",
              "    </tr>\n",
              "    <tr>\n",
              "      <th>two</th>\n",
              "      <td>2001</td>\n",
              "      <td>Ottowa</td>\n",
              "      <td>1.2</td>\n",
              "      <td>-1.2</td>\n",
              "    </tr>\n",
              "    <tr>\n",
              "      <th>three</th>\n",
              "      <td>2001</td>\n",
              "      <td>Toronto</td>\n",
              "      <td>1.7</td>\n",
              "      <td>NaN</td>\n",
              "    </tr>\n",
              "    <tr>\n",
              "      <th>four</th>\n",
              "      <td>1990</td>\n",
              "      <td>Ohio</td>\n",
              "      <td>1.8</td>\n",
              "      <td>-1.3</td>\n",
              "    </tr>\n",
              "    <tr>\n",
              "      <th>five</th>\n",
              "      <td>1200</td>\n",
              "      <td>Neveda</td>\n",
              "      <td>1.9</td>\n",
              "      <td>-1.4</td>\n",
              "    </tr>\n",
              "    <tr>\n",
              "      <th>six</th>\n",
              "      <td>1999</td>\n",
              "      <td>Missiusaga</td>\n",
              "      <td>2.2</td>\n",
              "      <td>NaN</td>\n",
              "    </tr>\n",
              "  </tbody>\n",
              "</table>\n",
              "</div>"
            ],
            "text/plain": [
              "       year       state  pop  extra\n",
              "one    2000        Ohio  1.2    NaN\n",
              "two    2001      Ottowa  1.2   -1.2\n",
              "three  2001     Toronto  1.7    NaN\n",
              "four   1990        Ohio  1.8   -1.3\n",
              "five   1200      Neveda  1.9   -1.4\n",
              "six    1999  Missiusaga  2.2    NaN"
            ]
          },
          "metadata": {
            "tags": []
          },
          "execution_count": 132
        }
      ]
    },
    {
      "cell_type": "code",
      "metadata": {
        "id": "FWNJpNJbjeH6",
        "colab_type": "code",
        "outputId": "c9a099a4-e258-4d84-c07d-b9c77b9da91b",
        "colab": {
          "base_uri": "https://localhost:8080/",
          "height": 136
        }
      },
      "source": [
        "pop = {'Neveda' : {2000 : 1.3,2002: 1.5},\n",
        "      'Ohio' : {2000 : 1.2, 1999 : 1.3}}\n",
        "frame1 = pd.DataFrame(pop)\n",
        "frame1"
      ],
      "execution_count": 0,
      "outputs": [
        {
          "output_type": "execute_result",
          "data": {
            "text/html": [
              "<div>\n",
              "<style scoped>\n",
              "    .dataframe tbody tr th:only-of-type {\n",
              "        vertical-align: middle;\n",
              "    }\n",
              "\n",
              "    .dataframe tbody tr th {\n",
              "        vertical-align: top;\n",
              "    }\n",
              "\n",
              "    .dataframe thead th {\n",
              "        text-align: right;\n",
              "    }\n",
              "</style>\n",
              "<table border=\"1\" class=\"dataframe\">\n",
              "  <thead>\n",
              "    <tr style=\"text-align: right;\">\n",
              "      <th></th>\n",
              "      <th>Neveda</th>\n",
              "      <th>Ohio</th>\n",
              "    </tr>\n",
              "  </thead>\n",
              "  <tbody>\n",
              "    <tr>\n",
              "      <th>1999</th>\n",
              "      <td>NaN</td>\n",
              "      <td>1.3</td>\n",
              "    </tr>\n",
              "    <tr>\n",
              "      <th>2000</th>\n",
              "      <td>1.3</td>\n",
              "      <td>1.2</td>\n",
              "    </tr>\n",
              "    <tr>\n",
              "      <th>2002</th>\n",
              "      <td>1.5</td>\n",
              "      <td>NaN</td>\n",
              "    </tr>\n",
              "  </tbody>\n",
              "</table>\n",
              "</div>"
            ],
            "text/plain": [
              "      Neveda  Ohio\n",
              "1999     NaN   1.3\n",
              "2000     1.3   1.2\n",
              "2002     1.5   NaN"
            ]
          },
          "metadata": {
            "tags": []
          },
          "execution_count": 135
        }
      ]
    },
    {
      "cell_type": "code",
      "metadata": {
        "id": "SPlo3OICko1K",
        "colab_type": "code",
        "outputId": "7a148aa0-30c6-433c-fc3b-19e69c7cd37f",
        "colab": {
          "base_uri": "https://localhost:8080/",
          "height": 136
        }
      },
      "source": [
        "pd.DataFrame(pop, index = [2000,2002,2003])"
      ],
      "execution_count": 0,
      "outputs": [
        {
          "output_type": "execute_result",
          "data": {
            "text/html": [
              "<div>\n",
              "<style scoped>\n",
              "    .dataframe tbody tr th:only-of-type {\n",
              "        vertical-align: middle;\n",
              "    }\n",
              "\n",
              "    .dataframe tbody tr th {\n",
              "        vertical-align: top;\n",
              "    }\n",
              "\n",
              "    .dataframe thead th {\n",
              "        text-align: right;\n",
              "    }\n",
              "</style>\n",
              "<table border=\"1\" class=\"dataframe\">\n",
              "  <thead>\n",
              "    <tr style=\"text-align: right;\">\n",
              "      <th></th>\n",
              "      <th>Neveda</th>\n",
              "      <th>Ohio</th>\n",
              "    </tr>\n",
              "  </thead>\n",
              "  <tbody>\n",
              "    <tr>\n",
              "      <th>2000</th>\n",
              "      <td>1.3</td>\n",
              "      <td>1.2</td>\n",
              "    </tr>\n",
              "    <tr>\n",
              "      <th>2002</th>\n",
              "      <td>1.5</td>\n",
              "      <td>NaN</td>\n",
              "    </tr>\n",
              "    <tr>\n",
              "      <th>2003</th>\n",
              "      <td>NaN</td>\n",
              "      <td>NaN</td>\n",
              "    </tr>\n",
              "  </tbody>\n",
              "</table>\n",
              "</div>"
            ],
            "text/plain": [
              "      Neveda  Ohio\n",
              "2000     1.3   1.2\n",
              "2002     1.5   NaN\n",
              "2003     NaN   NaN"
            ]
          },
          "metadata": {
            "tags": []
          },
          "execution_count": 136
        }
      ]
    },
    {
      "cell_type": "code",
      "metadata": {
        "id": "ZgGZHCIilQ7q",
        "colab_type": "code",
        "outputId": "d48d4d2e-31c8-4fe0-8a64-4f545c124dd7",
        "colab": {
          "base_uri": "https://localhost:8080/",
          "height": 106
        }
      },
      "source": [
        "pdata = {'Ohio' : frame1['Ohio'][:-1],\n",
        "        'Neveda' : frame1['Neveda'][:2]}\n",
        "frame2 = pd.DataFrame(pdata) \n",
        "frame2"
      ],
      "execution_count": 0,
      "outputs": [
        {
          "output_type": "execute_result",
          "data": {
            "text/html": [
              "<div>\n",
              "<style scoped>\n",
              "    .dataframe tbody tr th:only-of-type {\n",
              "        vertical-align: middle;\n",
              "    }\n",
              "\n",
              "    .dataframe tbody tr th {\n",
              "        vertical-align: top;\n",
              "    }\n",
              "\n",
              "    .dataframe thead th {\n",
              "        text-align: right;\n",
              "    }\n",
              "</style>\n",
              "<table border=\"1\" class=\"dataframe\">\n",
              "  <thead>\n",
              "    <tr style=\"text-align: right;\">\n",
              "      <th></th>\n",
              "      <th>Ohio</th>\n",
              "      <th>Neveda</th>\n",
              "    </tr>\n",
              "  </thead>\n",
              "  <tbody>\n",
              "    <tr>\n",
              "      <th>1999</th>\n",
              "      <td>1.3</td>\n",
              "      <td>NaN</td>\n",
              "    </tr>\n",
              "    <tr>\n",
              "      <th>2000</th>\n",
              "      <td>1.2</td>\n",
              "      <td>1.3</td>\n",
              "    </tr>\n",
              "  </tbody>\n",
              "</table>\n",
              "</div>"
            ],
            "text/plain": [
              "      Ohio  Neveda\n",
              "1999   1.3     NaN\n",
              "2000   1.2     1.3"
            ]
          },
          "metadata": {
            "tags": []
          },
          "execution_count": 138
        }
      ]
    },
    {
      "cell_type": "code",
      "metadata": {
        "id": "eLahmzvIm-cB",
        "colab_type": "code",
        "outputId": "729eabae-5a10-460c-ce7f-0d5cd2d26cc0",
        "colab": {
          "base_uri": "https://localhost:8080/",
          "height": 136
        }
      },
      "source": [
        "frame2.index.name = 'year'\n",
        "frame2.columns.name = 'state'\n",
        "frame2"
      ],
      "execution_count": 0,
      "outputs": [
        {
          "output_type": "execute_result",
          "data": {
            "text/html": [
              "<div>\n",
              "<style scoped>\n",
              "    .dataframe tbody tr th:only-of-type {\n",
              "        vertical-align: middle;\n",
              "    }\n",
              "\n",
              "    .dataframe tbody tr th {\n",
              "        vertical-align: top;\n",
              "    }\n",
              "\n",
              "    .dataframe thead th {\n",
              "        text-align: right;\n",
              "    }\n",
              "</style>\n",
              "<table border=\"1\" class=\"dataframe\">\n",
              "  <thead>\n",
              "    <tr style=\"text-align: right;\">\n",
              "      <th>state</th>\n",
              "      <th>Ohio</th>\n",
              "      <th>Neveda</th>\n",
              "    </tr>\n",
              "    <tr>\n",
              "      <th>year</th>\n",
              "      <th></th>\n",
              "      <th></th>\n",
              "    </tr>\n",
              "  </thead>\n",
              "  <tbody>\n",
              "    <tr>\n",
              "      <th>1999</th>\n",
              "      <td>1.3</td>\n",
              "      <td>NaN</td>\n",
              "    </tr>\n",
              "    <tr>\n",
              "      <th>2000</th>\n",
              "      <td>1.2</td>\n",
              "      <td>1.3</td>\n",
              "    </tr>\n",
              "  </tbody>\n",
              "</table>\n",
              "</div>"
            ],
            "text/plain": [
              "state  Ohio  Neveda\n",
              "year               \n",
              "1999    1.3     NaN\n",
              "2000    1.2     1.3"
            ]
          },
          "metadata": {
            "tags": []
          },
          "execution_count": 141
        }
      ]
    },
    {
      "cell_type": "code",
      "metadata": {
        "id": "8qkJSVFPnru9",
        "colab_type": "code",
        "outputId": "fe18b7ae-4ff1-493c-a906-ced1590b5d35",
        "colab": {
          "base_uri": "https://localhost:8080/",
          "height": 52
        }
      },
      "source": [
        "frame2.values"
      ],
      "execution_count": 0,
      "outputs": [
        {
          "output_type": "execute_result",
          "data": {
            "text/plain": [
              "array([[1.3, nan],\n",
              "       [1.2, 1.3]])"
            ]
          },
          "metadata": {
            "tags": []
          },
          "execution_count": 142
        }
      ]
    },
    {
      "cell_type": "markdown",
      "metadata": {
        "id": "gijhecrgoIRh",
        "colab_type": "text"
      },
      "source": [
        "#5.2 Essential Functionality "
      ]
    },
    {
      "cell_type": "markdown",
      "metadata": {
        "id": "slDqNoCDoQd8",
        "colab_type": "text"
      },
      "source": [
        "##Reindexing series\n",
        "\n"
      ]
    },
    {
      "cell_type": "code",
      "metadata": {
        "id": "fly8jIhSoSt4",
        "colab_type": "code",
        "outputId": "cfaa6488-a3e0-4db4-88c5-5b3ff2b40e02",
        "colab": {
          "base_uri": "https://localhost:8080/",
          "height": 105
        }
      },
      "source": [
        "obj = pd.Series([4.5, 3.2, 4.5, 6.7], index = ['d','b','a','c'])\n",
        "obj"
      ],
      "execution_count": 0,
      "outputs": [
        {
          "output_type": "execute_result",
          "data": {
            "text/plain": [
              "d    4.5\n",
              "b    3.2\n",
              "a    4.5\n",
              "c    6.7\n",
              "dtype: float64"
            ]
          },
          "metadata": {
            "tags": []
          },
          "execution_count": 144
        }
      ]
    },
    {
      "cell_type": "code",
      "metadata": {
        "id": "p1-trxpfo4yC",
        "colab_type": "code",
        "outputId": "f710fa0d-b4f9-41cc-80eb-a294b4c6e0c6",
        "colab": {
          "base_uri": "https://localhost:8080/",
          "height": 122
        }
      },
      "source": [
        "obj2 = obj.reindex(['a','b','c','d','e'])\n",
        "obj2"
      ],
      "execution_count": 0,
      "outputs": [
        {
          "output_type": "execute_result",
          "data": {
            "text/plain": [
              "a    4.5\n",
              "b    3.2\n",
              "c    6.7\n",
              "d    4.5\n",
              "e    NaN\n",
              "dtype: float64"
            ]
          },
          "metadata": {
            "tags": []
          },
          "execution_count": 145
        }
      ]
    },
    {
      "cell_type": "code",
      "metadata": {
        "id": "lNh6ilOIpoGq",
        "colab_type": "code",
        "outputId": "030ef04d-a102-4111-eeee-cd0d073dd9e8",
        "colab": {
          "base_uri": "https://localhost:8080/",
          "height": 87
        }
      },
      "source": [
        "obj3 = pd.Series(['yellow','grey','blue'], index = [0,2,3])\n",
        "obj3"
      ],
      "execution_count": 0,
      "outputs": [
        {
          "output_type": "execute_result",
          "data": {
            "text/plain": [
              "0    yellow\n",
              "2      grey\n",
              "3      blue\n",
              "dtype: object"
            ]
          },
          "metadata": {
            "tags": []
          },
          "execution_count": 149
        }
      ]
    },
    {
      "cell_type": "code",
      "metadata": {
        "id": "GwnDrNKwpivm",
        "colab_type": "code",
        "outputId": "49bf49ed-3aa9-4f7d-e0a3-b018d247e4db",
        "colab": {
          "base_uri": "https://localhost:8080/",
          "height": 140
        }
      },
      "source": [
        "obj3.reindex(range(6))"
      ],
      "execution_count": 0,
      "outputs": [
        {
          "output_type": "execute_result",
          "data": {
            "text/plain": [
              "0    yellow\n",
              "1       NaN\n",
              "2      grey\n",
              "3      blue\n",
              "4       NaN\n",
              "5       NaN\n",
              "dtype: object"
            ]
          },
          "metadata": {
            "tags": []
          },
          "execution_count": 150
        }
      ]
    },
    {
      "cell_type": "markdown",
      "metadata": {
        "id": "_UhEInfFqJuD",
        "colab_type": "text"
      },
      "source": [
        "###Forward fill"
      ]
    },
    {
      "cell_type": "code",
      "metadata": {
        "id": "6r08Lj9qp2Je",
        "colab_type": "code",
        "outputId": "b2b94414-ea04-484b-d8e7-0b4512bdddf1",
        "colab": {
          "base_uri": "https://localhost:8080/",
          "height": 140
        }
      },
      "source": [
        "obj3.reindex(range(6), method = 'ffill')"
      ],
      "execution_count": 0,
      "outputs": [
        {
          "output_type": "execute_result",
          "data": {
            "text/plain": [
              "0    yellow\n",
              "1    yellow\n",
              "2      grey\n",
              "3      blue\n",
              "4      blue\n",
              "5      blue\n",
              "dtype: object"
            ]
          },
          "metadata": {
            "tags": []
          },
          "execution_count": 152
        }
      ]
    },
    {
      "cell_type": "markdown",
      "metadata": {
        "id": "YtuEeZf5qO6t",
        "colab_type": "text"
      },
      "source": [
        "###Backward fill"
      ]
    },
    {
      "cell_type": "code",
      "metadata": {
        "id": "wmkqKwCWqQ-i",
        "colab_type": "code",
        "outputId": "28215dc7-129d-408d-cfe7-553729619796",
        "colab": {
          "base_uri": "https://localhost:8080/",
          "height": 140
        }
      },
      "source": [
        "obj3.reindex(range(6),method = 'bfill')"
      ],
      "execution_count": 0,
      "outputs": [
        {
          "output_type": "execute_result",
          "data": {
            "text/plain": [
              "0    yellow\n",
              "1      grey\n",
              "2      grey\n",
              "3      blue\n",
              "4       NaN\n",
              "5       NaN\n",
              "dtype: object"
            ]
          },
          "metadata": {
            "tags": []
          },
          "execution_count": 153
        }
      ]
    },
    {
      "cell_type": "markdown",
      "metadata": {
        "id": "UvCr19vdrH1b",
        "colab_type": "text"
      },
      "source": [
        "##Reindexing DataFrames"
      ]
    },
    {
      "cell_type": "code",
      "metadata": {
        "id": "bQePXmMWrLhT",
        "colab_type": "code",
        "outputId": "20e8870d-a842-475d-e332-839207beb9f3",
        "colab": {
          "base_uri": "https://localhost:8080/",
          "height": 136
        }
      },
      "source": [
        "frame = pd.DataFrame(np.arange(9).reshape((3,3)),\n",
        "index = ['a','c','d'], columns = ['Ohio','Texas','California'])\n",
        "frame"
      ],
      "execution_count": 0,
      "outputs": [
        {
          "output_type": "execute_result",
          "data": {
            "text/html": [
              "<div>\n",
              "<style scoped>\n",
              "    .dataframe tbody tr th:only-of-type {\n",
              "        vertical-align: middle;\n",
              "    }\n",
              "\n",
              "    .dataframe tbody tr th {\n",
              "        vertical-align: top;\n",
              "    }\n",
              "\n",
              "    .dataframe thead th {\n",
              "        text-align: right;\n",
              "    }\n",
              "</style>\n",
              "<table border=\"1\" class=\"dataframe\">\n",
              "  <thead>\n",
              "    <tr style=\"text-align: right;\">\n",
              "      <th></th>\n",
              "      <th>Ohio</th>\n",
              "      <th>Texas</th>\n",
              "      <th>California</th>\n",
              "    </tr>\n",
              "  </thead>\n",
              "  <tbody>\n",
              "    <tr>\n",
              "      <th>a</th>\n",
              "      <td>0</td>\n",
              "      <td>1</td>\n",
              "      <td>2</td>\n",
              "    </tr>\n",
              "    <tr>\n",
              "      <th>c</th>\n",
              "      <td>3</td>\n",
              "      <td>4</td>\n",
              "      <td>5</td>\n",
              "    </tr>\n",
              "    <tr>\n",
              "      <th>d</th>\n",
              "      <td>6</td>\n",
              "      <td>7</td>\n",
              "      <td>8</td>\n",
              "    </tr>\n",
              "  </tbody>\n",
              "</table>\n",
              "</div>"
            ],
            "text/plain": [
              "   Ohio  Texas  California\n",
              "a     0      1           2\n",
              "c     3      4           5\n",
              "d     6      7           8"
            ]
          },
          "metadata": {
            "tags": []
          },
          "execution_count": 154
        }
      ]
    },
    {
      "cell_type": "code",
      "metadata": {
        "id": "niJlO9DgsNkZ",
        "colab_type": "code",
        "outputId": "4f725323-6955-44e0-ce06-9a3585b863d0",
        "colab": {
          "base_uri": "https://localhost:8080/",
          "height": 166
        }
      },
      "source": [
        "frame2 = frame.reindex(['a','b','c','d'])\n",
        "frame2"
      ],
      "execution_count": 0,
      "outputs": [
        {
          "output_type": "execute_result",
          "data": {
            "text/html": [
              "<div>\n",
              "<style scoped>\n",
              "    .dataframe tbody tr th:only-of-type {\n",
              "        vertical-align: middle;\n",
              "    }\n",
              "\n",
              "    .dataframe tbody tr th {\n",
              "        vertical-align: top;\n",
              "    }\n",
              "\n",
              "    .dataframe thead th {\n",
              "        text-align: right;\n",
              "    }\n",
              "</style>\n",
              "<table border=\"1\" class=\"dataframe\">\n",
              "  <thead>\n",
              "    <tr style=\"text-align: right;\">\n",
              "      <th></th>\n",
              "      <th>Ohio</th>\n",
              "      <th>Texas</th>\n",
              "      <th>California</th>\n",
              "    </tr>\n",
              "  </thead>\n",
              "  <tbody>\n",
              "    <tr>\n",
              "      <th>a</th>\n",
              "      <td>0.0</td>\n",
              "      <td>1.0</td>\n",
              "      <td>2.0</td>\n",
              "    </tr>\n",
              "    <tr>\n",
              "      <th>b</th>\n",
              "      <td>NaN</td>\n",
              "      <td>NaN</td>\n",
              "      <td>NaN</td>\n",
              "    </tr>\n",
              "    <tr>\n",
              "      <th>c</th>\n",
              "      <td>3.0</td>\n",
              "      <td>4.0</td>\n",
              "      <td>5.0</td>\n",
              "    </tr>\n",
              "    <tr>\n",
              "      <th>d</th>\n",
              "      <td>6.0</td>\n",
              "      <td>7.0</td>\n",
              "      <td>8.0</td>\n",
              "    </tr>\n",
              "  </tbody>\n",
              "</table>\n",
              "</div>"
            ],
            "text/plain": [
              "   Ohio  Texas  California\n",
              "a   0.0    1.0         2.0\n",
              "b   NaN    NaN         NaN\n",
              "c   3.0    4.0         5.0\n",
              "d   6.0    7.0         8.0"
            ]
          },
          "metadata": {
            "tags": []
          },
          "execution_count": 155
        }
      ]
    },
    {
      "cell_type": "code",
      "metadata": {
        "id": "2IvN438gsuKG",
        "colab_type": "code",
        "outputId": "b8a8f7b8-5c26-4777-de40-4e53bfef4e67",
        "colab": {
          "base_uri": "https://localhost:8080/",
          "height": 166
        }
      },
      "source": [
        "states = ['Texas', 'Utah', 'California']\n",
        "frame2.reindex(columns = states)"
      ],
      "execution_count": 0,
      "outputs": [
        {
          "output_type": "execute_result",
          "data": {
            "text/html": [
              "<div>\n",
              "<style scoped>\n",
              "    .dataframe tbody tr th:only-of-type {\n",
              "        vertical-align: middle;\n",
              "    }\n",
              "\n",
              "    .dataframe tbody tr th {\n",
              "        vertical-align: top;\n",
              "    }\n",
              "\n",
              "    .dataframe thead th {\n",
              "        text-align: right;\n",
              "    }\n",
              "</style>\n",
              "<table border=\"1\" class=\"dataframe\">\n",
              "  <thead>\n",
              "    <tr style=\"text-align: right;\">\n",
              "      <th></th>\n",
              "      <th>Texas</th>\n",
              "      <th>Utah</th>\n",
              "      <th>California</th>\n",
              "    </tr>\n",
              "  </thead>\n",
              "  <tbody>\n",
              "    <tr>\n",
              "      <th>a</th>\n",
              "      <td>1.0</td>\n",
              "      <td>NaN</td>\n",
              "      <td>2.0</td>\n",
              "    </tr>\n",
              "    <tr>\n",
              "      <th>b</th>\n",
              "      <td>NaN</td>\n",
              "      <td>NaN</td>\n",
              "      <td>NaN</td>\n",
              "    </tr>\n",
              "    <tr>\n",
              "      <th>c</th>\n",
              "      <td>4.0</td>\n",
              "      <td>NaN</td>\n",
              "      <td>5.0</td>\n",
              "    </tr>\n",
              "    <tr>\n",
              "      <th>d</th>\n",
              "      <td>7.0</td>\n",
              "      <td>NaN</td>\n",
              "      <td>8.0</td>\n",
              "    </tr>\n",
              "  </tbody>\n",
              "</table>\n",
              "</div>"
            ],
            "text/plain": [
              "   Texas  Utah  California\n",
              "a    1.0   NaN         2.0\n",
              "b    NaN   NaN         NaN\n",
              "c    4.0   NaN         5.0\n",
              "d    7.0   NaN         8.0"
            ]
          },
          "metadata": {
            "tags": []
          },
          "execution_count": 157
        }
      ]
    },
    {
      "cell_type": "code",
      "metadata": {
        "id": "go1P-4uftN-2",
        "colab_type": "code",
        "outputId": "78e83e80-4713-4974-f911-1fb8b8002193",
        "colab": {
          "base_uri": "https://localhost:8080/",
          "height": 225
        }
      },
      "source": [
        "frame2.reindex(index = ['f','b','a','d','c','g'], columns = ['Texas','NewYork', 'Utah', 'California', 'DC'])"
      ],
      "execution_count": 0,
      "outputs": [
        {
          "output_type": "execute_result",
          "data": {
            "text/html": [
              "<div>\n",
              "<style scoped>\n",
              "    .dataframe tbody tr th:only-of-type {\n",
              "        vertical-align: middle;\n",
              "    }\n",
              "\n",
              "    .dataframe tbody tr th {\n",
              "        vertical-align: top;\n",
              "    }\n",
              "\n",
              "    .dataframe thead th {\n",
              "        text-align: right;\n",
              "    }\n",
              "</style>\n",
              "<table border=\"1\" class=\"dataframe\">\n",
              "  <thead>\n",
              "    <tr style=\"text-align: right;\">\n",
              "      <th></th>\n",
              "      <th>Texas</th>\n",
              "      <th>NewYork</th>\n",
              "      <th>Utah</th>\n",
              "      <th>California</th>\n",
              "      <th>DC</th>\n",
              "    </tr>\n",
              "  </thead>\n",
              "  <tbody>\n",
              "    <tr>\n",
              "      <th>f</th>\n",
              "      <td>NaN</td>\n",
              "      <td>NaN</td>\n",
              "      <td>NaN</td>\n",
              "      <td>NaN</td>\n",
              "      <td>NaN</td>\n",
              "    </tr>\n",
              "    <tr>\n",
              "      <th>b</th>\n",
              "      <td>NaN</td>\n",
              "      <td>NaN</td>\n",
              "      <td>NaN</td>\n",
              "      <td>NaN</td>\n",
              "      <td>NaN</td>\n",
              "    </tr>\n",
              "    <tr>\n",
              "      <th>a</th>\n",
              "      <td>1.0</td>\n",
              "      <td>NaN</td>\n",
              "      <td>NaN</td>\n",
              "      <td>2.0</td>\n",
              "      <td>NaN</td>\n",
              "    </tr>\n",
              "    <tr>\n",
              "      <th>d</th>\n",
              "      <td>7.0</td>\n",
              "      <td>NaN</td>\n",
              "      <td>NaN</td>\n",
              "      <td>8.0</td>\n",
              "      <td>NaN</td>\n",
              "    </tr>\n",
              "    <tr>\n",
              "      <th>c</th>\n",
              "      <td>4.0</td>\n",
              "      <td>NaN</td>\n",
              "      <td>NaN</td>\n",
              "      <td>5.0</td>\n",
              "      <td>NaN</td>\n",
              "    </tr>\n",
              "    <tr>\n",
              "      <th>g</th>\n",
              "      <td>NaN</td>\n",
              "      <td>NaN</td>\n",
              "      <td>NaN</td>\n",
              "      <td>NaN</td>\n",
              "      <td>NaN</td>\n",
              "    </tr>\n",
              "  </tbody>\n",
              "</table>\n",
              "</div>"
            ],
            "text/plain": [
              "   Texas  NewYork  Utah  California  DC\n",
              "f    NaN      NaN   NaN         NaN NaN\n",
              "b    NaN      NaN   NaN         NaN NaN\n",
              "a    1.0      NaN   NaN         2.0 NaN\n",
              "d    7.0      NaN   NaN         8.0 NaN\n",
              "c    4.0      NaN   NaN         5.0 NaN\n",
              "g    NaN      NaN   NaN         NaN NaN"
            ]
          },
          "metadata": {
            "tags": []
          },
          "execution_count": 158
        }
      ]
    },
    {
      "cell_type": "code",
      "metadata": {
        "id": "35_2NGl6ztBc",
        "colab_type": "code",
        "outputId": "f7411a30-82ed-4cf2-e72b-ae46e301ca33",
        "colab": {
          "base_uri": "https://localhost:8080/",
          "height": 136
        }
      },
      "source": [
        "data = pd.DataFrame(np.arange(1,16).reshape((3,5)), columns = ['a','b','c','d','e'],index = [0,1,2])\n",
        "data"
      ],
      "execution_count": 0,
      "outputs": [
        {
          "output_type": "execute_result",
          "data": {
            "text/html": [
              "<div>\n",
              "<style scoped>\n",
              "    .dataframe tbody tr th:only-of-type {\n",
              "        vertical-align: middle;\n",
              "    }\n",
              "\n",
              "    .dataframe tbody tr th {\n",
              "        vertical-align: top;\n",
              "    }\n",
              "\n",
              "    .dataframe thead th {\n",
              "        text-align: right;\n",
              "    }\n",
              "</style>\n",
              "<table border=\"1\" class=\"dataframe\">\n",
              "  <thead>\n",
              "    <tr style=\"text-align: right;\">\n",
              "      <th></th>\n",
              "      <th>a</th>\n",
              "      <th>b</th>\n",
              "      <th>c</th>\n",
              "      <th>d</th>\n",
              "      <th>e</th>\n",
              "    </tr>\n",
              "  </thead>\n",
              "  <tbody>\n",
              "    <tr>\n",
              "      <th>0</th>\n",
              "      <td>1</td>\n",
              "      <td>2</td>\n",
              "      <td>3</td>\n",
              "      <td>4</td>\n",
              "      <td>5</td>\n",
              "    </tr>\n",
              "    <tr>\n",
              "      <th>1</th>\n",
              "      <td>6</td>\n",
              "      <td>7</td>\n",
              "      <td>8</td>\n",
              "      <td>9</td>\n",
              "      <td>10</td>\n",
              "    </tr>\n",
              "    <tr>\n",
              "      <th>2</th>\n",
              "      <td>11</td>\n",
              "      <td>12</td>\n",
              "      <td>13</td>\n",
              "      <td>14</td>\n",
              "      <td>15</td>\n",
              "    </tr>\n",
              "  </tbody>\n",
              "</table>\n",
              "</div>"
            ],
            "text/plain": [
              "    a   b   c   d   e\n",
              "0   1   2   3   4   5\n",
              "1   6   7   8   9  10\n",
              "2  11  12  13  14  15"
            ]
          },
          "metadata": {
            "tags": []
          },
          "execution_count": 160
        }
      ]
    },
    {
      "cell_type": "code",
      "metadata": {
        "id": "yMgQsoPH0V6x",
        "colab_type": "code",
        "outputId": "9972df2e-7cb8-4b95-c6cd-fed64b01b8f8",
        "colab": {
          "base_uri": "https://localhost:8080/",
          "height": 639
        }
      },
      "source": [
        "data = pd.DataFrame(np.arange(1,101).reshape((20,5)), columns = list('abcde'), index = range(1,101,5))   \n",
        "#columns = ['a','b','c','d','e']  is equal to columns = list('abcde')\n",
        "data"
      ],
      "execution_count": 0,
      "outputs": [
        {
          "output_type": "execute_result",
          "data": {
            "text/html": [
              "<div>\n",
              "<style scoped>\n",
              "    .dataframe tbody tr th:only-of-type {\n",
              "        vertical-align: middle;\n",
              "    }\n",
              "\n",
              "    .dataframe tbody tr th {\n",
              "        vertical-align: top;\n",
              "    }\n",
              "\n",
              "    .dataframe thead th {\n",
              "        text-align: right;\n",
              "    }\n",
              "</style>\n",
              "<table border=\"1\" class=\"dataframe\">\n",
              "  <thead>\n",
              "    <tr style=\"text-align: right;\">\n",
              "      <th></th>\n",
              "      <th>a</th>\n",
              "      <th>b</th>\n",
              "      <th>c</th>\n",
              "      <th>d</th>\n",
              "      <th>e</th>\n",
              "    </tr>\n",
              "  </thead>\n",
              "  <tbody>\n",
              "    <tr>\n",
              "      <th>1</th>\n",
              "      <td>1</td>\n",
              "      <td>2</td>\n",
              "      <td>3</td>\n",
              "      <td>4</td>\n",
              "      <td>5</td>\n",
              "    </tr>\n",
              "    <tr>\n",
              "      <th>6</th>\n",
              "      <td>6</td>\n",
              "      <td>7</td>\n",
              "      <td>8</td>\n",
              "      <td>9</td>\n",
              "      <td>10</td>\n",
              "    </tr>\n",
              "    <tr>\n",
              "      <th>11</th>\n",
              "      <td>11</td>\n",
              "      <td>12</td>\n",
              "      <td>13</td>\n",
              "      <td>14</td>\n",
              "      <td>15</td>\n",
              "    </tr>\n",
              "    <tr>\n",
              "      <th>16</th>\n",
              "      <td>16</td>\n",
              "      <td>17</td>\n",
              "      <td>18</td>\n",
              "      <td>19</td>\n",
              "      <td>20</td>\n",
              "    </tr>\n",
              "    <tr>\n",
              "      <th>21</th>\n",
              "      <td>21</td>\n",
              "      <td>22</td>\n",
              "      <td>23</td>\n",
              "      <td>24</td>\n",
              "      <td>25</td>\n",
              "    </tr>\n",
              "    <tr>\n",
              "      <th>26</th>\n",
              "      <td>26</td>\n",
              "      <td>27</td>\n",
              "      <td>28</td>\n",
              "      <td>29</td>\n",
              "      <td>30</td>\n",
              "    </tr>\n",
              "    <tr>\n",
              "      <th>31</th>\n",
              "      <td>31</td>\n",
              "      <td>32</td>\n",
              "      <td>33</td>\n",
              "      <td>34</td>\n",
              "      <td>35</td>\n",
              "    </tr>\n",
              "    <tr>\n",
              "      <th>36</th>\n",
              "      <td>36</td>\n",
              "      <td>37</td>\n",
              "      <td>38</td>\n",
              "      <td>39</td>\n",
              "      <td>40</td>\n",
              "    </tr>\n",
              "    <tr>\n",
              "      <th>41</th>\n",
              "      <td>41</td>\n",
              "      <td>42</td>\n",
              "      <td>43</td>\n",
              "      <td>44</td>\n",
              "      <td>45</td>\n",
              "    </tr>\n",
              "    <tr>\n",
              "      <th>46</th>\n",
              "      <td>46</td>\n",
              "      <td>47</td>\n",
              "      <td>48</td>\n",
              "      <td>49</td>\n",
              "      <td>50</td>\n",
              "    </tr>\n",
              "    <tr>\n",
              "      <th>51</th>\n",
              "      <td>51</td>\n",
              "      <td>52</td>\n",
              "      <td>53</td>\n",
              "      <td>54</td>\n",
              "      <td>55</td>\n",
              "    </tr>\n",
              "    <tr>\n",
              "      <th>56</th>\n",
              "      <td>56</td>\n",
              "      <td>57</td>\n",
              "      <td>58</td>\n",
              "      <td>59</td>\n",
              "      <td>60</td>\n",
              "    </tr>\n",
              "    <tr>\n",
              "      <th>61</th>\n",
              "      <td>61</td>\n",
              "      <td>62</td>\n",
              "      <td>63</td>\n",
              "      <td>64</td>\n",
              "      <td>65</td>\n",
              "    </tr>\n",
              "    <tr>\n",
              "      <th>66</th>\n",
              "      <td>66</td>\n",
              "      <td>67</td>\n",
              "      <td>68</td>\n",
              "      <td>69</td>\n",
              "      <td>70</td>\n",
              "    </tr>\n",
              "    <tr>\n",
              "      <th>71</th>\n",
              "      <td>71</td>\n",
              "      <td>72</td>\n",
              "      <td>73</td>\n",
              "      <td>74</td>\n",
              "      <td>75</td>\n",
              "    </tr>\n",
              "    <tr>\n",
              "      <th>76</th>\n",
              "      <td>76</td>\n",
              "      <td>77</td>\n",
              "      <td>78</td>\n",
              "      <td>79</td>\n",
              "      <td>80</td>\n",
              "    </tr>\n",
              "    <tr>\n",
              "      <th>81</th>\n",
              "      <td>81</td>\n",
              "      <td>82</td>\n",
              "      <td>83</td>\n",
              "      <td>84</td>\n",
              "      <td>85</td>\n",
              "    </tr>\n",
              "    <tr>\n",
              "      <th>86</th>\n",
              "      <td>86</td>\n",
              "      <td>87</td>\n",
              "      <td>88</td>\n",
              "      <td>89</td>\n",
              "      <td>90</td>\n",
              "    </tr>\n",
              "    <tr>\n",
              "      <th>91</th>\n",
              "      <td>91</td>\n",
              "      <td>92</td>\n",
              "      <td>93</td>\n",
              "      <td>94</td>\n",
              "      <td>95</td>\n",
              "    </tr>\n",
              "    <tr>\n",
              "      <th>96</th>\n",
              "      <td>96</td>\n",
              "      <td>97</td>\n",
              "      <td>98</td>\n",
              "      <td>99</td>\n",
              "      <td>100</td>\n",
              "    </tr>\n",
              "  </tbody>\n",
              "</table>\n",
              "</div>"
            ],
            "text/plain": [
              "     a   b   c   d    e\n",
              "1    1   2   3   4    5\n",
              "6    6   7   8   9   10\n",
              "11  11  12  13  14   15\n",
              "16  16  17  18  19   20\n",
              "21  21  22  23  24   25\n",
              "26  26  27  28  29   30\n",
              "31  31  32  33  34   35\n",
              "36  36  37  38  39   40\n",
              "41  41  42  43  44   45\n",
              "46  46  47  48  49   50\n",
              "51  51  52  53  54   55\n",
              "56  56  57  58  59   60\n",
              "61  61  62  63  64   65\n",
              "66  66  67  68  69   70\n",
              "71  71  72  73  74   75\n",
              "76  76  77  78  79   80\n",
              "81  81  82  83  84   85\n",
              "86  86  87  88  89   90\n",
              "91  91  92  93  94   95\n",
              "96  96  97  98  99  100"
            ]
          },
          "metadata": {
            "tags": []
          },
          "execution_count": 165
        }
      ]
    },
    {
      "cell_type": "code",
      "metadata": {
        "id": "xAWqfoMQ12G9",
        "colab_type": "code",
        "outputId": "249ff4b9-1a1d-4dba-8402-0284a399643b",
        "colab": {
          "base_uri": "https://localhost:8080/",
          "height": 166
        }
      },
      "source": [
        "frame2"
      ],
      "execution_count": 0,
      "outputs": [
        {
          "output_type": "execute_result",
          "data": {
            "text/html": [
              "<div>\n",
              "<style scoped>\n",
              "    .dataframe tbody tr th:only-of-type {\n",
              "        vertical-align: middle;\n",
              "    }\n",
              "\n",
              "    .dataframe tbody tr th {\n",
              "        vertical-align: top;\n",
              "    }\n",
              "\n",
              "    .dataframe thead th {\n",
              "        text-align: right;\n",
              "    }\n",
              "</style>\n",
              "<table border=\"1\" class=\"dataframe\">\n",
              "  <thead>\n",
              "    <tr style=\"text-align: right;\">\n",
              "      <th></th>\n",
              "      <th>Ohio</th>\n",
              "      <th>Texas</th>\n",
              "      <th>California</th>\n",
              "    </tr>\n",
              "  </thead>\n",
              "  <tbody>\n",
              "    <tr>\n",
              "      <th>a</th>\n",
              "      <td>0.0</td>\n",
              "      <td>1.0</td>\n",
              "      <td>2.0</td>\n",
              "    </tr>\n",
              "    <tr>\n",
              "      <th>b</th>\n",
              "      <td>6.0</td>\n",
              "      <td>4.0</td>\n",
              "      <td>2.0</td>\n",
              "    </tr>\n",
              "    <tr>\n",
              "      <th>c</th>\n",
              "      <td>3.0</td>\n",
              "      <td>4.0</td>\n",
              "      <td>5.0</td>\n",
              "    </tr>\n",
              "    <tr>\n",
              "      <th>d</th>\n",
              "      <td>6.0</td>\n",
              "      <td>7.0</td>\n",
              "      <td>8.0</td>\n",
              "    </tr>\n",
              "  </tbody>\n",
              "</table>\n",
              "</div>"
            ],
            "text/plain": [
              "   Ohio  Texas  California\n",
              "a   0.0    1.0         2.0\n",
              "b   6.0    4.0         2.0\n",
              "c   3.0    4.0         5.0\n",
              "d   6.0    7.0         8.0"
            ]
          },
          "metadata": {
            "tags": []
          },
          "execution_count": 197
        }
      ]
    },
    {
      "cell_type": "code",
      "metadata": {
        "id": "9VotIc7e7RpT",
        "colab_type": "code",
        "outputId": "0d0e023b-1f1b-49f9-be25-561f1477fd53",
        "colab": {
          "base_uri": "https://localhost:8080/",
          "height": 47
        }
      },
      "source": [
        "frame2.loc['a':'d':-1]"
      ],
      "execution_count": 0,
      "outputs": [
        {
          "output_type": "execute_result",
          "data": {
            "text/html": [
              "<div>\n",
              "<style scoped>\n",
              "    .dataframe tbody tr th:only-of-type {\n",
              "        vertical-align: middle;\n",
              "    }\n",
              "\n",
              "    .dataframe tbody tr th {\n",
              "        vertical-align: top;\n",
              "    }\n",
              "\n",
              "    .dataframe thead th {\n",
              "        text-align: right;\n",
              "    }\n",
              "</style>\n",
              "<table border=\"1\" class=\"dataframe\">\n",
              "  <thead>\n",
              "    <tr style=\"text-align: right;\">\n",
              "      <th></th>\n",
              "      <th>Ohio</th>\n",
              "      <th>Texas</th>\n",
              "      <th>California</th>\n",
              "    </tr>\n",
              "  </thead>\n",
              "  <tbody>\n",
              "  </tbody>\n",
              "</table>\n",
              "</div>"
            ],
            "text/plain": [
              "Empty DataFrame\n",
              "Columns: [Ohio, Texas, California]\n",
              "Index: []"
            ]
          },
          "metadata": {
            "tags": []
          },
          "execution_count": 187
        }
      ]
    },
    {
      "cell_type": "code",
      "metadata": {
        "id": "MAXckDV670k5",
        "colab_type": "code",
        "outputId": "ef4e5515-16dd-4936-d2e6-ab7db83868da",
        "colab": {
          "base_uri": "https://localhost:8080/",
          "height": 166
        }
      },
      "source": [
        "frame2.loc[::-1]"
      ],
      "execution_count": 0,
      "outputs": [
        {
          "output_type": "execute_result",
          "data": {
            "text/html": [
              "<div>\n",
              "<style scoped>\n",
              "    .dataframe tbody tr th:only-of-type {\n",
              "        vertical-align: middle;\n",
              "    }\n",
              "\n",
              "    .dataframe tbody tr th {\n",
              "        vertical-align: top;\n",
              "    }\n",
              "\n",
              "    .dataframe thead th {\n",
              "        text-align: right;\n",
              "    }\n",
              "</style>\n",
              "<table border=\"1\" class=\"dataframe\">\n",
              "  <thead>\n",
              "    <tr style=\"text-align: right;\">\n",
              "      <th></th>\n",
              "      <th>Ohio</th>\n",
              "      <th>Texas</th>\n",
              "      <th>California</th>\n",
              "    </tr>\n",
              "  </thead>\n",
              "  <tbody>\n",
              "    <tr>\n",
              "      <th>d</th>\n",
              "      <td>6.0</td>\n",
              "      <td>7.0</td>\n",
              "      <td>8.0</td>\n",
              "    </tr>\n",
              "    <tr>\n",
              "      <th>c</th>\n",
              "      <td>3.0</td>\n",
              "      <td>4.0</td>\n",
              "      <td>5.0</td>\n",
              "    </tr>\n",
              "    <tr>\n",
              "      <th>b</th>\n",
              "      <td>6.0</td>\n",
              "      <td>4.0</td>\n",
              "      <td>2.0</td>\n",
              "    </tr>\n",
              "    <tr>\n",
              "      <th>a</th>\n",
              "      <td>0.0</td>\n",
              "      <td>1.0</td>\n",
              "      <td>2.0</td>\n",
              "    </tr>\n",
              "  </tbody>\n",
              "</table>\n",
              "</div>"
            ],
            "text/plain": [
              "   Ohio  Texas  California\n",
              "d   6.0    7.0         8.0\n",
              "c   3.0    4.0         5.0\n",
              "b   6.0    4.0         2.0\n",
              "a   0.0    1.0         2.0"
            ]
          },
          "metadata": {
            "tags": []
          },
          "execution_count": 188
        }
      ]
    },
    {
      "cell_type": "code",
      "metadata": {
        "id": "WguemVmo8Ly6",
        "colab_type": "code",
        "outputId": "99c5f777-5c82-4aad-ab3d-7dee35edb4dd",
        "colab": {
          "base_uri": "https://localhost:8080/",
          "height": 166
        }
      },
      "source": [
        "frame2.loc[::-1,'Texas'::]"
      ],
      "execution_count": 0,
      "outputs": [
        {
          "output_type": "execute_result",
          "data": {
            "text/html": [
              "<div>\n",
              "<style scoped>\n",
              "    .dataframe tbody tr th:only-of-type {\n",
              "        vertical-align: middle;\n",
              "    }\n",
              "\n",
              "    .dataframe tbody tr th {\n",
              "        vertical-align: top;\n",
              "    }\n",
              "\n",
              "    .dataframe thead th {\n",
              "        text-align: right;\n",
              "    }\n",
              "</style>\n",
              "<table border=\"1\" class=\"dataframe\">\n",
              "  <thead>\n",
              "    <tr style=\"text-align: right;\">\n",
              "      <th></th>\n",
              "      <th>Texas</th>\n",
              "      <th>California</th>\n",
              "    </tr>\n",
              "  </thead>\n",
              "  <tbody>\n",
              "    <tr>\n",
              "      <th>d</th>\n",
              "      <td>7.0</td>\n",
              "      <td>8.0</td>\n",
              "    </tr>\n",
              "    <tr>\n",
              "      <th>c</th>\n",
              "      <td>4.0</td>\n",
              "      <td>5.0</td>\n",
              "    </tr>\n",
              "    <tr>\n",
              "      <th>b</th>\n",
              "      <td>4.0</td>\n",
              "      <td>2.0</td>\n",
              "    </tr>\n",
              "    <tr>\n",
              "      <th>a</th>\n",
              "      <td>1.0</td>\n",
              "      <td>2.0</td>\n",
              "    </tr>\n",
              "  </tbody>\n",
              "</table>\n",
              "</div>"
            ],
            "text/plain": [
              "   Texas  California\n",
              "d    7.0         8.0\n",
              "c    4.0         5.0\n",
              "b    4.0         2.0\n",
              "a    1.0         2.0"
            ]
          },
          "metadata": {
            "tags": []
          },
          "execution_count": 194
        }
      ]
    },
    {
      "cell_type": "code",
      "metadata": {
        "id": "R95GVbII2HIw",
        "colab_type": "code",
        "outputId": "40604b60-5f1e-4a68-d421-93d2284af8f2",
        "colab": {
          "base_uri": "https://localhost:8080/",
          "height": 52
        }
      },
      "source": [
        "print(frame2.loc['c']['California'])\n",
        "print(frame2.loc['c'][2])"
      ],
      "execution_count": 0,
      "outputs": [
        {
          "output_type": "stream",
          "text": [
            "5.0\n",
            "5.0\n"
          ],
          "name": "stdout"
        }
      ]
    },
    {
      "cell_type": "code",
      "metadata": {
        "id": "2tsYhzU125UC",
        "colab_type": "code",
        "outputId": "f614984e-0b6e-4439-90d4-21c8cca2d93e",
        "colab": {
          "base_uri": "https://localhost:8080/",
          "height": 166
        }
      },
      "source": [
        "frame2.loc[::-1,::-1]"
      ],
      "execution_count": 0,
      "outputs": [
        {
          "output_type": "execute_result",
          "data": {
            "text/html": [
              "<div>\n",
              "<style scoped>\n",
              "    .dataframe tbody tr th:only-of-type {\n",
              "        vertical-align: middle;\n",
              "    }\n",
              "\n",
              "    .dataframe tbody tr th {\n",
              "        vertical-align: top;\n",
              "    }\n",
              "\n",
              "    .dataframe thead th {\n",
              "        text-align: right;\n",
              "    }\n",
              "</style>\n",
              "<table border=\"1\" class=\"dataframe\">\n",
              "  <thead>\n",
              "    <tr style=\"text-align: right;\">\n",
              "      <th></th>\n",
              "      <th>California</th>\n",
              "      <th>Texas</th>\n",
              "      <th>Ohio</th>\n",
              "    </tr>\n",
              "  </thead>\n",
              "  <tbody>\n",
              "    <tr>\n",
              "      <th>d</th>\n",
              "      <td>8.0</td>\n",
              "      <td>7.0</td>\n",
              "      <td>6.0</td>\n",
              "    </tr>\n",
              "    <tr>\n",
              "      <th>c</th>\n",
              "      <td>5.0</td>\n",
              "      <td>4.0</td>\n",
              "      <td>3.0</td>\n",
              "    </tr>\n",
              "    <tr>\n",
              "      <th>b</th>\n",
              "      <td>NaN</td>\n",
              "      <td>NaN</td>\n",
              "      <td>NaN</td>\n",
              "    </tr>\n",
              "    <tr>\n",
              "      <th>a</th>\n",
              "      <td>2.0</td>\n",
              "      <td>1.0</td>\n",
              "      <td>0.0</td>\n",
              "    </tr>\n",
              "  </tbody>\n",
              "</table>\n",
              "</div>"
            ],
            "text/plain": [
              "   California  Texas  Ohio\n",
              "d         8.0    7.0   6.0\n",
              "c         5.0    4.0   3.0\n",
              "b         NaN    NaN   NaN\n",
              "a         2.0    1.0   0.0"
            ]
          },
          "metadata": {
            "tags": []
          },
          "execution_count": 169
        }
      ]
    },
    {
      "cell_type": "code",
      "metadata": {
        "id": "RZye-VMc3CKp",
        "colab_type": "code",
        "outputId": "b254eda4-f5af-4447-d909-935bfb5e5224",
        "colab": {
          "base_uri": "https://localhost:8080/",
          "height": 166
        }
      },
      "source": [
        "frame2.iloc[::-1,::-1]"
      ],
      "execution_count": 0,
      "outputs": [
        {
          "output_type": "execute_result",
          "data": {
            "text/html": [
              "<div>\n",
              "<style scoped>\n",
              "    .dataframe tbody tr th:only-of-type {\n",
              "        vertical-align: middle;\n",
              "    }\n",
              "\n",
              "    .dataframe tbody tr th {\n",
              "        vertical-align: top;\n",
              "    }\n",
              "\n",
              "    .dataframe thead th {\n",
              "        text-align: right;\n",
              "    }\n",
              "</style>\n",
              "<table border=\"1\" class=\"dataframe\">\n",
              "  <thead>\n",
              "    <tr style=\"text-align: right;\">\n",
              "      <th></th>\n",
              "      <th>California</th>\n",
              "      <th>Texas</th>\n",
              "      <th>Ohio</th>\n",
              "    </tr>\n",
              "  </thead>\n",
              "  <tbody>\n",
              "    <tr>\n",
              "      <th>d</th>\n",
              "      <td>8.0</td>\n",
              "      <td>7.0</td>\n",
              "      <td>6.0</td>\n",
              "    </tr>\n",
              "    <tr>\n",
              "      <th>c</th>\n",
              "      <td>5.0</td>\n",
              "      <td>4.0</td>\n",
              "      <td>3.0</td>\n",
              "    </tr>\n",
              "    <tr>\n",
              "      <th>b</th>\n",
              "      <td>NaN</td>\n",
              "      <td>NaN</td>\n",
              "      <td>NaN</td>\n",
              "    </tr>\n",
              "    <tr>\n",
              "      <th>a</th>\n",
              "      <td>2.0</td>\n",
              "      <td>1.0</td>\n",
              "      <td>0.0</td>\n",
              "    </tr>\n",
              "  </tbody>\n",
              "</table>\n",
              "</div>"
            ],
            "text/plain": [
              "   California  Texas  Ohio\n",
              "d         8.0    7.0   6.0\n",
              "c         5.0    4.0   3.0\n",
              "b         NaN    NaN   NaN\n",
              "a         2.0    1.0   0.0"
            ]
          },
          "metadata": {
            "tags": []
          },
          "execution_count": 170
        }
      ]
    },
    {
      "cell_type": "code",
      "metadata": {
        "id": "r-hWp-Hx3cb2",
        "colab_type": "code",
        "outputId": "79da5ac8-956d-40d8-d399-52482d89aebf",
        "colab": {
          "base_uri": "https://localhost:8080/",
          "height": 136
        }
      },
      "source": [
        "frame2.loc['a':'c']\n"
      ],
      "execution_count": 0,
      "outputs": [
        {
          "output_type": "execute_result",
          "data": {
            "text/html": [
              "<div>\n",
              "<style scoped>\n",
              "    .dataframe tbody tr th:only-of-type {\n",
              "        vertical-align: middle;\n",
              "    }\n",
              "\n",
              "    .dataframe tbody tr th {\n",
              "        vertical-align: top;\n",
              "    }\n",
              "\n",
              "    .dataframe thead th {\n",
              "        text-align: right;\n",
              "    }\n",
              "</style>\n",
              "<table border=\"1\" class=\"dataframe\">\n",
              "  <thead>\n",
              "    <tr style=\"text-align: right;\">\n",
              "      <th></th>\n",
              "      <th>Ohio</th>\n",
              "      <th>Texas</th>\n",
              "      <th>California</th>\n",
              "    </tr>\n",
              "  </thead>\n",
              "  <tbody>\n",
              "    <tr>\n",
              "      <th>a</th>\n",
              "      <td>0.0</td>\n",
              "      <td>1.0</td>\n",
              "      <td>2.0</td>\n",
              "    </tr>\n",
              "    <tr>\n",
              "      <th>b</th>\n",
              "      <td>NaN</td>\n",
              "      <td>NaN</td>\n",
              "      <td>NaN</td>\n",
              "    </tr>\n",
              "    <tr>\n",
              "      <th>c</th>\n",
              "      <td>3.0</td>\n",
              "      <td>4.0</td>\n",
              "      <td>5.0</td>\n",
              "    </tr>\n",
              "  </tbody>\n",
              "</table>\n",
              "</div>"
            ],
            "text/plain": [
              "   Ohio  Texas  California\n",
              "a   0.0    1.0         2.0\n",
              "b   NaN    NaN         NaN\n",
              "c   3.0    4.0         5.0"
            ]
          },
          "metadata": {
            "tags": []
          },
          "execution_count": 172
        }
      ]
    },
    {
      "cell_type": "code",
      "metadata": {
        "id": "zf6IzJGs3psp",
        "colab_type": "code",
        "outputId": "a27d2d97-19f7-4746-d732-1fa86466967b",
        "colab": {
          "base_uri": "https://localhost:8080/",
          "height": 106
        }
      },
      "source": [
        "frame2.iloc[0:2]"
      ],
      "execution_count": 0,
      "outputs": [
        {
          "output_type": "execute_result",
          "data": {
            "text/html": [
              "<div>\n",
              "<style scoped>\n",
              "    .dataframe tbody tr th:only-of-type {\n",
              "        vertical-align: middle;\n",
              "    }\n",
              "\n",
              "    .dataframe tbody tr th {\n",
              "        vertical-align: top;\n",
              "    }\n",
              "\n",
              "    .dataframe thead th {\n",
              "        text-align: right;\n",
              "    }\n",
              "</style>\n",
              "<table border=\"1\" class=\"dataframe\">\n",
              "  <thead>\n",
              "    <tr style=\"text-align: right;\">\n",
              "      <th></th>\n",
              "      <th>Ohio</th>\n",
              "      <th>Texas</th>\n",
              "      <th>California</th>\n",
              "    </tr>\n",
              "  </thead>\n",
              "  <tbody>\n",
              "    <tr>\n",
              "      <th>a</th>\n",
              "      <td>0.0</td>\n",
              "      <td>1.0</td>\n",
              "      <td>2.0</td>\n",
              "    </tr>\n",
              "    <tr>\n",
              "      <th>b</th>\n",
              "      <td>NaN</td>\n",
              "      <td>NaN</td>\n",
              "      <td>NaN</td>\n",
              "    </tr>\n",
              "  </tbody>\n",
              "</table>\n",
              "</div>"
            ],
            "text/plain": [
              "   Ohio  Texas  California\n",
              "a   0.0    1.0         2.0\n",
              "b   NaN    NaN         NaN"
            ]
          },
          "metadata": {
            "tags": []
          },
          "execution_count": 174
        }
      ]
    },
    {
      "cell_type": "code",
      "metadata": {
        "id": "YjL_aEOE3w8z",
        "colab_type": "code",
        "outputId": "63b79356-a8a4-4007-a70f-dccd7d14710b",
        "colab": {
          "base_uri": "https://localhost:8080/",
          "height": 166
        }
      },
      "source": [
        "frame2.loc['b'][0] = 2\n",
        "frame2"
      ],
      "execution_count": 0,
      "outputs": [
        {
          "output_type": "execute_result",
          "data": {
            "text/html": [
              "<div>\n",
              "<style scoped>\n",
              "    .dataframe tbody tr th:only-of-type {\n",
              "        vertical-align: middle;\n",
              "    }\n",
              "\n",
              "    .dataframe tbody tr th {\n",
              "        vertical-align: top;\n",
              "    }\n",
              "\n",
              "    .dataframe thead th {\n",
              "        text-align: right;\n",
              "    }\n",
              "</style>\n",
              "<table border=\"1\" class=\"dataframe\">\n",
              "  <thead>\n",
              "    <tr style=\"text-align: right;\">\n",
              "      <th></th>\n",
              "      <th>Ohio</th>\n",
              "      <th>Texas</th>\n",
              "      <th>California</th>\n",
              "    </tr>\n",
              "  </thead>\n",
              "  <tbody>\n",
              "    <tr>\n",
              "      <th>a</th>\n",
              "      <td>0.0</td>\n",
              "      <td>1.0</td>\n",
              "      <td>2.0</td>\n",
              "    </tr>\n",
              "    <tr>\n",
              "      <th>b</th>\n",
              "      <td>2.0</td>\n",
              "      <td>NaN</td>\n",
              "      <td>NaN</td>\n",
              "    </tr>\n",
              "    <tr>\n",
              "      <th>c</th>\n",
              "      <td>3.0</td>\n",
              "      <td>4.0</td>\n",
              "      <td>5.0</td>\n",
              "    </tr>\n",
              "    <tr>\n",
              "      <th>d</th>\n",
              "      <td>6.0</td>\n",
              "      <td>7.0</td>\n",
              "      <td>8.0</td>\n",
              "    </tr>\n",
              "  </tbody>\n",
              "</table>\n",
              "</div>"
            ],
            "text/plain": [
              "   Ohio  Texas  California\n",
              "a   0.0    1.0         2.0\n",
              "b   2.0    NaN         NaN\n",
              "c   3.0    4.0         5.0\n",
              "d   6.0    7.0         8.0"
            ]
          },
          "metadata": {
            "tags": []
          },
          "execution_count": 175
        }
      ]
    },
    {
      "cell_type": "code",
      "metadata": {
        "id": "PAwJh5mA3253",
        "colab_type": "code",
        "outputId": "559bb437-f8c6-4cc8-ed4c-9adf0ed39f2f",
        "colab": {
          "base_uri": "https://localhost:8080/",
          "height": 166
        }
      },
      "source": [
        "frame2.loc['b'][1:] = [4,6]\n",
        "frame2"
      ],
      "execution_count": 0,
      "outputs": [
        {
          "output_type": "execute_result",
          "data": {
            "text/html": [
              "<div>\n",
              "<style scoped>\n",
              "    .dataframe tbody tr th:only-of-type {\n",
              "        vertical-align: middle;\n",
              "    }\n",
              "\n",
              "    .dataframe tbody tr th {\n",
              "        vertical-align: top;\n",
              "    }\n",
              "\n",
              "    .dataframe thead th {\n",
              "        text-align: right;\n",
              "    }\n",
              "</style>\n",
              "<table border=\"1\" class=\"dataframe\">\n",
              "  <thead>\n",
              "    <tr style=\"text-align: right;\">\n",
              "      <th></th>\n",
              "      <th>Ohio</th>\n",
              "      <th>Texas</th>\n",
              "      <th>California</th>\n",
              "    </tr>\n",
              "  </thead>\n",
              "  <tbody>\n",
              "    <tr>\n",
              "      <th>a</th>\n",
              "      <td>0.0</td>\n",
              "      <td>1.0</td>\n",
              "      <td>2.0</td>\n",
              "    </tr>\n",
              "    <tr>\n",
              "      <th>b</th>\n",
              "      <td>2.0</td>\n",
              "      <td>4.0</td>\n",
              "      <td>6.0</td>\n",
              "    </tr>\n",
              "    <tr>\n",
              "      <th>c</th>\n",
              "      <td>3.0</td>\n",
              "      <td>4.0</td>\n",
              "      <td>5.0</td>\n",
              "    </tr>\n",
              "    <tr>\n",
              "      <th>d</th>\n",
              "      <td>6.0</td>\n",
              "      <td>7.0</td>\n",
              "      <td>8.0</td>\n",
              "    </tr>\n",
              "  </tbody>\n",
              "</table>\n",
              "</div>"
            ],
            "text/plain": [
              "   Ohio  Texas  California\n",
              "a   0.0    1.0         2.0\n",
              "b   2.0    4.0         6.0\n",
              "c   3.0    4.0         5.0\n",
              "d   6.0    7.0         8.0"
            ]
          },
          "metadata": {
            "tags": []
          },
          "execution_count": 176
        }
      ]
    },
    {
      "cell_type": "code",
      "metadata": {
        "id": "SnpXkqgY4Gm9",
        "colab_type": "code",
        "outputId": "fcd7571e-995d-403b-8925-1301c183005d",
        "colab": {
          "base_uri": "https://localhost:8080/",
          "height": 166
        }
      },
      "source": [
        "frame2.loc['b'][[2,0]] = frame2.loc['b'][[0,2]]\n",
        "frame2"
      ],
      "execution_count": 0,
      "outputs": [
        {
          "output_type": "execute_result",
          "data": {
            "text/html": [
              "<div>\n",
              "<style scoped>\n",
              "    .dataframe tbody tr th:only-of-type {\n",
              "        vertical-align: middle;\n",
              "    }\n",
              "\n",
              "    .dataframe tbody tr th {\n",
              "        vertical-align: top;\n",
              "    }\n",
              "\n",
              "    .dataframe thead th {\n",
              "        text-align: right;\n",
              "    }\n",
              "</style>\n",
              "<table border=\"1\" class=\"dataframe\">\n",
              "  <thead>\n",
              "    <tr style=\"text-align: right;\">\n",
              "      <th></th>\n",
              "      <th>Ohio</th>\n",
              "      <th>Texas</th>\n",
              "      <th>California</th>\n",
              "    </tr>\n",
              "  </thead>\n",
              "  <tbody>\n",
              "    <tr>\n",
              "      <th>a</th>\n",
              "      <td>0.0</td>\n",
              "      <td>1.0</td>\n",
              "      <td>2.0</td>\n",
              "    </tr>\n",
              "    <tr>\n",
              "      <th>b</th>\n",
              "      <td>2.0</td>\n",
              "      <td>4.0</td>\n",
              "      <td>6.0</td>\n",
              "    </tr>\n",
              "    <tr>\n",
              "      <th>c</th>\n",
              "      <td>3.0</td>\n",
              "      <td>4.0</td>\n",
              "      <td>5.0</td>\n",
              "    </tr>\n",
              "    <tr>\n",
              "      <th>d</th>\n",
              "      <td>6.0</td>\n",
              "      <td>7.0</td>\n",
              "      <td>8.0</td>\n",
              "    </tr>\n",
              "  </tbody>\n",
              "</table>\n",
              "</div>"
            ],
            "text/plain": [
              "   Ohio  Texas  California\n",
              "a   0.0    1.0         2.0\n",
              "b   2.0    4.0         6.0\n",
              "c   3.0    4.0         5.0\n",
              "d   6.0    7.0         8.0"
            ]
          },
          "metadata": {
            "tags": []
          },
          "execution_count": 198
        }
      ]
    },
    {
      "cell_type": "code",
      "metadata": {
        "id": "t_Q5twth6ZK7",
        "colab_type": "code",
        "outputId": "2fe21ba6-bd10-4563-93a1-a03ba069fadd",
        "colab": {
          "base_uri": "https://localhost:8080/",
          "height": 185
        }
      },
      "source": [
        ""
      ],
      "execution_count": 0,
      "outputs": [
        {
          "output_type": "error",
          "ename": "NameError",
          "evalue": "ignored",
          "traceback": [
            "\u001b[0;31m---------------------------------------------------------------------------\u001b[0m",
            "\u001b[0;31mNameError\u001b[0m                                 Traceback (most recent call last)",
            "\u001b[0;32m<ipython-input-186-7dfe8a2d4c27>\u001b[0m in \u001b[0;36m<module>\u001b[0;34m()\u001b[0m\n\u001b[0;32m----> 1\u001b[0;31m \u001b[0ms2\u001b[0m \u001b[0;34m=\u001b[0m \u001b[0mpd\u001b[0m\u001b[0;34m.\u001b[0m\u001b[0mSeries\u001b[0m\u001b[0;34m(\u001b[0m\u001b[0;34m[\u001b[0m\u001b[0mNan\u001b[0m\u001b[0;34m,\u001b[0m\u001b[0mNan\u001b[0m\u001b[0;34m,\u001b[0m\u001b[0mNan\u001b[0m\u001b[0;34m,\u001b[0m\u001b[0mNan\u001b[0m\u001b[0;34m]\u001b[0m\u001b[0;34m)\u001b[0m\u001b[0;34m\u001b[0m\u001b[0;34m\u001b[0m\u001b[0m\n\u001b[0m\u001b[1;32m      2\u001b[0m \u001b[0mframe2\u001b[0m \u001b[0;34m=\u001b[0m \u001b[0mframe2\u001b[0m\u001b[0;34m.\u001b[0m\u001b[0mappend\u001b[0m\u001b[0;34m(\u001b[0m\u001b[0ms2\u001b[0m\u001b[0;34m)\u001b[0m\u001b[0;34m\u001b[0m\u001b[0;34m\u001b[0m\u001b[0m\n",
            "\u001b[0;31mNameError\u001b[0m: name 'Nan' is not defined"
          ]
        }
      ]
    },
    {
      "cell_type": "code",
      "metadata": {
        "id": "bgjUhmMt6QPZ",
        "colab_type": "code",
        "outputId": "34140196-8816-4437-bda5-0c2e1cdee9b6",
        "colab": {
          "base_uri": "https://localhost:8080/",
          "height": 34
        }
      },
      "source": [
        "frame2['Texas'][1] + 5\n"
      ],
      "execution_count": 0,
      "outputs": [
        {
          "output_type": "execute_result",
          "data": {
            "text/plain": [
              "9.0"
            ]
          },
          "metadata": {
            "tags": []
          },
          "execution_count": 179
        }
      ]
    },
    {
      "cell_type": "markdown",
      "metadata": {
        "id": "vzzEl3nG-N1G",
        "colab_type": "text"
      },
      "source": [
        "nan + any number = nan <br>\n",
        "nan + nan = nan <br>\n",
        "nan - any number = nan <br> \n"
      ]
    },
    {
      "cell_type": "code",
      "metadata": {
        "id": "q_aRKmnG_ILA",
        "colab_type": "code",
        "outputId": "bb375d08-1291-4b38-8f68-5d790af91091",
        "colab": {
          "base_uri": "https://localhost:8080/",
          "height": 34
        }
      },
      "source": [
        "abs(-4)"
      ],
      "execution_count": 0,
      "outputs": [
        {
          "output_type": "execute_result",
          "data": {
            "text/plain": [
              "4"
            ]
          },
          "metadata": {
            "tags": []
          },
          "execution_count": 199
        }
      ]
    },
    {
      "cell_type": "code",
      "metadata": {
        "id": "-KWaq3bV_KvQ",
        "colab_type": "code",
        "outputId": "a10ce8a1-070d-4569-d71a-7129131dfe8d",
        "colab": {
          "base_uri": "https://localhost:8080/",
          "height": 34
        }
      },
      "source": [
        "abs(4)"
      ],
      "execution_count": 0,
      "outputs": [
        {
          "output_type": "execute_result",
          "data": {
            "text/plain": [
              "4"
            ]
          },
          "metadata": {
            "tags": []
          },
          "execution_count": 200
        }
      ]
    },
    {
      "cell_type": "markdown",
      "metadata": {
        "id": "d2sZ4BiC_RFo",
        "colab_type": "text"
      },
      "source": [
        "###Checking nan"
      ]
    },
    {
      "cell_type": "code",
      "metadata": {
        "id": "ivxHxDq2_PEt",
        "colab_type": "code",
        "outputId": "6964e4ac-c09b-4edf-e73e-3b2e1989d927",
        "colab": {
          "base_uri": "https://localhost:8080/",
          "height": 166
        }
      },
      "source": [
        "frame2.isna()"
      ],
      "execution_count": 0,
      "outputs": [
        {
          "output_type": "execute_result",
          "data": {
            "text/html": [
              "<div>\n",
              "<style scoped>\n",
              "    .dataframe tbody tr th:only-of-type {\n",
              "        vertical-align: middle;\n",
              "    }\n",
              "\n",
              "    .dataframe tbody tr th {\n",
              "        vertical-align: top;\n",
              "    }\n",
              "\n",
              "    .dataframe thead th {\n",
              "        text-align: right;\n",
              "    }\n",
              "</style>\n",
              "<table border=\"1\" class=\"dataframe\">\n",
              "  <thead>\n",
              "    <tr style=\"text-align: right;\">\n",
              "      <th></th>\n",
              "      <th>Ohio</th>\n",
              "      <th>Texas</th>\n",
              "      <th>California</th>\n",
              "    </tr>\n",
              "  </thead>\n",
              "  <tbody>\n",
              "    <tr>\n",
              "      <th>a</th>\n",
              "      <td>False</td>\n",
              "      <td>False</td>\n",
              "      <td>False</td>\n",
              "    </tr>\n",
              "    <tr>\n",
              "      <th>b</th>\n",
              "      <td>False</td>\n",
              "      <td>False</td>\n",
              "      <td>False</td>\n",
              "    </tr>\n",
              "    <tr>\n",
              "      <th>c</th>\n",
              "      <td>False</td>\n",
              "      <td>False</td>\n",
              "      <td>False</td>\n",
              "    </tr>\n",
              "    <tr>\n",
              "      <th>d</th>\n",
              "      <td>False</td>\n",
              "      <td>False</td>\n",
              "      <td>False</td>\n",
              "    </tr>\n",
              "  </tbody>\n",
              "</table>\n",
              "</div>"
            ],
            "text/plain": [
              "    Ohio  Texas  California\n",
              "a  False  False       False\n",
              "b  False  False       False\n",
              "c  False  False       False\n",
              "d  False  False       False"
            ]
          },
          "metadata": {
            "tags": []
          },
          "execution_count": 201
        }
      ]
    },
    {
      "cell_type": "code",
      "metadata": {
        "id": "ixWAnAhv_bNV",
        "colab_type": "code",
        "outputId": "0002df75-96e1-44a3-ddcf-eed03f9bf567",
        "colab": {
          "base_uri": "https://localhost:8080/",
          "height": 166
        }
      },
      "source": [
        "frame2[frame2>3]"
      ],
      "execution_count": 0,
      "outputs": [
        {
          "output_type": "execute_result",
          "data": {
            "text/html": [
              "<div>\n",
              "<style scoped>\n",
              "    .dataframe tbody tr th:only-of-type {\n",
              "        vertical-align: middle;\n",
              "    }\n",
              "\n",
              "    .dataframe tbody tr th {\n",
              "        vertical-align: top;\n",
              "    }\n",
              "\n",
              "    .dataframe thead th {\n",
              "        text-align: right;\n",
              "    }\n",
              "</style>\n",
              "<table border=\"1\" class=\"dataframe\">\n",
              "  <thead>\n",
              "    <tr style=\"text-align: right;\">\n",
              "      <th></th>\n",
              "      <th>Ohio</th>\n",
              "      <th>Texas</th>\n",
              "      <th>California</th>\n",
              "    </tr>\n",
              "  </thead>\n",
              "  <tbody>\n",
              "    <tr>\n",
              "      <th>a</th>\n",
              "      <td>NaN</td>\n",
              "      <td>NaN</td>\n",
              "      <td>NaN</td>\n",
              "    </tr>\n",
              "    <tr>\n",
              "      <th>b</th>\n",
              "      <td>NaN</td>\n",
              "      <td>4.0</td>\n",
              "      <td>6.0</td>\n",
              "    </tr>\n",
              "    <tr>\n",
              "      <th>c</th>\n",
              "      <td>NaN</td>\n",
              "      <td>4.0</td>\n",
              "      <td>5.0</td>\n",
              "    </tr>\n",
              "    <tr>\n",
              "      <th>d</th>\n",
              "      <td>6.0</td>\n",
              "      <td>7.0</td>\n",
              "      <td>8.0</td>\n",
              "    </tr>\n",
              "  </tbody>\n",
              "</table>\n",
              "</div>"
            ],
            "text/plain": [
              "   Ohio  Texas  California\n",
              "a   NaN    NaN         NaN\n",
              "b   NaN    4.0         6.0\n",
              "c   NaN    4.0         5.0\n",
              "d   6.0    7.0         8.0"
            ]
          },
          "metadata": {
            "tags": []
          },
          "execution_count": 203
        }
      ]
    },
    {
      "cell_type": "code",
      "metadata": {
        "id": "YCsndI3__zv1",
        "colab_type": "code",
        "outputId": "9d70e259-9b83-41c2-a559-9b1bc58934c5",
        "colab": {
          "base_uri": "https://localhost:8080/",
          "height": 166
        }
      },
      "source": [
        "frame2.isnull()"
      ],
      "execution_count": 0,
      "outputs": [
        {
          "output_type": "execute_result",
          "data": {
            "text/html": [
              "<div>\n",
              "<style scoped>\n",
              "    .dataframe tbody tr th:only-of-type {\n",
              "        vertical-align: middle;\n",
              "    }\n",
              "\n",
              "    .dataframe tbody tr th {\n",
              "        vertical-align: top;\n",
              "    }\n",
              "\n",
              "    .dataframe thead th {\n",
              "        text-align: right;\n",
              "    }\n",
              "</style>\n",
              "<table border=\"1\" class=\"dataframe\">\n",
              "  <thead>\n",
              "    <tr style=\"text-align: right;\">\n",
              "      <th></th>\n",
              "      <th>Ohio</th>\n",
              "      <th>Texas</th>\n",
              "      <th>California</th>\n",
              "    </tr>\n",
              "  </thead>\n",
              "  <tbody>\n",
              "    <tr>\n",
              "      <th>a</th>\n",
              "      <td>False</td>\n",
              "      <td>False</td>\n",
              "      <td>False</td>\n",
              "    </tr>\n",
              "    <tr>\n",
              "      <th>b</th>\n",
              "      <td>False</td>\n",
              "      <td>False</td>\n",
              "      <td>False</td>\n",
              "    </tr>\n",
              "    <tr>\n",
              "      <th>c</th>\n",
              "      <td>False</td>\n",
              "      <td>False</td>\n",
              "      <td>False</td>\n",
              "    </tr>\n",
              "    <tr>\n",
              "      <th>d</th>\n",
              "      <td>False</td>\n",
              "      <td>False</td>\n",
              "      <td>False</td>\n",
              "    </tr>\n",
              "  </tbody>\n",
              "</table>\n",
              "</div>"
            ],
            "text/plain": [
              "    Ohio  Texas  California\n",
              "a  False  False       False\n",
              "b  False  False       False\n",
              "c  False  False       False\n",
              "d  False  False       False"
            ]
          },
          "metadata": {
            "tags": []
          },
          "execution_count": 204
        }
      ]
    },
    {
      "cell_type": "markdown",
      "metadata": {
        "id": "0BdHgO1d_8QC",
        "colab_type": "text"
      },
      "source": [
        "##fillna fills Nan with a specific number <br>\n",
        "frame.fillna(num, inplace = True) <br>\n",
        "inplace removes Nan and replaces the num in orignal <br>\n",
        "without inplace Nan is replaced only in runtime not in orignal <br> \n",
        "###dropna drops the column "
      ]
    },
    {
      "cell_type": "code",
      "metadata": {
        "id": "dat_sFTE_4JZ",
        "colab_type": "code",
        "outputId": "638d2646-76be-404f-fafa-8096d2e8e2f8",
        "colab": {
          "base_uri": "https://localhost:8080/",
          "height": 166
        }
      },
      "source": [
        "frame2.fillna(2)"
      ],
      "execution_count": 0,
      "outputs": [
        {
          "output_type": "execute_result",
          "data": {
            "text/html": [
              "<div>\n",
              "<style scoped>\n",
              "    .dataframe tbody tr th:only-of-type {\n",
              "        vertical-align: middle;\n",
              "    }\n",
              "\n",
              "    .dataframe tbody tr th {\n",
              "        vertical-align: top;\n",
              "    }\n",
              "\n",
              "    .dataframe thead th {\n",
              "        text-align: right;\n",
              "    }\n",
              "</style>\n",
              "<table border=\"1\" class=\"dataframe\">\n",
              "  <thead>\n",
              "    <tr style=\"text-align: right;\">\n",
              "      <th></th>\n",
              "      <th>Ohio</th>\n",
              "      <th>Texas</th>\n",
              "      <th>California</th>\n",
              "    </tr>\n",
              "  </thead>\n",
              "  <tbody>\n",
              "    <tr>\n",
              "      <th>a</th>\n",
              "      <td>0.0</td>\n",
              "      <td>1.0</td>\n",
              "      <td>2.0</td>\n",
              "    </tr>\n",
              "    <tr>\n",
              "      <th>b</th>\n",
              "      <td>2.0</td>\n",
              "      <td>4.0</td>\n",
              "      <td>6.0</td>\n",
              "    </tr>\n",
              "    <tr>\n",
              "      <th>c</th>\n",
              "      <td>3.0</td>\n",
              "      <td>4.0</td>\n",
              "      <td>5.0</td>\n",
              "    </tr>\n",
              "    <tr>\n",
              "      <th>d</th>\n",
              "      <td>6.0</td>\n",
              "      <td>7.0</td>\n",
              "      <td>8.0</td>\n",
              "    </tr>\n",
              "  </tbody>\n",
              "</table>\n",
              "</div>"
            ],
            "text/plain": [
              "   Ohio  Texas  California\n",
              "a   0.0    1.0         2.0\n",
              "b   2.0    4.0         6.0\n",
              "c   3.0    4.0         5.0\n",
              "d   6.0    7.0         8.0"
            ]
          },
          "metadata": {
            "tags": []
          },
          "execution_count": 205
        }
      ]
    }
  ]
}